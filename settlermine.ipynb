{
 "cells": [
  {
   "cell_type": "code",
   "execution_count": 4,
   "metadata": {},
   "outputs": [],
   "source": [
    "import numpy as np\n",
    "import pandas as pd\n",
    "import scipy\n",
    "import matplotlib.pyplot as plt\n",
    "import seaborn as sns"
   ]
  },
  {
   "cell_type": "code",
   "execution_count": 16,
   "metadata": {},
   "outputs": [],
   "source": [
    "def read_data(filepath: str, offset: int = 0, data_length: int = None, data_type: str ='int16') -> pd.DataFrame:\n",
    "    \"\"\"Фукнция для считывания данных из бинарных файлов\n",
    "\n",
    "    Args:\n",
    "        filepath (str): Путь до файла.\n",
    "        offset (int, optional): Количество наблюдений, которое нужно пропустить сначала. Defaults to 0.\n",
    "        data_length (int, optional): Необходимое количество наблюдений. Если не передавать никакого значения, будут считаны все данные, начиная с offset. Defaults to None.\n",
    "        data_type (str, optional): Тип данных. Defaults to 'int16'.\n",
    "\n",
    "    Returns:\n",
    "        pd.DataFrame: Итоговая таблица. Столбцы A, B, C, D отвечают за данные с четырех пикапов.\n",
    "    \"\"\"\n",
    "\n",
    "    # Считывание данных в один вектор\n",
    "    line_data = np.fromfile(filepath, dtype=data_type)\n",
    "    # Разделение вектора на четыре столбца матрицы, каждый из которых соответствует пикапу\n",
    "    data = line_data.reshape(-1, 4)\n",
    "    # Формирование датафрейма на основе предыдущей матрицы\n",
    "    data = pd.DataFrame(data, columns=['A', 'B', 'C', 'D'])\n",
    "    # Если не передано никакого значения в data_length, то будут браться все значение, начиная с offset\n",
    "    if data_length is None: data_length = len(data) - offset\n",
    "    # Из полученного датафрейма делается срез, начиная с offset, длинной data_length. в котором сбрасываются индесы (чтобы они начинались с нуля)\n",
    "    data = data.iloc[offset: offset + data_length].reset_index().drop('index', axis=1)\n",
    "    return data"
   ]
  },
  {
   "cell_type": "code",
   "execution_count": 18,
   "metadata": {},
   "outputs": [],
   "source": [
    "def find_period_length_fft(data: np.ndarray, **kwargs) -> float:\n",
    "    \"\"\"Вычисление длины периода в заданном веторе данных.\n",
    "\n",
    "    Args:\n",
    "        data (np.ndarray): Вектор данных.\n",
    "        **kwargs: Дополнительные ключевые аргументы - параметры для метода Фурье.\n",
    "                Подробнее можно прочитать на https://docs.scipy.org/doc/scipy/reference/generated/scipy.fft.fft.html#scipy-fft-fft\n",
    "\n",
    "    Returns:\n",
    "        float: Значение периода. Может получиться дробным.\n",
    "    \"\"\"\n",
    "\n",
    "    # Применение прямого преобразования метода Фурье к данным\n",
    "    yf = scipy.fft.fft(data, **kwargs)\n",
    "    # Поиск индекса максимального значения в абсолютных величинах преобразованного вектора\n",
    "    idx = np.argmax(np.abs(yf))\n",
    "    # Нахождение длины периода, путем деления длины исходных данных на индекс максимального значения\n",
    "    period = len(data)/idx\n",
    "    return period"
   ]
  },
  {
   "cell_type": "code",
   "execution_count": 25,
   "metadata": {},
   "outputs": [],
   "source": [
    "def get_mass_center_positions(summary_resonace: np.ndarray, difference_resonance: np.ndarray, period_length: float) -> np.ndarray:\n",
    "    \"\"\"Фукнция для вычисления координат центра масс по заданным суммарным и разностным резонансом для одной из осей.\n",
    "\n",
    "    Args:\n",
    "        summary_resonace (np.ndarray): Вектор суммарных резонансов по одной из осей.\n",
    "        difference_resonance (np.ndarray): Вектор разностных резонансов по той же самой оси.\n",
    "        period_length (float): Длина периода. Может быть дробной.\n",
    "\n",
    "    Returns:\n",
    "        np.ndarray: Вектор со значениями координаты центра масс для каждого из периодов по заданной оси.\n",
    "    \"\"\"\n",
    "\n",
    "    # Вычисление общего количества периодов\n",
    "    number_of_periods = int(len(summary_resonace) / period_length)\n",
    "    # Задания вектора, с количеством элементов, равным числу периодов, для хранения полученных координат. Изначально заполнен нулями\n",
    "    mass_center_positions = np.zeros(number_of_periods)\n",
    " \n",
    "    # Запускаем цикл от 0 до number_of_periods-1 включительно с шагом 1. Грубо говоря, этим циклом мы пробегаемся по всем периодам\n",
    "    for i in range(number_of_periods):\n",
    "\n",
    "        # Находим срез, соответсвующий текущему периоду, для векторов summary_resonance и difference_resonance.\n",
    "        # ВАЖНАЯ ДЕТАЛЬ. В данном случае, вручную задается тип int64, так как происходит переполнение изначального типа int16 при возведении значений в квадрат\n",
    "        summary_resonance_period_slice = np.array(summary_resonace, 'int64')[int(i*period_length): int((i+1)*period_length)] \n",
    "        difference_resonance_period_slice = np.array(difference_resonance, 'int64')[int(i*period_length): int((i+1)*period_length)] \n",
    " \n",
    "        # Вычисление промежуточных параметров. Автор не особо осведомлен об их природе, поэтому тут могут потребоваться дополнительные пояснения\n",
    "        m_11 = float(np.sum(summary_resonance_period_slice**2))\n",
    "        m_12 = float(np.sum(summary_resonance_period_slice)) \n",
    " \n",
    "        y_1 = float(summary_resonance_period_slice @ difference_resonance_period_slice) \n",
    "        y_2 = float(np.sum(difference_resonance_period_slice)) \n",
    "\n",
    "        # Вычисление значения координаты центра масс для текущего периода. Добавление ее в итоговый вектор\n",
    "        mass_center_positions[i] = ((m_12 * y_2) - (np.floor(period_length) * y_1)) / (m_12 ** 2 - m_11 * np.floor(period_length)) \n",
    " \n",
    "    return mass_center_positions"
   ]
  },
  {
   "cell_type": "code",
   "execution_count": 111,
   "metadata": {},
   "outputs": [],
   "source": [
    "def find_velocity(coordinate_vector, empiric_coefficient, data_length=256, skip_coefficient=3):\n",
    "    fourier_transformed_vector = scipy.fft.fft(np.array(coordinate_vector)[:data_length]) / data_length\n",
    "    sliced_fourier_transformed_vector = np.concatenate([np.zeros(skip_coefficient), fourier_transformed_vector[3: int(empiric_coefficient*data_length)]])\n",
    "    impulse = np.argmax(np.abs(sliced_fourier_transformed_vector))\n",
    "    velocity = impulse / data_length\n",
    "    return velocity"
   ]
  },
  {
   "cell_type": "code",
   "execution_count": 112,
   "metadata": {},
   "outputs": [
    {
     "data": {
      "text/plain": [
       "0.203125"
      ]
     },
     "execution_count": 112,
     "metadata": {},
     "output_type": "execute_result"
    }
   ],
   "source": [
    "find_velocity(y, 0.5)"
   ]
  },
  {
   "cell_type": "code",
   "execution_count": 83,
   "metadata": {},
   "outputs": [
    {
     "data": {
      "text/plain": [
       "array([-1.38295148e-02-0.00000000e+00j, -1.90240438e-04-1.38224903e-03j,\n",
       "       -3.96017238e-04-1.40501337e-03j, -1.10365727e-04-2.13489952e-04j,\n",
       "       -4.40974319e-04-3.53369838e-04j, -8.29625939e-04-1.26190672e-03j,\n",
       "        8.80555585e-05+2.63018517e-05j,  3.44558011e-04+1.01851913e-03j,\n",
       "        3.18435669e-04-1.44025052e-04j,  2.87270246e-04+4.25895267e-04j,\n",
       "        4.27703586e-04+3.94157824e-04j, -1.09395125e-03+7.28955594e-04j,\n",
       "       -7.02985404e-04-4.17967369e-04j,  2.70095734e-04-1.53785924e-04j,\n",
       "        2.66829588e-04-4.79878815e-04j, -1.46660923e-04-3.89397715e-04j,\n",
       "        2.27435366e-04+5.25505185e-04j, -1.46901892e-04+1.06106385e-04j,\n",
       "       -4.21899857e-04+4.78255801e-04j, -1.21269230e-03+1.45236401e-03j,\n",
       "       -1.40380013e-03+5.64794265e-04j, -1.20818497e-03-2.45743291e-04j,\n",
       "       -3.97561289e-04+1.01382764e-03j, -7.83634166e-04+4.79535448e-04j,\n",
       "       -1.03055229e-03+1.34094973e-03j, -1.84174317e-05+1.04391961e-03j,\n",
       "       -2.28151246e-04+2.15510982e-03j, -1.97513676e-04+2.73031610e-03j,\n",
       "        1.18605077e-03+2.80721669e-03j,  3.00682192e-03+3.53816708e-03j,\n",
       "        4.21582866e-03+1.07630855e-03j,  3.23242504e-03+3.81279407e-04j,\n",
       "        2.09160461e-03-5.11767338e-04j,  1.95827040e-03-1.18786687e-04j,\n",
       "        1.40622353e-03-1.96045723e-03j,  4.45504590e-04-9.09445793e-04j,\n",
       "        5.52674766e-04-1.14821367e-03j,  3.39027024e-04-6.83864794e-04j,\n",
       "       -3.61627949e-04-9.36400143e-04j,  2.31408264e-04-3.52834271e-04j,\n",
       "        5.33523615e-05-2.60508183e-04j,  7.28426820e-04-7.26539115e-04j,\n",
       "        8.69411824e-04-5.05494142e-04j, -3.18644838e-04-1.03543806e-04j,\n",
       "        2.27503779e-04-1.08683605e-03j,  1.99869072e-04+1.74055809e-04j,\n",
       "        2.93610945e-05-1.20456841e-04j,  8.09857788e-04-6.83606141e-04j,\n",
       "       -2.59152604e-04-5.84410535e-04j,  6.34528653e-04+4.05543225e-04j,\n",
       "        7.35813682e-05-2.52363385e-04j, -6.01267390e-04-4.51516110e-04j,\n",
       "       -1.66685515e-03-1.11185623e-03j,  4.39319692e-04+6.18764407e-04j,\n",
       "        1.42866905e-04+5.70905198e-04j, -3.10878409e-04+9.28620563e-05j,\n",
       "        1.52251567e-04-5.51314109e-04j,  1.79762940e-04+2.05050176e-04j,\n",
       "        1.94551915e-04-4.95979426e-04j,  4.15683014e-04-3.55027417e-04j,\n",
       "        2.45595007e-04+2.30558994e-04j, -3.00297939e-05+3.69751350e-04j,\n",
       "        1.79725621e-04-5.41536637e-04j, -3.41676802e-05+4.49044430e-05j,\n",
       "        8.58872623e-04+2.81022969e-04j,  6.17887851e-04+1.25006836e-04j,\n",
       "        3.12709296e-05+5.65104890e-04j,  3.47407660e-04+3.68028719e-04j,\n",
       "       -5.89387448e-05+4.35625287e-05j, -5.45592732e-04-4.89751239e-04j,\n",
       "       -2.21786834e-04+5.32506105e-04j, -3.13986788e-04-8.06205785e-04j,\n",
       "        2.64702886e-04+5.49414772e-04j, -4.89581521e-04+1.38861861e-04j,\n",
       "       -2.49607143e-04-6.10021850e-04j,  5.21722546e-04-5.55534938e-04j,\n",
       "        2.67298414e-04-3.31459078e-04j,  8.53743804e-04+3.63784982e-04j,\n",
       "        5.39956733e-06+9.00396430e-05j,  3.01017435e-04-6.54972617e-05j,\n",
       "       -3.03550863e-04+1.99906332e-04j,  2.73196136e-04-8.51638000e-04j,\n",
       "       -1.08713306e-04+4.81764398e-04j, -7.32068471e-04-1.05119008e-04j,\n",
       "       -5.68565027e-06+5.23822392e-04j, -1.17681746e-04-3.19754278e-04j,\n",
       "       -3.44742215e-04+1.90699207e-04j, -2.04080336e-04-2.49906243e-04j,\n",
       "       -3.93812583e-04-3.62761676e-04j,  4.71633601e-04-2.53162150e-04j,\n",
       "        3.36318357e-04-5.10946091e-05j,  4.89908599e-04-1.89182937e-04j,\n",
       "        3.92250969e-04+4.55259969e-04j, -9.41556983e-04+4.04511732e-04j,\n",
       "        5.36636348e-04-2.64553046e-04j,  4.87494606e-04-3.88622478e-04j,\n",
       "       -4.33972961e-05+1.42478668e-04j, -1.29128933e-04+6.63807805e-05j,\n",
       "        9.80059184e-05+6.18320030e-04j, -5.21500512e-04-1.53293682e-05j,\n",
       "       -3.26369083e-04+2.07808334e-06j, -5.11033300e-04-7.21654969e-04j,\n",
       "       -9.25051624e-05-2.55826722e-04j,  6.63094709e-04-1.18565194e-04j,\n",
       "        4.18928321e-04-3.43750980e-04j,  1.31121791e-04-3.40500003e-05j,\n",
       "        1.62513836e-04-3.37065398e-04j, -1.66494805e-04+3.53007539e-04j,\n",
       "        2.63981265e-07-4.83154337e-04j,  6.96067882e-04-1.49326730e-04j,\n",
       "       -2.85035783e-04+7.80446108e-04j, -2.67318755e-04-4.27439782e-04j,\n",
       "        5.26824817e-04-3.52658955e-04j,  1.75146516e-03+7.30543192e-05j,\n",
       "        1.88689181e-05+1.70051678e-04j,  5.26188960e-04+8.83976390e-04j,\n",
       "        7.29669024e-04+4.89446046e-04j,  8.60807729e-05-3.30910337e-05j,\n",
       "        5.84581867e-05-1.15017560e-04j,  1.82167527e-04-4.64958116e-04j,\n",
       "       -1.64978633e-04+1.24981618e-04j,  2.65089197e-04-6.39996521e-05j,\n",
       "        8.78359166e-04+6.43872342e-04j, -7.37434462e-04+3.29733127e-04j,\n",
       "       -1.04828270e-04+1.29537992e-04j, -8.61615367e-04-3.43107017e-04j,\n",
       "        6.02598515e-05-1.87972114e-04j,  5.58387465e-05-3.17100840e-04j,\n",
       "        9.35005215e-05+0.00000000e+00j,  5.58387465e-05+3.17100840e-04j,\n",
       "        6.02598515e-05+1.87972114e-04j, -8.61615367e-04+3.43107017e-04j,\n",
       "       -1.04828270e-04-1.29537992e-04j, -7.37434462e-04-3.29733127e-04j,\n",
       "        8.78359166e-04-6.43872342e-04j,  2.65089197e-04+6.39996521e-05j,\n",
       "       -1.64978633e-04-1.24981618e-04j,  1.82167527e-04+4.64958116e-04j,\n",
       "        5.84581867e-05+1.15017560e-04j,  8.60807729e-05+3.30910337e-05j,\n",
       "        7.29669024e-04-4.89446046e-04j,  5.26188960e-04-8.83976390e-04j,\n",
       "        1.88689181e-05-1.70051678e-04j,  1.75146516e-03-7.30543192e-05j,\n",
       "        5.26824817e-04+3.52658955e-04j, -2.67318755e-04+4.27439782e-04j,\n",
       "       -2.85035783e-04-7.80446108e-04j,  6.96067882e-04+1.49326730e-04j,\n",
       "        2.63981265e-07+4.83154337e-04j, -1.66494805e-04-3.53007539e-04j,\n",
       "        1.62513836e-04+3.37065398e-04j,  1.31121791e-04+3.40500003e-05j,\n",
       "        4.18928321e-04+3.43750980e-04j,  6.63094709e-04+1.18565194e-04j,\n",
       "       -9.25051624e-05+2.55826722e-04j, -5.11033300e-04+7.21654969e-04j,\n",
       "       -3.26369083e-04-2.07808334e-06j, -5.21500512e-04+1.53293682e-05j,\n",
       "        9.80059184e-05-6.18320030e-04j, -1.29128933e-04-6.63807805e-05j,\n",
       "       -4.33972961e-05-1.42478668e-04j,  4.87494606e-04+3.88622478e-04j,\n",
       "        5.36636348e-04+2.64553046e-04j, -9.41556983e-04-4.04511732e-04j,\n",
       "        3.92250969e-04-4.55259969e-04j,  4.89908599e-04+1.89182937e-04j,\n",
       "        3.36318357e-04+5.10946091e-05j,  4.71633601e-04+2.53162150e-04j,\n",
       "       -3.93812583e-04+3.62761676e-04j, -2.04080336e-04+2.49906243e-04j,\n",
       "       -3.44742215e-04-1.90699207e-04j, -1.17681746e-04+3.19754278e-04j,\n",
       "       -5.68565027e-06-5.23822392e-04j, -7.32068471e-04+1.05119008e-04j,\n",
       "       -1.08713306e-04-4.81764398e-04j,  2.73196136e-04+8.51638000e-04j,\n",
       "       -3.03550863e-04-1.99906332e-04j,  3.01017435e-04+6.54972617e-05j,\n",
       "        5.39956733e-06-9.00396430e-05j,  8.53743804e-04-3.63784982e-04j,\n",
       "        2.67298414e-04+3.31459078e-04j,  5.21722546e-04+5.55534938e-04j,\n",
       "       -2.49607143e-04+6.10021850e-04j, -4.89581521e-04-1.38861861e-04j,\n",
       "        2.64702886e-04-5.49414772e-04j, -3.13986788e-04+8.06205785e-04j,\n",
       "       -2.21786834e-04-5.32506105e-04j, -5.45592732e-04+4.89751239e-04j,\n",
       "       -5.89387448e-05-4.35625287e-05j,  3.47407660e-04-3.68028719e-04j,\n",
       "        3.12709296e-05-5.65104890e-04j,  6.17887851e-04-1.25006836e-04j,\n",
       "        8.58872623e-04-2.81022969e-04j, -3.41676802e-05-4.49044430e-05j,\n",
       "        1.79725621e-04+5.41536637e-04j, -3.00297939e-05-3.69751350e-04j,\n",
       "        2.45595007e-04-2.30558994e-04j,  4.15683014e-04+3.55027417e-04j,\n",
       "        1.94551915e-04+4.95979426e-04j,  1.79762940e-04-2.05050176e-04j,\n",
       "        1.52251567e-04+5.51314109e-04j, -3.10878409e-04-9.28620563e-05j,\n",
       "        1.42866905e-04-5.70905198e-04j,  4.39319692e-04-6.18764407e-04j,\n",
       "       -1.66685515e-03+1.11185623e-03j, -6.01267390e-04+4.51516110e-04j,\n",
       "        7.35813682e-05+2.52363385e-04j,  6.34528653e-04-4.05543225e-04j,\n",
       "       -2.59152604e-04+5.84410535e-04j,  8.09857788e-04+6.83606141e-04j,\n",
       "        2.93610945e-05+1.20456841e-04j,  1.99869072e-04-1.74055809e-04j,\n",
       "        2.27503779e-04+1.08683605e-03j, -3.18644838e-04+1.03543806e-04j,\n",
       "        8.69411824e-04+5.05494142e-04j,  7.28426820e-04+7.26539115e-04j,\n",
       "        5.33523615e-05+2.60508183e-04j,  2.31408264e-04+3.52834271e-04j,\n",
       "       -3.61627949e-04+9.36400143e-04j,  3.39027024e-04+6.83864794e-04j,\n",
       "        5.52674766e-04+1.14821367e-03j,  4.45504590e-04+9.09445793e-04j,\n",
       "        1.40622353e-03+1.96045723e-03j,  1.95827040e-03+1.18786687e-04j,\n",
       "        2.09160461e-03+5.11767338e-04j,  3.23242504e-03-3.81279407e-04j,\n",
       "        4.21582866e-03-1.07630855e-03j,  3.00682192e-03-3.53816708e-03j,\n",
       "        1.18605077e-03-2.80721669e-03j, -1.97513676e-04-2.73031610e-03j,\n",
       "       -2.28151246e-04-2.15510982e-03j, -1.84174317e-05-1.04391961e-03j,\n",
       "       -1.03055229e-03-1.34094973e-03j, -7.83634166e-04-4.79535448e-04j,\n",
       "       -3.97561289e-04-1.01382764e-03j, -1.20818497e-03+2.45743291e-04j,\n",
       "       -1.40380013e-03-5.64794265e-04j, -1.21269230e-03-1.45236401e-03j,\n",
       "       -4.21899857e-04-4.78255801e-04j, -1.46901892e-04-1.06106385e-04j,\n",
       "        2.27435366e-04-5.25505185e-04j, -1.46660923e-04+3.89397715e-04j,\n",
       "        2.66829588e-04+4.79878815e-04j,  2.70095734e-04+1.53785924e-04j,\n",
       "       -7.02985404e-04+4.17967369e-04j, -1.09395125e-03-7.28955594e-04j,\n",
       "        4.27703586e-04-3.94157824e-04j,  2.87270246e-04-4.25895267e-04j,\n",
       "        3.18435669e-04+1.44025052e-04j,  3.44558011e-04-1.01851913e-03j,\n",
       "        8.80555585e-05-2.63018517e-05j, -8.29625939e-04+1.26190672e-03j,\n",
       "       -4.40974319e-04+3.53369838e-04j, -1.10365727e-04+2.13489952e-04j,\n",
       "       -3.96017238e-04+1.40501337e-03j, -1.90240438e-04+1.38224903e-03j])"
      ]
     },
     "execution_count": 83,
     "metadata": {},
     "output_type": "execute_result"
    }
   ],
   "source": [
    "NN = 256\n",
    "\n",
    "jj = np.arange(NN)\n",
    "\n",
    "xx = x[jj]\n",
    "S_x = custom_fft(xx)\n",
    "S_x"
   ]
  },
  {
   "cell_type": "code",
   "execution_count": 82,
   "metadata": {},
   "outputs": [],
   "source": [
    "def custom_fft(v):\n",
    "    n = len(v)\n",
    "    fft_result = fft(v)\n",
    "    scale_factor = 1 / n\n",
    "    return fft_result * scale_factor"
   ]
  },
  {
   "cell_type": "code",
   "execution_count": 109,
   "metadata": {},
   "outputs": [
    {
     "data": {
      "text/plain": [
       "0.203125"
      ]
     },
     "execution_count": 109,
     "metadata": {},
     "output_type": "execute_result"
    }
   ],
   "source": [
    "NN = 256\n",
    "\n",
    "jj = np.arange(NN)\n",
    "\n",
    "xx = x[jj]\n",
    "# xx = xx.astype('int64')\n",
    "\n",
    "yy = y[jj]\n",
    "\n",
    "S_x = custom_fft(xx)\n",
    "S_y = custom_fft(yy)\n",
    "\n",
    "jjj = np.arange(NN*0.5 + 1).astype('int')\n",
    "\n",
    "S_xx = S_x[jjj]\n",
    "S_yy = S_y[jjj]\n",
    "\n",
    "k = np.arange(3)\n",
    "\n",
    "S_xx[k] = 0\n",
    "S_yy[k] = 0\n",
    "\n",
    "p_x = np.argmax(np.abs(S_xx[:int(0.2*NN)]))\n",
    "p_y = np.argmax(np.abs(S_yy[:int(0.5*NN)]))\n",
    "\n",
    "v_x = p_x / NN\n",
    "v_y = p_y / NN\n",
    "v_y"
   ]
  },
  {
   "cell_type": "code",
   "execution_count": 10,
   "metadata": {},
   "outputs": [],
   "source": [
    "offset = 8 * 6300 // 2 // 4\n",
    "len_data = 4 * 1024**2 // 4"
   ]
  },
  {
   "cell_type": "code",
   "execution_count": 20,
   "metadata": {},
   "outputs": [
    {
     "data": {
      "text/html": [
       "<div>\n",
       "<style scoped>\n",
       "    .dataframe tbody tr th:only-of-type {\n",
       "        vertical-align: middle;\n",
       "    }\n",
       "\n",
       "    .dataframe tbody tr th {\n",
       "        vertical-align: top;\n",
       "    }\n",
       "\n",
       "    .dataframe thead th {\n",
       "        text-align: right;\n",
       "    }\n",
       "</style>\n",
       "<table border=\"1\" class=\"dataframe\">\n",
       "  <thead>\n",
       "    <tr style=\"text-align: right;\">\n",
       "      <th></th>\n",
       "      <th>A</th>\n",
       "      <th>B</th>\n",
       "      <th>C</th>\n",
       "      <th>D</th>\n",
       "    </tr>\n",
       "  </thead>\n",
       "  <tbody>\n",
       "    <tr>\n",
       "      <th>0</th>\n",
       "      <td>-147</td>\n",
       "      <td>-273</td>\n",
       "      <td>-406</td>\n",
       "      <td>79</td>\n",
       "    </tr>\n",
       "    <tr>\n",
       "      <th>1</th>\n",
       "      <td>-157</td>\n",
       "      <td>-196</td>\n",
       "      <td>-416</td>\n",
       "      <td>321</td>\n",
       "    </tr>\n",
       "    <tr>\n",
       "      <th>2</th>\n",
       "      <td>17</td>\n",
       "      <td>-124</td>\n",
       "      <td>-416</td>\n",
       "      <td>383</td>\n",
       "    </tr>\n",
       "    <tr>\n",
       "      <th>3</th>\n",
       "      <td>373</td>\n",
       "      <td>-29</td>\n",
       "      <td>-415</td>\n",
       "      <td>230</td>\n",
       "    </tr>\n",
       "    <tr>\n",
       "      <th>4</th>\n",
       "      <td>247</td>\n",
       "      <td>-82</td>\n",
       "      <td>-421</td>\n",
       "      <td>-149</td>\n",
       "    </tr>\n",
       "    <tr>\n",
       "      <th>...</th>\n",
       "      <td>...</td>\n",
       "      <td>...</td>\n",
       "      <td>...</td>\n",
       "      <td>...</td>\n",
       "    </tr>\n",
       "    <tr>\n",
       "      <th>1048571</th>\n",
       "      <td>496</td>\n",
       "      <td>365</td>\n",
       "      <td>32</td>\n",
       "      <td>438</td>\n",
       "    </tr>\n",
       "    <tr>\n",
       "      <th>1048572</th>\n",
       "      <td>526</td>\n",
       "      <td>141</td>\n",
       "      <td>228</td>\n",
       "      <td>682</td>\n",
       "    </tr>\n",
       "    <tr>\n",
       "      <th>1048573</th>\n",
       "      <td>614</td>\n",
       "      <td>271</td>\n",
       "      <td>132</td>\n",
       "      <td>356</td>\n",
       "    </tr>\n",
       "    <tr>\n",
       "      <th>1048574</th>\n",
       "      <td>486</td>\n",
       "      <td>376</td>\n",
       "      <td>130</td>\n",
       "      <td>-11</td>\n",
       "    </tr>\n",
       "    <tr>\n",
       "      <th>1048575</th>\n",
       "      <td>134</td>\n",
       "      <td>134</td>\n",
       "      <td>139</td>\n",
       "      <td>138</td>\n",
       "    </tr>\n",
       "  </tbody>\n",
       "</table>\n",
       "<p>1048576 rows × 4 columns</p>\n",
       "</div>"
      ],
      "text/plain": [
       "           A    B    C    D\n",
       "0       -147 -273 -406   79\n",
       "1       -157 -196 -416  321\n",
       "2         17 -124 -416  383\n",
       "3        373  -29 -415  230\n",
       "4        247  -82 -421 -149\n",
       "...      ...  ...  ...  ...\n",
       "1048571  496  365   32  438\n",
       "1048572  526  141  228  682\n",
       "1048573  614  271  132  356\n",
       "1048574  486  376  130  -11\n",
       "1048575  134  134  139  138\n",
       "\n",
       "[1048576 rows x 4 columns]"
      ]
     },
     "execution_count": 20,
     "metadata": {},
     "output_type": "execute_result"
    }
   ],
   "source": [
    "data = read_data(r'bpm_data/11_01_booster_libera08_hbpm3_1_full', offset=offset, data_length=len_data)\n",
    "data"
   ]
  },
  {
   "cell_type": "code",
   "execution_count": 21,
   "metadata": {},
   "outputs": [],
   "source": [
    "sx = data['A'] + data['C']\n",
    "deltax = data['A'] - data['C']\n",
    "sy = data['B'] + data['D']\n",
    "deltay = data['B'] - data['D']"
   ]
  },
  {
   "cell_type": "code",
   "execution_count": 22,
   "metadata": {},
   "outputs": [
    {
     "data": {
      "text/plain": [
       "2126.9290060851927"
      ]
     },
     "execution_count": 22,
     "metadata": {},
     "output_type": "execute_result"
    }
   ],
   "source": [
    "period = find_period_length_fft(sx)\n",
    "period"
   ]
  },
  {
   "cell_type": "code",
   "execution_count": 28,
   "metadata": {},
   "outputs": [
    {
     "data": {
      "text/plain": [
       "<matplotlib.collections.PathCollection at 0x1a832bd3550>"
      ]
     },
     "execution_count": 28,
     "metadata": {},
     "output_type": "execute_result"
    },
    {
     "data": {
      "image/png": "[encoded data removed]",
      "text/plain": [
       "<Figure size 640x480 with 1 Axes>"
      ]
     },
     "metadata": {},
     "output_type": "display_data"
    }
   ],
   "source": [
    "sns.set_theme()\n",
    "x = get_mass_center_positions(sx, deltax, period)\n",
    "y = get_mass_center_positions(sy, deltay, period)\n",
    "plt.scatter(x, y)"
   ]
  },
  {
   "cell_type": "code",
   "execution_count": 73,
   "metadata": {},
   "outputs": [],
   "source": [
    "A_x = 64\n",
    "A_y = 33"
   ]
  },
  {
   "cell_type": "code",
   "execution_count": null,
   "metadata": {},
   "outputs": [],
   "source": [
    "def find_velocities(coordinate_vector, number_of_periods, initional_velocity, velocity_step, data_length=256):\n",
    "    coordinate_vector_slice = coordinate_vector[:data_length]\n",
    "    distance = scipy.fft(coordinate_vector_slice) / data_length"
   ]
  },
  {
   "cell_type": "code",
   "execution_count": null,
   "metadata": {},
   "outputs": [],
   "source": [
    "def correct_tune(coordinate_vector, number_of_periods, initional_velocity, velocity_step, number_of_iterations=256):\n",
    "    coordinate_vector_slice = coordinate_vector[:number_of_iterations]\n",
    "    distance = scipy.fft(coordinate_vector_slice) / number_of_iterations\n",
    "    "
   ]
  },
  {
   "cell_type": "code",
   "execution_count": null,
   "metadata": {},
   "outputs": [],
   "source": [
    "NN = 256\n",
    "\n",
    "jj = np.arange(NN)\n",
    "\n",
    "xx = x[jj]\n",
    "# xx = xx.astype('int64')\n",
    "\n",
    "yy = y[jj]\n",
    "\n",
    "S_x = custom_fft(xx)\n",
    "S_y = custom_fft(yy)\n",
    "\n",
    "jjj = np.arange(NN*0.5 + 1).astype('int')\n",
    "\n",
    "S_xx = S_x[jjj]\n",
    "S_yy = S_y[jjj]\n",
    "\n",
    "k = np.arange(3)\n",
    "\n",
    "S_xx[k] = 0\n",
    "S_yy[k] = 0\n",
    "\n",
    "p_x = np.argmax(np.abs(S_xx[:int(0.2*NN)]))\n",
    "p_y = np.argmax(np.abs(S_yy[:int(0.5*NN)]))\n",
    "\n",
    "v_x = p_x / NN\n",
    "v_y = p_y / NN"
   ]
  }
 ],
 "metadata": {
  "kernelspec": {
   "display_name": "Python 3",
   "language": "python",
   "name": "python3"
  },
  "language_info": {
   "codemirror_mode": {
    "name": "ipython",
    "version": 3
   },
   "file_extension": ".py",
   "mimetype": "text/x-python",
   "name": "python",
   "nbconvert_exporter": "python",
   "pygments_lexer": "ipython3",
   "version": "3.10.11"
  },
  "orig_nbformat": 4
 },
 "nbformat": 4,
 "nbformat_minor": 2
}
