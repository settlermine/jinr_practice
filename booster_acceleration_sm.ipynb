{
 "cells": [
  {
   "cell_type": "markdown",
   "metadata": {},
   "source": [
    "# Классы"
   ]
  },
  {
   "cell_type": "code",
   "execution_count": 127,
   "metadata": {},
   "outputs": [],
   "source": [
    "import numpy as np\n",
    "from numba import njit\n",
    "import matplotlib.pyplot as plt\n",
    "import seaborn as sns\n",
    "sns.set_theme()"
   ]
  },
  {
   "cell_type": "code",
   "execution_count": 128,
   "metadata": {},
   "outputs": [],
   "source": [
    "class ZeroCrossingSignal:\n",
    "\n",
    "    def __init__(self, signal, harmonic_hf, start_offset, start_period):\n",
    "        self.__amplitudes, self.__phases, self.__biases = self.zero_crossing(signal, harmonic_hf, start_offset, start_period)\n",
    "\n",
    "    @staticmethod\n",
    "    @njit\n",
    "    def zero_crossing(signal, harmonic_hf, start_offset, start_period):\n",
    "        offset = start_offset\n",
    "        period = start_period\n",
    "\n",
    "        amplitudes = [1.,]\n",
    "        phases = [1.,]\n",
    "        biases = [1.,]\n",
    "\n",
    "        amplitudes.pop()\n",
    "        phases.pop()\n",
    "        biases.pop()\n",
    "\n",
    "        harmonics_vector = np.array([0., 0., 0.])\n",
    "        iteration = 0\n",
    "\n",
    "        while offset < (len(signal) - np.floor(period)-1):\n",
    "            phase = 2 * np.pi / period * harmonic_hf # связано со временеи обората, длинна сгустка - bunch ## похоже на фазу \n",
    " \n",
    "            harmonics_vector[0] = np.sum(signal[offset:offset + int(period) + 1] * np.cos(phase * np.arange(int(period) + 1)))\n",
    "            harmonics_vector[1] = np.sum(signal[offset:offset + int(period) + 1] * np.sin(phase * np.arange(int(period) + 1)))\n",
    "            harmonics_vector[2] = np.sum(signal[offset:offset + int(period) + 1])\n",
    " \n",
    "            P_b = np.array(((0., 0., 0.),\n",
    "                            (0., 0., 0.),\n",
    "                            (0., 0., 0.)))\n",
    "\n",
    "            cos_vals = np.cos(phase * np.arange(int(period) + 1))\n",
    "            sin_vals = np.sin(phase * np.arange(int(period) + 1))\n",
    "\n",
    "            P_b[0, 0] = np.sum(cos_vals**2)\n",
    "            P_b[0, 1] = np.sum(cos_vals * sin_vals)\n",
    "            P_b[0, 2] = np.sum(cos_vals)\n",
    "            P_b[1, 0] = P_b[0, 1]\n",
    "            P_b[1, 1] = np.sum(sin_vals**2)\n",
    "            P_b[1, 2] = np.sum(sin_vals)\n",
    "            P_b[2, 0] = P_b[0, 2]\n",
    "            P_b[2, 1] = P_b[1, 2]\n",
    "            P_b[2, 2] = int(period) + 1\n",
    "\n",
    "            A = np.linalg.inv(P_b) @ harmonics_vector.T # ----\n",
    "     \n",
    "            amplitudes.append(np.sqrt(A[0]**2 + A[1]**2)) # амплитуда \n",
    "            phases.append(offset + (1 / phase * np.arctan2(A[0], -A[1]))) # фаза \n",
    "            biases.append(A[2]) # ----\n",
    "\n",
    "            offset = int(phases[iteration] + period) # перечет офсета \n",
    "\n",
    "            period = 1 / 10 * (phases[iteration] - phases[iteration-10]) if iteration > 12 else period # перечсет периода для окна \n",
    "\n",
    "            iteration += 1\n",
    "\n",
    "        return np.array(amplitudes), np.array(phases), np.array(biases)\n",
    "        \n",
    "    @property\n",
    "    def amplitudes(self): return self.__amplitudes\n",
    "\n",
    "    @property\n",
    "    def phases(self): return self.__phases\n",
    "\n",
    "    @property\n",
    "    def biases(self): return self.__biases"
   ]
  },
  {
   "cell_type": "code",
   "execution_count": 129,
   "metadata": {},
   "outputs": [],
   "source": [
    "class LorentzFactors:\n",
    "    def __init__(self, phases, booster_perimeter, delta_time, speed_of_light=2.997925e10, proton_rest_mass = 938.256e6):\n",
    "        self.__phase_difference = np.diff(phases)\n",
    "        self.__beta = booster_perimeter / (speed_of_light * delta_time * self.phase_difference)\n",
    "        self.__gamma = 1 / np.sqrt(1 - self.beta**2)\n",
    "        self.__energy = (self.gamma-1) * proton_rest_mass\n",
    "\n",
    "    @property\n",
    "    def phase_difference(self): return self.__phase_difference\n",
    "\n",
    "    @property\n",
    "    def beta(self): return self.__beta\n",
    "\n",
    "    @property\n",
    "    def gamma(self): return self.__gamma\n",
    "\n",
    "    @property\n",
    "    def energy(self): return self.__energy"
   ]
  },
  {
   "cell_type": "code",
   "execution_count": 130,
   "metadata": {},
   "outputs": [],
   "source": [
    "class AveragedData:\n",
    "    def __init__(self, phases, corrected_phases, intensities, averaging_window):\n",
    "        self.__phases = self.average_data(phases, averaging_window)\n",
    "        self.__corrected_phases = self.average_data(corrected_phases, averaging_window)\n",
    "        self.__intensities = self.average_data(intensities, averaging_window)\n",
    "    \n",
    "    \n",
    "    @staticmethod\n",
    "    def average_data(data, averaging_window):\n",
    "        return np.convolve(data, np.ones(averaging_window)/averaging_window, mode='valid')"
   ]
  },
  {
   "cell_type": "code",
   "execution_count": 153,
   "metadata": {},
   "outputs": [],
   "source": [
    "class ParametersFCTRF:\n",
    "    def __init__(self, signal_fct, signal_rf, period, offset_fct, offset_rf, offset_between_signals,\n",
    "                 harmonic_hf, booster_perimeter, delta_time, averaging_window_for_finding_fct_minimums,\n",
    "                 averaging_window, phase_offset=0, charge_number = 28, proton_rest_mass = 938.256e6,\n",
    "                 electron_charge = 1.6021e-19, speed_of_light = 2.997925e10):\n",
    "\n",
    "        self.__signal_fct = signal_fct\n",
    "        self.__signal_rf = signal_rf\n",
    "        self.__period = period\n",
    "        self.__offset_fct = offset_fct\n",
    "        self.__offset_rf = offset_rf\n",
    "        self.__delta_time = delta_time\n",
    "        self.__offset_between_signals = offset_between_signals\n",
    "\n",
    "        self.__zero_crossing_rf = ZeroCrossingSignal(signal_rf, harmonic_hf, offset_rf, period)\n",
    "        self.__phases = self.__zero_crossing_rf.phases\n",
    "        self.__lorentz_factors = LorentzFactors(self.zero_crossing_rf.phases, booster_perimeter, delta_time, speed_of_light, proton_rest_mass)\n",
    "        # Зачем скипать 1, а потом и phase_offset?\n",
    "        self.__discretized_phases = np.floor(self.zero_crossing_rf.phases[1:]).astype(int)\n",
    "        self.__discretized_phases_with_offset = self.discretized_phases[phase_offset:]\n",
    "        self.__fct_minimums = self.signal_minimums_with_averaging(signal_fct[offset_between_signals:], self.discretized_phases_with_offset,\n",
    "                                                                averaging_window_for_finding_fct_minimums)\n",
    "        self.__corrected_phases = self.correct_phases(signal_fct[offset_between_signals:], self.fct_minimums, self.zero_crossing_rf.phases,\n",
    "                                                      phase_offset, harmonic_hf)\n",
    "        # self.__averaged_phases = np.convolve(np.hstack((np.zeros(phase_offset), self.corrected_phases)), #Зачем-то добавляется два нуля...\n",
    "        #                             np.ones(averaging_window_for_phases)/averaging_window_for_phases,\n",
    "        #                             mode='valid')[::averaging_window_for_phases][:-1] #Зачем-то откидывается последнее...\n",
    "\n",
    "        self.__intensities = self.find_intensities(signal_fct[offset_between_signals:], self.fct_minimums, self.discretized_phases_with_offset,\n",
    "                                        delta_time, charge_number=charge_number, electron_charge=electron_charge)    \n",
    "\n",
    "        self.__averaged_data = AveragedData(np.hstack((np.zeros(phase_offset), self.phases[phase_offset: -phase_offset])),\n",
    "                                            np.hstack((np.zeros(phase_offset), self.corrected_phases)),\n",
    "                                            np.hstack((np.zeros(phase_offset), self.intensities)),\n",
    "                                            averaging_window)\n",
    "\n",
    "    @property\n",
    "    def signal_fct(self): return self.__signal_fct\n",
    "\n",
    "    @property\n",
    "    def signal_rf(self): return self.__signal_rf\n",
    "    \n",
    "    @property\n",
    "    def delta_time(self): return self.__delta_time\n",
    "\n",
    "    @property\n",
    "    def period(self): return self.__period\n",
    "\n",
    "    @property\n",
    "    def phases(self): return self.__phases\n",
    "\n",
    "    @property\n",
    "    def zero_crossing_rf(self): return self.__zero_crossing_rf\n",
    "\n",
    "    @property\n",
    "    def lorentz_factors(self): return self.__lorentz_factors\n",
    "\n",
    "    @property\n",
    "    def discretized_phases(self): return self.__discretized_phases\n",
    "\n",
    "    @property\n",
    "    def discretized_phases_with_offset(self): return self.__discretized_phases_with_offset\n",
    "fct\n",
    "    @property\n",
    "    def fct_minimums(self): return self.__fct_minimums\n",
    "\n",
    "    @property\n",
    "    def corrected_phases(self): return self.__corrected_phases\n",
    "\n",
    "    @property\n",
    "    def averaged_phases(self): return self.__averaged_phases\n",
    "\n",
    "    @property\n",
    "    def intensities(self): return self.__intensities\n",
    "\n",
    "    @property\n",
    "    def averaged_data(self): return self.__averaged_data\n",
    "\n",
    "    @staticmethod\n",
    "    @njit\n",
    "    def correct_phases(signal, signal_minimums, phases, phase_offset, harmonic_hf):\n",
    "        discretized_phases = phases[1:].astype('int32')\n",
    "        corrected_phases = np.zeros(len(discretized_phases) - phase_offset - 1, dtype=float)\n",
    "\n",
    "        for i in range(len(corrected_phases)):\n",
    "            up_sum = np.sum((signal[discretized_phases[phase_offset+i]: discretized_phases[phase_offset+i+1]+1] - signal_minimums[i])*\\\n",
    "                            (np.arange(discretized_phases[phase_offset+i+1]-discretized_phases[phase_offset+i]+1) + discretized_phases[phase_offset+i] -\\\n",
    "                               (phases[phase_offset+i+2] + phases[phase_offset+i+1]) / 2))\n",
    "            under_sum = np.sum(signal[discretized_phases[phase_offset+i]:\n",
    "                                    discretized_phases[phase_offset+i+1]+1] - signal_minimums[i])\n",
    "            corrected_phases[i] = 360 * harmonic_hf / (discretized_phases[phase_offset+i+1] - discretized_phases[phase_offset+i]) * (up_sum / under_sum)\n",
    "        \n",
    "        return corrected_phases\n",
    "\n",
    "    @staticmethod\n",
    "    @njit\n",
    "    def find_intensities(signal, signal_minimums, phases, delta_time, charge_number = 28, electron_charge=1.6021e-19):\n",
    "        intensities = np.zeros((len(phases)-1))\n",
    "        for i in range(len(phases)-1):\n",
    "            intensities[i] = 8.6 * 10**(-5) * (10**(-3) / (5 * charge_number)) *\\\n",
    "            (delta_time / electron_charge) * np.sum(signal[phases[i]: phases[i+1] + 1] - signal_minimums[i]) / 10\n",
    "        return intensities \n",
    "\n",
    "    @staticmethod\n",
    "    @njit\n",
    "    def signal_minimums_with_averaging(signal, period_nodes, window_length):\n",
    "        result = np.zeros(len(period_nodes)-1)\n",
    "        for i in range(len(period_nodes)-1):\n",
    "            result[i] = np.convolve(signal[period_nodes[i]: period_nodes[i+1]], np.ones(window_length) / window_length)[window_length-1: -window_length+1].min()\n",
    "        return result"
   ]
  },
  {
   "cell_type": "code",
   "execution_count": 149,
   "metadata": {},
   "outputs": [],
   "source": [
    "class PlotParametersFCTRF(ParametersFCTRF):\n",
    "    def lorentz_factor_plot(self, factor_name, figsize=None, **kwargs):\n",
    "        if figsize: plt.figsize(figsize)\n",
    "        y = getattr(self.lorentz_factors, factor_name.lower())\n",
    "        x = self.delta_time * np.arange(len(y))\n",
    "        plt.plot(x, y, **kwargs, label=factor_name)\n",
    "        plt.xlabel('Time')\n",
    "        plt.title(f'{factor_name} Lorentz-factor',fontweight='bold')\n",
    "        plt.legend()\n",
    "\n",
    "    def phase_difference_plot(self, figsize=None, phase_difference_plot_parameters={}, period_line_plot_parameters={}):\n",
    "        if figsize: plt.figsize(figsize)\n",
    "        y = self.lorentz_factors.phase_difference\n",
    "        x = self.delta_time * np.arange(len(y))\n",
    "        plt.plot(x, y, label='Phase difference', **phase_difference_plot_parameters)\n",
    "        plt.axhline(y=self.period, **period_line_plot_parameters, label=f'Initial period = {round(self.period, 2)}')\n",
    "        plt.legend()\n",
    "        plt.xlabel('Time')"
   ]
  },
  {
   "cell_type": "code",
   "execution_count": 133,
   "metadata": {},
   "outputs": [],
   "source": [
    "class AveragedData:\n",
    "    def __init__(self, phases, corrected_phases, intensities, averaging_window):\n",
    "        self.__phases = self.average_data(phases, averaging_window)\n",
    "        self.__corrected_phases = self.average_data(corrected_phases, averaging_window)\n",
    "        self.__intensities = self.average_data(intensities, averaging_window)\n",
    "    \n",
    "    \n",
    "    @staticmethod\n",
    "    def average_data(data, averaging_window):\n",
    "        return np.convolve(data, np.ones(averaging_window)/averaging_window, mode='valid')"
   ]
  },
  {
   "cell_type": "code",
   "execution_count": 134,
   "metadata": {},
   "outputs": [],
   "source": [
    "class CombinedParametersFCTRF:\n",
    "    def __init__(self, first_half, second_half, key_names=['first_half', 'second_half']):\n",
    "        setattr(self, f'__{key_names[0]}', first_half)\n",
    "        setattr(self, f'__{key_names[1]}', second_half)\n",
    "\n",
    "    def __getitem__(self, key):\n",
    "        return getattr(self, f'__{key}')\n",
    "\n",
    "    @property\n",
    "    def left_part(self): return self.__left_part\n",
    "\n",
    "    @property\n",
    "    def right_part(self): return self.__right_part\n",
    "\n"
   ]
  },
  {
   "cell_type": "markdown",
   "metadata": {},
   "source": [
    "# Константы"
   ]
  },
  {
   "cell_type": "code",
   "execution_count": 135,
   "metadata": {},
   "outputs": [],
   "source": [
    "mass_proton = 938.256 * 10**6 # масса покоя протона \n",
    "charge_electron  = 1.6021 * 10**(-19) # заряд электрона в Кл\n",
    "speed_of_light = 2.997925 * 10**10"
   ]
  },
  {
   "cell_type": "markdown",
   "metadata": {},
   "source": [
    "# Параметры"
   ]
  },
  {
   "cell_type": "code",
   "execution_count": 136,
   "metadata": {},
   "outputs": [],
   "source": [
    "booster_perimeter = 21096 # периметр бустера в мм #ВЕЗДЕ ОДИН\n",
    "delta_time = (50 * 10e5)**(-1) #ВЕЗДЕ ОДНО\n",
    "\n",
    "# оффсеты по какой-то причине отличаются у некоторых, это нужно уточнить\n",
    "offset_fct = 45 #нафиг не нужен в классе\n",
    "\n",
    "#ОБЩИЕ ПАРАМЕТРЫ\n",
    "booster_perimeter = 21096 # периметр бустера в мм\n",
    "delta_time = (5e6)**(-1) \n",
    "offset_between_signals = 10\n",
    "data_length = 7 * 32 * 128 * 1024 + 1\n",
    "phase_offset = 2\n",
    "averaging_window_for_finding_fct_minimums = 13\n",
    "averaging_window = 20\n",
    "bytes_to_skip_for_second_half = 68_000_000"
   ]
  },
  {
   "cell_type": "code",
   "execution_count": 137,
   "metadata": {},
   "outputs": [],
   "source": [
    "half_names = 'first_half', 'second_half'\n",
    "period = {'first_half': 425.067, 'second_half': 127.848}\n",
    "harmonic_hf = {'first_half': 5, 'second_half': 1}\n",
    "offset_rf = {'first_half': 10, 'second_half': 112}"
   ]
  },
  {
   "cell_type": "code",
   "execution_count": 138,
   "metadata": {},
   "outputs": [],
   "source": [
    "signals_fct_filepaths = ['data/booster_acceleration/27_01_23_booster_fct_1.bin', 'data/booster_acceleration/27_01_23_booster_fct_2.bin']\n",
    "signals_rf_filepaths = ['data/booster_acceleration/27_01_23_booster_rf_1.bin', 'data/booster_acceleration/27_01_23_booster_rf_2.bin']"
   ]
  },
  {
   "cell_type": "code",
   "execution_count": 139,
   "metadata": {},
   "outputs": [],
   "source": [
    "signals_rf = []\n",
    "signals_fct = []\n",
    "for signal_fct_filepath, signal_rf_filepath in zip(signals_fct_filepaths, signals_rf_filepaths):\n",
    "    signals_rf.append({'first_half': np.fromfile(signal_rf_filepath, dtype='int16')[:data_length],\n",
    "                      'second_half': np.fromfile(signal_rf_filepath, dtype='int16', offset=bytes_to_skip_for_second_half)[:data_length]})\n",
    "\n",
    "    signals_fct.append({'first_half': np.fromfile(signal_fct_filepath, dtype='int16')[:data_length],\n",
    "                       'second_half': np.fromfile(signal_fct_filepath, dtype='int16', offset=bytes_to_skip_for_second_half)[:data_length]})"
   ]
  },
  {
   "cell_type": "markdown",
   "metadata": {},
   "source": [
    "# Расчеты"
   ]
  },
  {
   "cell_type": "code",
   "execution_count": 150,
   "metadata": {},
   "outputs": [],
   "source": [
    "parameters_fct_rf = []\n",
    "for i in range(len(signals_rf)):\n",
    "    part_separated = []\n",
    "    for key in half_names:\n",
    "        part_separated.append(PlotParametersFCTRF(signal_fct=signals_fct[i][key], signal_rf=signals_rf[i][key], period=period[key],\n",
    "                                             offset_fct=offset_fct, offset_rf=offset_rf[key], offset_between_signals=offset_between_signals,\n",
    "                                             harmonic_hf=harmonic_hf[key], booster_perimeter=booster_perimeter, delta_time=delta_time,\n",
    "                                             phase_offset=phase_offset, averaging_window_for_finding_fct_minimums=averaging_window_for_finding_fct_minimums,\n",
    "                                             averaging_window=averaging_window))\n",
    "    parameters_fct_rf.append(CombinedParametersFCTRF(*part_separated))"
   ]
  },
  {
   "cell_type": "code",
   "execution_count": 141,
   "metadata": {},
   "outputs": [],
   "source": [
    "number = 0\n",
    "half_name = 'first_half'"
   ]
  },
  {
   "cell_type": "markdown",
   "metadata": {},
   "source": [
    "# Графики по разным частям"
   ]
  },
  {
   "cell_type": "code",
   "execution_count": 142,
   "metadata": {},
   "outputs": [
    {
     "data": {
      "image/png": "[encoded data removed]",
      "text/plain": [
       "<Figure size 640x480 with 1 Axes>"
      ]
     },
     "metadata": {},
     "output_type": "display_data"
    }
   ],
   "source": [
    "parameters_fct_rf[number][half_name].lorentz_factor_plot('Beta')"
   ]
  },
  {
   "cell_type": "code",
   "execution_count": 143,
   "metadata": {},
   "outputs": [
    {
     "data": {
      "image/png": "[encoded data removed]",
      "text/plain": [
       "<Figure size 640x480 with 1 Axes>"
      ]
     },
     "metadata": {},
     "output_type": "display_data"
    }
   ],
   "source": [
    "parameters_fct_rf[number][half_name].lorentz_factor_plot('Energy')"
   ]
  },
  {
   "cell_type": "code",
   "execution_count": 152,
   "metadata": {},
   "outputs": [
    {
     "data": {
      "image/png": "[encoded data removed]",
      "text/plain": [
       "<Figure size 640x480 with 1 Axes>"
      ]
     },
     "metadata": {},
     "output_type": "display_data"
    }
   ],
   "source": [
    "parameters_fct_rf[number][half_name].phase_difference_plot(period_line_plot_parameters={'color': 'red', 'linestyle': '--'})"
   ]
  },
  {
   "cell_type": "markdown",
   "metadata": {},
   "source": [
    "# Обработка результатов"
   ]
  },
  {
   "cell_type": "code",
   "execution_count": 145,
   "metadata": {},
   "outputs": [],
   "source": [
    "import pandas as pd"
   ]
  },
  {
   "cell_type": "code",
   "execution_count": 146,
   "metadata": {},
   "outputs": [],
   "source": [
    "booster_acceleration_data = []\n",
    "for p in parameters_fct_rf:\n",
    "    dict_to_add = {}\n",
    "    for key in half_names:\n",
    "        # Зачем везде добавлять два нуля??\n",
    "        dict_to_add[key] = pd.DataFrame(\n",
    "            {'Phases': np.hstack(([0, 0], p[key].phases[phase_offset: -phase_offset])),\n",
    "            'Intensities': np.hstack(([0, 0], p[key].intensities)),\n",
    "            'Corrected phases': np.hstack(([0, 0], p[key].corrected_phases))})\n",
    "    booster_acceleration_data.append(dict_to_add)"
   ]
  },
  {
   "cell_type": "code",
   "execution_count": 147,
   "metadata": {},
   "outputs": [
    {
     "data": {
      "text/html": [
       "<div>\n",
       "<style scoped>\n",
       "    .dataframe tbody tr th:only-of-type {\n",
       "        vertical-align: middle;\n",
       "    }\n",
       "\n",
       "    .dataframe tbody tr th {\n",
       "        vertical-align: top;\n",
       "    }\n",
       "\n",
       "    .dataframe thead th {\n",
       "        text-align: right;\n",
       "    }\n",
       "</style>\n",
       "<table border=\"1\" class=\"dataframe\">\n",
       "  <thead>\n",
       "    <tr style=\"text-align: right;\">\n",
       "      <th></th>\n",
       "      <th>Phases</th>\n",
       "      <th>Intensities</th>\n",
       "      <th>Corrected phases</th>\n",
       "    </tr>\n",
       "  </thead>\n",
       "  <tbody>\n",
       "    <tr>\n",
       "      <th>0</th>\n",
       "      <td>0.000000e+00</td>\n",
       "      <td>0.000000e+00</td>\n",
       "      <td>0.000000</td>\n",
       "    </tr>\n",
       "    <tr>\n",
       "      <th>1</th>\n",
       "      <td>0.000000e+00</td>\n",
       "      <td>0.000000e+00</td>\n",
       "      <td>0.000000</td>\n",
       "    </tr>\n",
       "    <tr>\n",
       "      <th>2</th>\n",
       "      <td>8.177563e+02</td>\n",
       "      <td>2.190048e+07</td>\n",
       "      <td>-135.961250</td>\n",
       "    </tr>\n",
       "    <tr>\n",
       "      <th>3</th>\n",
       "      <td>1.242852e+03</td>\n",
       "      <td>2.198205e+07</td>\n",
       "      <td>-124.013794</td>\n",
       "    </tr>\n",
       "    <tr>\n",
       "      <th>4</th>\n",
       "      <td>1.667920e+03</td>\n",
       "      <td>2.121269e+07</td>\n",
       "      <td>-135.547226</td>\n",
       "    </tr>\n",
       "    <tr>\n",
       "      <th>...</th>\n",
       "      <td>...</td>\n",
       "      <td>...</td>\n",
       "      <td>...</td>\n",
       "    </tr>\n",
       "    <tr>\n",
       "      <th>124476</th>\n",
       "      <td>2.935915e+07</td>\n",
       "      <td>8.830344e+05</td>\n",
       "      <td>21.070979</td>\n",
       "    </tr>\n",
       "    <tr>\n",
       "      <th>124477</th>\n",
       "      <td>2.935927e+07</td>\n",
       "      <td>8.077415e+05</td>\n",
       "      <td>27.159535</td>\n",
       "    </tr>\n",
       "    <tr>\n",
       "      <th>124478</th>\n",
       "      <td>2.935940e+07</td>\n",
       "      <td>5.871716e+05</td>\n",
       "      <td>81.296862</td>\n",
       "    </tr>\n",
       "    <tr>\n",
       "      <th>124479</th>\n",
       "      <td>2.935953e+07</td>\n",
       "      <td>7.510889e+05</td>\n",
       "      <td>-55.829091</td>\n",
       "    </tr>\n",
       "    <tr>\n",
       "      <th>124480</th>\n",
       "      <td>2.935966e+07</td>\n",
       "      <td>7.125812e+05</td>\n",
       "      <td>-167.234416</td>\n",
       "    </tr>\n",
       "  </tbody>\n",
       "</table>\n",
       "<p>124481 rows × 3 columns</p>\n",
       "</div>"
      ],
      "text/plain": [
       "              Phases   Intensities  Corrected phases\n",
       "0       0.000000e+00  0.000000e+00          0.000000\n",
       "1       0.000000e+00  0.000000e+00          0.000000\n",
       "2       8.177563e+02  2.190048e+07       -135.961250\n",
       "3       1.242852e+03  2.198205e+07       -124.013794\n",
       "4       1.667920e+03  2.121269e+07       -135.547226\n",
       "...              ...           ...               ...\n",
       "124476  2.935915e+07  8.830344e+05         21.070979\n",
       "124477  2.935927e+07  8.077415e+05         27.159535\n",
       "124478  2.935940e+07  5.871716e+05         81.296862\n",
       "124479  2.935953e+07  7.510889e+05        -55.829091\n",
       "124480  2.935966e+07  7.125812e+05       -167.234416\n",
       "\n",
       "[124481 rows x 3 columns]"
      ]
     },
     "execution_count": 147,
     "metadata": {},
     "output_type": "execute_result"
    }
   ],
   "source": [
    "booster_acceleration_data[0]['first_half']"
   ]
  },
  {
   "cell_type": "code",
   "execution_count": 148,
   "metadata": {},
   "outputs": [
    {
     "ename": "NameError",
     "evalue": "name 'para' is not defined",
     "output_type": "error",
     "traceback": [
      "\u001b[0;31m---------------------------------------------------------------------------\u001b[0m",
      "\u001b[0;31mNameError\u001b[0m                                 Traceback (most recent call last)",
      "Cell \u001b[0;32mIn[148], line 1\u001b[0m\n\u001b[0;32m----> 1\u001b[0m para\n",
      "\u001b[0;31mNameError\u001b[0m: name 'para' is not defined"
     ]
    }
   ],
   "source": [
    "para"
   ]
  },
  {
   "cell_type": "markdown",
   "metadata": {},
   "source": [
    "# Тесты"
   ]
  },
  {
   "cell_type": "code",
   "execution_count": null,
   "metadata": {},
   "outputs": [],
   "source": [
    "import pandas as pd\n",
    "\n",
    "with open('Acceleration in Booster measured with FCT/BoosterAcceleration1_1half.dat', \"rb\") as file:\n",
    "    parameters_from_dan = [\n",
    "        {'first_half': pd.DataFrame(np.load(file).reshape(-1,3), columns=['Phases', 'Intensities', 'Corrected phases'])}]\n",
    "\n",
    "with open('Acceleration in Booster measured with FCT/BoosterAcceleration1_2half.dat', \"rb\") as file:\n",
    "    parameters_from_dan[0]['second_half'] = pd.DataFrame(np.load(file).reshape(-1,3), columns=['Phases', 'Intensities', 'Corrected phases'])\n",
    "\n",
    "with open('Acceleration in Booster measured with FCT/BoosterAcceleration2_1half.dat', \"rb\") as file:\n",
    "    parameters_from_dan.append({'first_half': pd.DataFrame(np.load(file).reshape(-1,3), columns=['Phases', 'Intensities', 'Corrected phases'])})\n",
    "\n",
    "with open('Acceleration in Booster measured with FCT/BoosterAcceleration2_2half.dat', \"rb\") as file:\n",
    "    parameters_from_dan[1]['second_half'] = pd.DataFrame(np.load(file).reshape(-1,3), columns=['Phases', 'Intensities', 'Corrected phases'])"
   ]
  },
  {
   "cell_type": "code",
   "execution_count": null,
   "metadata": {},
   "outputs": [],
   "source": [
    "parameters_from_file = []\n",
    "for p in parameters_fct_rf:\n",
    "    dict_to_add = {}\n",
    "    for key in half_names:\n",
    "        dict_to_add[key] = pd.DataFrame(\n",
    "            {'Phases': p[key].phases[phase_offset: -phase_offset],\n",
    "            'Intensities': p[key].intensities,\n",
    "            'Corrected phases': p[key].corrected_phases})\n",
    "    parameters_from_file.append(dict_to_add)"
   ]
  },
  {
   "cell_type": "code",
   "execution_count": null,
   "metadata": {},
   "outputs": [
    {
     "name": "stdout",
     "output_type": "stream",
     "text": [
      "0 first_half\n",
      "124479 124479\n",
      "Phases              0.000000e+00\n",
      "Intensities         2.458692e-07\n",
      "Corrected phases    1.847411e-12\n",
      "dtype: float64 \n",
      "\n",
      "0 second_half\n",
      "355508 355508\n",
      "Phases              0.000000e+00\n",
      "Intensities         1.229346e-07\n",
      "Corrected phases    7.105427e-13\n",
      "dtype: float64 \n",
      "\n",
      "1 first_half\n",
      "124476 124476\n",
      "Phases              0.000000e+00\n",
      "Intensities         2.607703e-07\n",
      "Corrected phases    3.694822e-12\n",
      "dtype: float64 \n",
      "\n",
      "1 second_half\n",
      "355502 355502\n",
      "Phases              0.000000e+00\n",
      "Intensities         1.192093e-07\n",
      "Corrected phases    7.815970e-13\n",
      "dtype: float64 \n",
      "\n"
     ]
    }
   ],
   "source": [
    "for i in range(len(parameters_from_file)):\n",
    "    for key in half_names:\n",
    "        print(i, key)\n",
    "        print(len(parameters_from_dan[i][key]), len(parameters_from_file[i][key]))\n",
    "        print((parameters_from_dan[i][key] - parameters_from_file[i][key]).max(), '\\n')\n"
   ]
  }
 ],
 "metadata": {
  "kernelspec": {
   "display_name": "Python 3",
   "language": "python",
   "name": "python3"
  },
  "language_info": {
   "codemirror_mode": {
    "name": "ipython",
    "version": 3
   },
   "file_extension": ".py",
   "mimetype": "text/x-python",
   "name": "python",
   "nbconvert_exporter": "python",
   "pygments_lexer": "ipython3",
   "version": "3.11.4"
  },
  "orig_nbformat": 4
 },
 "nbformat": 4,
 "nbformat_minor": 2
}
