{
 "cells": [
  {
   "cell_type": "markdown",
   "metadata": {},
   "source": [
    "# Классы"
   ]
  },
  {
   "cell_type": "code",
   "execution_count": 367,
   "metadata": {},
   "outputs": [],
   "source": [
    "import numpy as np\n",
    "from numba import njit"
   ]
  },
  {
   "cell_type": "code",
   "execution_count": 368,
   "metadata": {},
   "outputs": [],
   "source": [
    "class ZeroCrossingSignal:\n",
    "\n",
    "    def __init__(self, signal, harmonic_hf, start_offset, start_period):\n",
    "        self.__amplitudes, self.__phases, self.__biases = self.zero_crossing(signal, harmonic_hf, start_offset, start_period)\n",
    "\n",
    "    @staticmethod\n",
    "    @njit\n",
    "    def zero_crossing(signal, harmonic_hf, start_offset, start_period):\n",
    "        offset = start_offset\n",
    "        period = start_period\n",
    "\n",
    "        amplitudes = [1.,]\n",
    "        phases = [1.,]\n",
    "        biases = [1.,]\n",
    "\n",
    "        amplitudes.pop()\n",
    "        phases.pop()\n",
    "        biases.pop()\n",
    "\n",
    "        harmonics_vector = np.array([0., 0., 0.])\n",
    "        iteration = 0\n",
    "\n",
    "        while offset < (len(signal) - np.floor(period)-1):\n",
    "            phase = 2 * np.pi / period * harmonic_hf # связано со временеи обората, длинна сгустка - bunch ## похоже на фазу \n",
    " \n",
    "            harmonics_vector[0] = np.sum(signal[offset:offset + int(period) + 1] * np.cos(phase * np.arange(int(period) + 1)))\n",
    "            harmonics_vector[1] = np.sum(signal[offset:offset + int(period) + 1] * np.sin(phase * np.arange(int(period) + 1)))\n",
    "            harmonics_vector[2] = np.sum(signal[offset:offset + int(period) + 1])\n",
    " \n",
    "            P_b = np.array(((0., 0., 0.),\n",
    "                            (0., 0., 0.),\n",
    "                            (0., 0., 0.)))\n",
    "\n",
    "            cos_vals = np.cos(phase * np.arange(int(period) + 1))\n",
    "            sin_vals = np.sin(phase * np.arange(int(period) + 1))\n",
    "\n",
    "            P_b[0, 0] = np.sum(cos_vals**2)\n",
    "            P_b[0, 1] = np.sum(cos_vals * sin_vals)\n",
    "            P_b[0, 2] = np.sum(cos_vals)\n",
    "            P_b[1, 0] = P_b[0, 1]\n",
    "            P_b[1, 1] = np.sum(sin_vals**2)\n",
    "            P_b[1, 2] = np.sum(sin_vals)\n",
    "            P_b[2, 0] = P_b[0, 2]\n",
    "            P_b[2, 1] = P_b[1, 2]\n",
    "            P_b[2, 2] = int(period) + 1\n",
    "\n",
    "            A = np.linalg.inv(P_b) @ harmonics_vector.T # ----\n",
    "     \n",
    "            amplitudes.append(np.sqrt(A[0]**2 + A[1]**2)) # амплитуда \n",
    "            phases.append(offset + (1 / phase * np.arctan2(A[0], -A[1]))) # фаза \n",
    "            biases.append(A[2]) # ----\n",
    "\n",
    "            offset = int(phases[iteration] + period) # перечет офсета \n",
    "\n",
    "            period = 1 / 10 * (phases[iteration] - phases[iteration-10]) if iteration > 12 else period # перечсет периода для окна \n",
    "\n",
    "            iteration += 1\n",
    "\n",
    "        return np.array(amplitudes), np.array(phases), np.array(biases)\n",
    "        \n",
    "    @property\n",
    "    def amplitudes(self): return self.__amplitudes\n",
    "\n",
    "    @property\n",
    "    def phases(self): return self.__phases\n",
    "\n",
    "    @property\n",
    "    def biases(self): return self.__biases"
   ]
  },
  {
   "cell_type": "code",
   "execution_count": 369,
   "metadata": {},
   "outputs": [],
   "source": [
    "class LorentzFactors:\n",
    "    def __init__(self, phases, booster_perimeter, delta_time, speed_of_light=2.997925e10, proton_rest_mass = 938.256e6):\n",
    "        self.__phase_difference = np.diff(phases)\n",
    "        self.__beta = booster_perimeter / (speed_of_light * delta_time * self.phase_difference)\n",
    "        self.__gamma = 1 / np.sqrt(1 - self.beta**2)\n",
    "        self.__energy = (self.gamma-1) * proton_rest_mass\n",
    "\n",
    "    @property\n",
    "    def phase_difference(self): return self.__phase_difference\n",
    "\n",
    "    @property\n",
    "    def beta(self): return self.__beta\n",
    "\n",
    "    @property\n",
    "    def gamma(self): return self.__gamma\n",
    "\n",
    "    @property\n",
    "    def energy(self): return self.__energy"
   ]
  },
  {
   "cell_type": "code",
   "execution_count": 370,
   "metadata": {},
   "outputs": [],
   "source": [
    "class ParametersFCTRF:\n",
    "    def __init__(self, signal_fct, signal_rf, period, offset_fct, offset_rf, offset_between_signals,\n",
    "                 harmonic_hf, booster_perimeter, delta_time, averaging_window_for_finding_fct_minimums,\n",
    "                 averaging_window_for_phases, phase_offset=0, charge_number = 28, proton_rest_mass = 938.256e6,\n",
    "                 electron_charge = 1.6021e-19, speed_of_light = 2.997925e10):\n",
    "        self.__zero_crossing_rf = ZeroCrossingSignal(signal_rf, harmonic_hf, offset_rf, period)\n",
    "        self.__phases = self.__zero_crossing_rf.phases\n",
    "        self.__lorentz_factors_rf = LorentzFactors(self.zero_crossing_rf.phases, booster_perimeter, delta_time, speed_of_light, proton_rest_mass)\n",
    "        self.__discretized_phases = np.floor(self.zero_crossing_rf.phases[1:]).astype(int)\n",
    "        self.__discretized_phases_with_offset = self.discretized_phases[phase_offset:]\n",
    "        self.__fct_minimums = self.signal_minimums_with_averaging(signal_fct[offset_between_signals:], self.discretized_phases_with_offset,\n",
    "                                                                averaging_window_for_finding_fct_minimums)\n",
    "        self.__corrected_phases = self.correct_phases(signal_fct[offset_between_signals:], self.fct_minimums, self.zero_crossing_rf.phases,\n",
    "                                                      phase_offset, harmonic_hf)\n",
    "        self.__averaged_phases = np.convolve(np.hstack((np.zeros(phase_offset), self.corrected_phases)), #Зачем-то добавляется два нуля...\n",
    "                                    np.ones(averaging_window_for_phases)/averaging_window_for_phases,\n",
    "                                    mode='valid')[::averaging_window_for_phases][:-1] #Зачем-то откидывается последнее...\n",
    "\n",
    "        self.__intensities = self.find_intensities(signal_fct[offset_between_signals:], self.fct_minimums, self.discretized_phases_with_offset,\n",
    "                                        delta_time, charge_number=charge_number, electron_charge=electron_charge)       \n",
    "    \n",
    "    @property\n",
    "    def phases(self): return self.__phases\n",
    "\n",
    "    @property\n",
    "    def zero_crossing_rf(self): return self.__zero_crossing_rf\n",
    "\n",
    "    @property\n",
    "    def lorentz_factors_rf(self): return self.__lorentz_factors_rf\n",
    "\n",
    "    @property\n",
    "    def discretized_phases(self): return self.__discretized_phases\n",
    "\n",
    "    @property\n",
    "    def discretized_phases_with_offset(self): return self.__discretized_phases_with_offset\n",
    "\n",
    "    @property\n",
    "    def fct_minimums(self): return self.__fct_minimums\n",
    "\n",
    "    @property\n",
    "    def corrected_phases(self): return self.__corrected_phases\n",
    "\n",
    "    @property\n",
    "    def averaged_phases(self): return self.__averaged_phases\n",
    "\n",
    "    @property\n",
    "    def intensities(self): return self.__intensities\n",
    "\n",
    "    @staticmethod\n",
    "    @njit\n",
    "    def correct_phases(signal, signal_minimums, phases, phase_offset, harmonic_hf):\n",
    "        discretized_phases = phases[1:].astype('int32')\n",
    "        corrected_phases = np.zeros(len(discretized_phases) - phase_offset - 1, dtype=float)\n",
    "\n",
    "        for i in range(len(corrected_phases)):\n",
    "            up_sum = np.sum((signal[discretized_phases[phase_offset+i]: discretized_phases[phase_offset+i+1]+1] - signal_minimums[i])*\\\n",
    "                            (np.arange(discretized_phases[phase_offset+i+1]-discretized_phases[phase_offset+i]+1) + discretized_phases[phase_offset+i] -\\\n",
    "                               (phases[phase_offset+i+2] + phases[phase_offset+i+1]) / 2))\n",
    "            under_sum = np.sum(signal[discretized_phases[phase_offset+i]:\n",
    "                                    discretized_phases[phase_offset+i+1]+1] - signal_minimums[i])\n",
    "            corrected_phases[i] = 360 * harmonic_hf / (discretized_phases[phase_offset+i+1] - discretized_phases[phase_offset+i]) * (up_sum / under_sum)\n",
    "        \n",
    "        return corrected_phases\n",
    "\n",
    "    @staticmethod\n",
    "    @njit\n",
    "    def find_intensities(signal, signal_minimums, phases, delta_time, charge_number = 28, electron_charge=1.6021e-19):\n",
    "        intensities = np.zeros((len(phases)-1))\n",
    "        for i in range(len(phases)-1):\n",
    "            intensities[i] = 8.6 * 10**(-5) * (10**(-3) / (5 * charge_number)) *\\\n",
    "            (delta_time / electron_charge) * np.sum(signal[phases[i]: phases[i+1] + 1] - signal_minimums[i]) / 10\n",
    "        return intensities \n",
    "\n",
    "    @staticmethod\n",
    "    @njit\n",
    "    def signal_minimums_with_averaging(signal, period_nodes, window_length):\n",
    "        result = np.zeros(len(period_nodes)-1)\n",
    "        for i in range(len(period_nodes)-1):\n",
    "            result[i] = np.convolve(signal[period_nodes[i]: period_nodes[i+1]], np.ones(window_length) / window_length)[window_length-1: -window_length+1].min()\n",
    "        return result"
   ]
  },
  {
   "cell_type": "code",
   "execution_count": 371,
   "metadata": {},
   "outputs": [
    {
     "data": {
      "text/plain": [
       "array([59, 72, 80])"
      ]
     },
     "execution_count": 371,
     "metadata": {},
     "output_type": "execute_result"
    }
   ],
   "source": [
    "np.convolve([1, 2, 3, 4, 5, 6, 3 ,4, 4], [1, 2, 3,1, 3, 5 ,6])[6:-6]"
   ]
  },
  {
   "cell_type": "code",
   "execution_count": 372,
   "metadata": {},
   "outputs": [
    {
     "data": {
      "text/plain": [
       "array([59, 72, 80])"
      ]
     },
     "execution_count": 372,
     "metadata": {},
     "output_type": "execute_result"
    }
   ],
   "source": [
    "np.convolve([1, 2, 3, 4, 5, 6, 3 ,4, 4], [1, 2, 3,1, 3, 5, 6], mode='valid')"
   ]
  },
  {
   "cell_type": "markdown",
   "metadata": {},
   "source": [
    "# Константы"
   ]
  },
  {
   "cell_type": "code",
   "execution_count": 373,
   "metadata": {},
   "outputs": [],
   "source": [
    "mass_proton = 938.256 * 10**6 # масса покоя протона \n",
    "charge_electron  = 1.6021 * 10**(-19) # заряд электрона в Кл\n",
    "speed_of_light = 2.997925 * 10**10"
   ]
  },
  {
   "cell_type": "markdown",
   "metadata": {},
   "source": [
    "# Параметры"
   ]
  },
  {
   "cell_type": "code",
   "execution_count": 374,
   "metadata": {},
   "outputs": [],
   "source": [
    "booster_perimeter = 21096 # периметр бустера в мм #ВЕЗДЕ ОДИН\n",
    "delta_time = (50 * 10e5)**(-1) #ВЕЗДЕ ОДНО\n",
    "\n",
    "# оффсеты по какой-то причине отличаются у некоторых, это нужно уточнить\n",
    "offset_fct = 45 #нафиг не нужен в классе\n",
    "\n",
    "#ОБЩИЕ ПАРАМЕТРЫ\n",
    "booster_perimeter = 21096 # периметр бустера в мм\n",
    "delta_time = (5e6)**(-1) \n",
    "offset_between_signals = 10\n",
    "data_length = 7 * 32 * 128 * 1024 + 1\n",
    "phase_offset = 2\n",
    "averaging_window_for_finding_fct_minimums = 13\n",
    "averaging_window_for_phases = 20\n",
    "bytes_to_skip_for_second_half = 68_000_000"
   ]
  },
  {
   "cell_type": "code",
   "execution_count": 375,
   "metadata": {},
   "outputs": [],
   "source": [
    "half_names = 'first_half', 'second_half'\n",
    "period = {'first_half': 425.067, 'second_half': 127.848}\n",
    "harmonic_hf = {'first_half': 5, 'second_half': 1}\n",
    "offset_rf = {'first_half': 10, 'second_half': 112}"
   ]
  },
  {
   "cell_type": "code",
   "execution_count": 376,
   "metadata": {},
   "outputs": [],
   "source": [
    "signals_fct_filepaths = ['data/booster_acceleration/27_01_23_booster_fct_1.bin', 'data/booster_acceleration/27_01_23_booster_fct_2.bin']\n",
    "signals_rf_filepaths = ['data/booster_acceleration/27_01_23_booster_rf_1.bin', 'data/booster_acceleration/27_01_23_booster_rf_2.bin']"
   ]
  },
  {
   "cell_type": "code",
   "execution_count": 377,
   "metadata": {},
   "outputs": [],
   "source": [
    "signals_rf = []\n",
    "signals_fct = []\n",
    "for signal_fct_filepath, signal_rf_filepath in zip(signals_fct_filepaths, signals_rf_filepaths):\n",
    "    signals_rf.append({'first_half': np.fromfile(signal_rf_filepath, dtype='int16')[:data_length],\n",
    "                      'second_half': np.fromfile(signal_rf_filepath, dtype='int16', offset=bytes_to_skip_for_second_half)[:data_length]})\n",
    "\n",
    "    signals_fct.append({'first_half': np.fromfile(signal_fct_filepath, dtype='int16')[:data_length],\n",
    "                       'second_half': np.fromfile(signal_fct_filepath, dtype='int16', offset=bytes_to_skip_for_second_half)[:data_length]})"
   ]
  },
  {
   "cell_type": "code",
   "execution_count": 378,
   "metadata": {},
   "outputs": [],
   "source": [
    "parameters_fct_rf = []\n",
    "for i in range(len(signals_rf)):\n",
    "    dict_to_append = {}\n",
    "    for key in half_names:\n",
    "        dict_to_append[key] = ParametersFCTRF(signal_fct=signals_fct[i][key], signal_rf=signals_rf[i][key], period=period[key],\n",
    "                                             offset_fct=offset_fct, offset_rf=offset_rf[key], offset_between_signals=offset_between_signals,\n",
    "                                             harmonic_hf=harmonic_hf[key], booster_perimeter=booster_perimeter, delta_time=delta_time,\n",
    "                                             phase_offset=phase_offset, averaging_window_for_finding_fct_minimums=averaging_window_for_finding_fct_minimums,\n",
    "                                             averaging_window_for_phases=averaging_window_for_phases)\n",
    "    parameters_fct_rf.append(dict_to_append)"
   ]
  },
  {
   "cell_type": "code",
   "execution_count": 379,
   "metadata": {},
   "outputs": [],
   "source": [
    "import pandas as pd\n",
    "\n",
    "with open('Acceleration in Booster measured with FCT/BoosterAcceleration1_1half.dat', \"rb\") as file:\n",
    "    parameters_from_dan = [\n",
    "        {'first_half': pd.DataFrame(np.load(file).reshape(-1,3), columns=['Phases', 'Intensities', 'Corrected phases'])}]\n",
    "\n",
    "with open('Acceleration in Booster measured with FCT/BoosterAcceleration1_2half.dat', \"rb\") as file:\n",
    "    parameters_from_dan[0]['second_half'] = pd.DataFrame(np.load(file).reshape(-1,3), columns=['Phases', 'Intensities', 'Corrected phases'])\n",
    "\n",
    "with open('Acceleration in Booster measured with FCT/BoosterAcceleration2_1half.dat', \"rb\") as file:\n",
    "    parameters_from_dan.append({'first_half': pd.DataFrame(np.load(file).reshape(-1,3), columns=['Phases', 'Intensities', 'Corrected phases'])})\n",
    "\n",
    "with open('Acceleration in Booster measured with FCT/BoosterAcceleration2_2half.dat', \"rb\") as file:\n",
    "    parameters_from_dan[1]['second_half'] = pd.DataFrame(np.load(file).reshape(-1,3), columns=['Phases', 'Intensities', 'Corrected phases'])"
   ]
  },
  {
   "cell_type": "code",
   "execution_count": 380,
   "metadata": {},
   "outputs": [],
   "source": [
    "parameters_from_file = []\n",
    "for p in parameters_fct_rf:\n",
    "    dict_to_add = {}\n",
    "    for key in half_names:\n",
    "        dict_to_add[key] = pd.DataFrame(\n",
    "            {'Phases': p[key].phases[phase_offset: -phase_offset],\n",
    "            'Intensities': p[key].intensities,\n",
    "            'Corrected phases': p[key].corrected_phases})\n",
    "    parameters_from_file.append(dict_to_add)"
   ]
  },
  {
   "cell_type": "code",
   "execution_count": 383,
   "metadata": {},
   "outputs": [
    {
     "name": "stdout",
     "output_type": "stream",
     "text": [
      "0 first_half\n",
      "Phases              0.000000e+00\n",
      "Intensities         2.458692e-07\n",
      "Corrected phases    1.847411e-12\n",
      "dtype: float64 \n",
      "\n",
      "0 second_half\n",
      "Phases              0.000000e+00\n",
      "Intensities         1.229346e-07\n",
      "Corrected phases    7.105427e-13\n",
      "dtype: float64 \n",
      "\n",
      "1 first_half\n",
      "Phases              0.000000e+00\n",
      "Intensities         2.607703e-07\n",
      "Corrected phases    3.694822e-12\n",
      "dtype: float64 \n",
      "\n",
      "1 second_half\n",
      "Phases              0.000000e+00\n",
      "Intensities         1.192093e-07\n",
      "Corrected phases    7.815970e-13\n",
      "dtype: float64 \n",
      "\n"
     ]
    }
   ],
   "source": [
    "for i in range(len(parameters_from_file)):\n",
    "    for key in half_names:\n",
    "        print(i, key)\n",
    "        print((parameters_from_dan[i][key] - parameters_from_file[i][key]).max(), '\\n')"
   ]
  },
  {
   "cell_type": "code",
   "execution_count": null,
   "metadata": {},
   "outputs": [],
   "source": []
  },
  {
   "cell_type": "code",
   "execution_count": null,
   "metadata": {},
   "outputs": [],
   "source": []
  }
 ],
 "metadata": {
  "kernelspec": {
   "display_name": "Python 3",
   "language": "python",
   "name": "python3"
  },
  "language_info": {
   "codemirror_mode": {
    "name": "ipython",
    "version": 3
   },
   "file_extension": ".py",
   "mimetype": "text/x-python",
   "name": "python",
   "nbconvert_exporter": "python",
   "pygments_lexer": "ipython3",
   "version": "3.11.4"
  },
  "orig_nbformat": 4
 },
 "nbformat": 4,
 "nbformat_minor": 2
}
