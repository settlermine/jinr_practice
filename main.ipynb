{
 "cells": [
  {
   "cell_type": "code",
   "execution_count": 2,
   "metadata": {},
   "outputs": [],
   "source": [
    "import numpy as np\n",
    "import pandas as pd\n",
    "import scipy\n",
    "import matplotlib.pyplot as plt\n",
    "import seaborn as sns"
   ]
  },
  {
   "cell_type": "code",
   "execution_count": 3,
   "metadata": {},
   "outputs": [],
   "source": [
    "def read_data(filepath: str, offset: int = 0, data_length: int = None, data_type: str ='int16') -> pd.DataFrame:\n",
    "    \"\"\"Фукнция для считывания данных из бинарных файлов\n",
    "\n",
    "    Args:\n",
    "        filepath (str): Путь до файла.\n",
    "        offset (int, optional): Количество наблюдений, которое нужно пропустить сначала. Defaults to 0.\n",
    "        data_length (int, optional): Необходимое количество наблюдений. Если не передавать никакого значения, будут считаны все данные, начиная с offset. Defaults to None.\n",
    "        data_type (str, optional): Тип данных. Defaults to 'int16'.\n",
    "\n",
    "    Returns:\n",
    "        pd.DataFrame: Итоговая таблица. Столбцы right, top, left, bottom отвечают за данные с четырех пикапов.\n",
    "    \"\"\"\n",
    "\n",
    "    # Считывание данных в один вектор\n",
    "    line_data = np.fromfile(filepath, dtype=data_type)\n",
    "    # Разделение вектора на четыре столбца матрицы, каждый из которых соответствует пикапу\n",
    "    data = line_data.reshape(-1, 4)\n",
    "    # Формирование датафрейма на основе предыдущей матрицы\n",
    "    data = pd.DataFrame(data, columns=['right', 'top', 'left', 'bottom'])\n",
    "    # Если не передано никакого значения в data_length, то будут браться все значение, начиная с offset\n",
    "    if data_length is None: data_length = len(data) - offset\n",
    "    # Из полученного датафрейма делается срез, начиная с offset, длинной data_length. в котором сбрасываются индесы (чтобы они начинались с нуля)\n",
    "    data = data.iloc[offset: offset + data_length].reset_index().drop('index', axis=1)\n",
    "    return data"
   ]
  },
  {
   "cell_type": "code",
   "execution_count": 9,
   "metadata": {},
   "outputs": [],
   "source": [
    "def find_period_length_fft(data: np.ndarray, **kwargs) -> float:\n",
    "    \"\"\"Вычисление длины периода в заданном веторе данных.\n",
    "\n",
    "    Args:\n",
    "        data (np.ndarray): Вектор данных.\n",
    "        **kwargs: Дополнительные ключевые аргументы - параметры для метода Фурье.\n",
    "                Подробнее можно прочитать на https://docs.scipy.org/doc/scipy/reference/generated/scipy.fft.fft.html#scipy-fft-fft\n",
    "\n",
    "    Returns:\n",
    "        float: Значение периода. Может получиться дробным.\n",
    "    \"\"\"\n",
    "\n",
    "    # Применение прямого преобразования метода Фурье к данным\n",
    "    yf = scipy.fft.fft(data, **kwargs)\n",
    "    # Поиск индекса максимального значения в абсолютных величинах преобразованного вектора\n",
    "    idx = np.argmax(np.abs(yf))\n",
    "    # Нахождение длины периода, путем деления длины исходных данных на индекс максимального значения\n",
    "    period = len(data)/idx\n",
    "    return period"
   ]
  },
  {
   "cell_type": "code",
   "execution_count": 10,
   "metadata": {},
   "outputs": [],
   "source": [
    "def get_beam_center_positions(summary_resonace: np.ndarray, difference_resonance: np.ndarray, period_length: float) -> np.ndarray:\n",
    "    \"\"\"Фукнция для вычисления координат центра масс по заданным суммарным и разностным резонансом для одной из осей.\n",
    "\n",
    "    Args:\n",
    "        summary_resonace (np.ndarray): Вектор суммарных резонансов по одной из осей.\n",
    "        difference_resonance (np.ndarray): Вектор разностных резонансов по той же самой оси.\n",
    "        period_length (float): Длина периода. Может быть дробной.\n",
    "\n",
    "    Returns:\n",
    "        np.ndarray: Вектор со значениями координаты центра масс для каждого из периодов по заданной оси.\n",
    "    \"\"\"\n",
    "\n",
    "    # Вычисление общего количества периодов\n",
    "    number_of_periods = int(len(summary_resonace) / period_length)\n",
    "    # Задания вектора, с количеством элементов, равным числу периодов, для хранения полученных координат. Изначально заполнен нулями\n",
    "    mass_center_positions = np.zeros(number_of_periods)\n",
    " \n",
    "    # Запускаем цикл от 0 до number_of_periods-1 включительно с шагом 1. Грубо говоря, этим циклом мы пробегаемся по всем периодам\n",
    "    for i in range(number_of_periods):\n",
    "\n",
    "        # Находим срез, соответсвующий текущему периоду, для векторов summary_resonance и difference_resonance.\n",
    "        # ВАЖНАЯ ДЕТАЛЬ. В данном случае, вручную задается тип int64, так как происходит переполнение изначального типа int16 при возведении значений в квадрат\n",
    "        summary_resonance_period_slice = np.array(summary_resonace, 'int64')[int(i*period_length): int((i+1)*period_length)] \n",
    "        difference_resonance_period_slice = np.array(difference_resonance, 'int64')[int(i*period_length): int((i+1)*period_length)] \n",
    " \n",
    "        # Вычисление промежуточных параметров. Автор не особо осведомлен об их природе, поэтому тут могут потребоваться дополнительные пояснения\n",
    "        m_11 = float(np.sum(summary_resonance_period_slice**2))\n",
    "        m_12 = float(np.sum(summary_resonance_period_slice)) \n",
    " \n",
    "        y_1 = float(summary_resonance_period_slice @ difference_resonance_period_slice) \n",
    "        y_2 = float(np.sum(difference_resonance_period_slice)) \n",
    "\n",
    "        # Вычисление значения координаты центра масс для текущего периода. Добавление ее в итоговый вектор\n",
    "        mass_center_positions[i] = ((m_12 * y_2) - (np.floor(period_length) * y_1)) / (m_12 ** 2 - m_11 * np.floor(period_length)) \n",
    " \n",
    "    return mass_center_positions"
   ]
  },
  {
   "cell_type": "code",
   "execution_count": 16,
   "metadata": {},
   "outputs": [],
   "source": [
    "# WARNING!!! Данная функция пока еще не была протестирована для правой части спектра\n",
    "def get_spectrum(beam_center_coordinates: np.ndarray, number_of_samples: int = 2**8, offset: int = 3, is_left_part: bool = True) -> tuple:\n",
    "    \"\"\"Функция для нахождения спектра дробной части бетатронной частоты.\n",
    "\n",
    "    Args:\n",
    "        beam_center_coordinates (np.ndarray): Вектор координат центров масс пучка по одной из осей.\n",
    "        number_of_samples (int, optional): _description_. Число отсчетов для дискретного преобразования Фурье. Для корректной работы должно быть степенью двойки. Defaults to 2**8.\n",
    "        offset (int, optional): _description_. Количество частот, которые мы пропускаем сначала (т.е. считаем их амплитуду нулевой). Defaults to 3.\n",
    "        is_left_part (bool, optional): _description_. Флаг, отвечающий за интересующую часть спектра. Если True - берется левая часть спектра (частота меньше 0.5).\n",
    "            Если False - правая (частота больше 0.5). Defaults to True.\n",
    "\n",
    "    Returns:\n",
    "        tuple: Возвращает кортеж с двумя векторами типов np.ndarray: frequences - значения частот, amplitudes - значения соответствующих им амплитуд.\n",
    "    \"\"\"\n",
    "\n",
    "    # Применяем прямое преобразование Фурье для первый number_of_samples координат центров масс. Для получения нужной нормировки, делим на number_of_samples\n",
    "    fourier_transformed_vector = scipy.fft.fft(np.array(beam_center_coordinates)[:number_of_samples]) / number_of_samples\n",
    "    # Заполняем первые offset значений нулями и оставляем только первую половину значений от преобразованного вектора. В дальнейшем, если будет нужна правая часть, это преобразуется\n",
    "    sliced_fourier_transformed_vector = np.concatenate([np.zeros(offset), fourier_transformed_vector[3: number_of_samples // 2]])\n",
    "    # Находим амплитуды сигналов, находя абсолютные значения для каждой из величин преобразованного вектора\n",
    "    amplitudes = np.abs(sliced_fourier_transformed_vector)\n",
    "\n",
    "    # С помощью данного ветвления происходит выбор между правой и левой частями спектра\n",
    "    if is_left_part:\n",
    "        # Если левая часть спектра, то частоты берутся от 0 до 0.5\n",
    "        frequences = np.arange(0, 0.5, 1 / number_of_samples)\n",
    "    else:\n",
    "        # WARNING!!! Данная часть не тестировалась. Возможные ошибки:\n",
    "        # 1. Неправильный порядок частот или амплитуд. Можно попытаться отразить порядок следования элементов в массиве. Например, amplitudes = amplitudes[::-1].\n",
    "        # 2. Небольшое смещение частот. Для этого, при расчете frequences нужно убрать слагаемое \"+ 1 / number_of periods\"\n",
    "\n",
    "        # Если правая часть спектра, то сначала нужно преобразовать амплитуды\n",
    "        amplitudes = 1 - amplitudes\n",
    "        # Частоты берутся от 0.5 до 1\n",
    "        frequences = np.arange(0.5, 1, 1 / number_of_samples) + 1 / number_of_samples\n",
    "\n",
    "    return frequences, amplitudes"
   ]
  },
  {
   "cell_type": "code",
   "execution_count": null,
   "metadata": {},
   "outputs": [],
   "source": [
    "def find_main_frequence(frequences, amplitudes, slice_percentage=1) -> :\n",
    "    main_frequence_index = np.argmax(amplitudes[:int(slice_percentage * 2 * len(frequences))])\n",
    "    main_frequence = frequences[main_frequence_index]\n",
    "    return main_frequence"
   ]
  },
  {
   "cell_type": "code",
   "execution_count": 14,
   "metadata": {},
   "outputs": [],
   "source": [
    "sns.set_theme()"
   ]
  },
  {
   "cell_type": "code",
   "execution_count": 5,
   "metadata": {},
   "outputs": [],
   "source": [
    "offset = 8 * 6300 // 2 // 4\n",
    "len_data = 4 * 1024**2 // 4"
   ]
  },
  {
   "cell_type": "code",
   "execution_count": 6,
   "metadata": {},
   "outputs": [
    {
     "data": {
      "text/html": [
       "<div>\n",
       "<style scoped>\n",
       "    .dataframe tbody tr th:only-of-type {\n",
       "        vertical-align: middle;\n",
       "    }\n",
       "\n",
       "    .dataframe tbody tr th {\n",
       "        vertical-align: top;\n",
       "    }\n",
       "\n",
       "    .dataframe thead th {\n",
       "        text-align: right;\n",
       "    }\n",
       "</style>\n",
       "<table border=\"1\" class=\"dataframe\">\n",
       "  <thead>\n",
       "    <tr style=\"text-align: right;\">\n",
       "      <th></th>\n",
       "      <th>right</th>\n",
       "      <th>top</th>\n",
       "      <th>left</th>\n",
       "      <th>bottom</th>\n",
       "    </tr>\n",
       "  </thead>\n",
       "  <tbody>\n",
       "    <tr>\n",
       "      <th>0</th>\n",
       "      <td>-147</td>\n",
       "      <td>-273</td>\n",
       "      <td>-406</td>\n",
       "      <td>79</td>\n",
       "    </tr>\n",
       "    <tr>\n",
       "      <th>1</th>\n",
       "      <td>-157</td>\n",
       "      <td>-196</td>\n",
       "      <td>-416</td>\n",
       "      <td>321</td>\n",
       "    </tr>\n",
       "    <tr>\n",
       "      <th>2</th>\n",
       "      <td>17</td>\n",
       "      <td>-124</td>\n",
       "      <td>-416</td>\n",
       "      <td>383</td>\n",
       "    </tr>\n",
       "    <tr>\n",
       "      <th>3</th>\n",
       "      <td>373</td>\n",
       "      <td>-29</td>\n",
       "      <td>-415</td>\n",
       "      <td>230</td>\n",
       "    </tr>\n",
       "    <tr>\n",
       "      <th>4</th>\n",
       "      <td>247</td>\n",
       "      <td>-82</td>\n",
       "      <td>-421</td>\n",
       "      <td>-149</td>\n",
       "    </tr>\n",
       "    <tr>\n",
       "      <th>...</th>\n",
       "      <td>...</td>\n",
       "      <td>...</td>\n",
       "      <td>...</td>\n",
       "      <td>...</td>\n",
       "    </tr>\n",
       "    <tr>\n",
       "      <th>1048571</th>\n",
       "      <td>496</td>\n",
       "      <td>365</td>\n",
       "      <td>32</td>\n",
       "      <td>438</td>\n",
       "    </tr>\n",
       "    <tr>\n",
       "      <th>1048572</th>\n",
       "      <td>526</td>\n",
       "      <td>141</td>\n",
       "      <td>228</td>\n",
       "      <td>682</td>\n",
       "    </tr>\n",
       "    <tr>\n",
       "      <th>1048573</th>\n",
       "      <td>614</td>\n",
       "      <td>271</td>\n",
       "      <td>132</td>\n",
       "      <td>356</td>\n",
       "    </tr>\n",
       "    <tr>\n",
       "      <th>1048574</th>\n",
       "      <td>486</td>\n",
       "      <td>376</td>\n",
       "      <td>130</td>\n",
       "      <td>-11</td>\n",
       "    </tr>\n",
       "    <tr>\n",
       "      <th>1048575</th>\n",
       "      <td>134</td>\n",
       "      <td>134</td>\n",
       "      <td>139</td>\n",
       "      <td>138</td>\n",
       "    </tr>\n",
       "  </tbody>\n",
       "</table>\n",
       "<p>1048576 rows × 4 columns</p>\n",
       "</div>"
      ],
      "text/plain": [
       "         right  top  left  bottom\n",
       "0         -147 -273  -406      79\n",
       "1         -157 -196  -416     321\n",
       "2           17 -124  -416     383\n",
       "3          373  -29  -415     230\n",
       "4          247  -82  -421    -149\n",
       "...        ...  ...   ...     ...\n",
       "1048571    496  365    32     438\n",
       "1048572    526  141   228     682\n",
       "1048573    614  271   132     356\n",
       "1048574    486  376   130     -11\n",
       "1048575    134  134   139     138\n",
       "\n",
       "[1048576 rows x 4 columns]"
      ]
     },
     "execution_count": 6,
     "metadata": {},
     "output_type": "execute_result"
    }
   ],
   "source": [
    "data = read_data(r'bpm_data/11_01_booster_libera08_hbpm3_1_full', offset=offset, data_length=len_data)\n",
    "data"
   ]
  },
  {
   "cell_type": "code",
   "execution_count": 7,
   "metadata": {},
   "outputs": [],
   "source": [
    "summary_resonance = pd.DataFrame()\n",
    "summary_resonance['X'] = data['right'] + data['left']\n",
    "summary_resonance['Y'] = data['top'] + data['bottom']\n",
    "\n",
    "difference_resonance = pd.DataFrame()\n",
    "difference_resonance['X'] = data['right'] - data['left']\n",
    "difference_resonance['Y'] = data['top'] - data['bottom']"
   ]
  },
  {
   "cell_type": "code",
   "execution_count": 11,
   "metadata": {},
   "outputs": [
    {
     "data": {
      "text/plain": [
       "2126.9290060851927"
      ]
     },
     "execution_count": 11,
     "metadata": {},
     "output_type": "execute_result"
    }
   ],
   "source": [
    "period = find_period_length_fft(summary_resonance['X'])\n",
    "period"
   ]
  },
  {
   "cell_type": "code",
   "execution_count": 12,
   "metadata": {},
   "outputs": [],
   "source": [
    "plate_size = {}\n",
    "plate_size['X'] = 64\n",
    "plate_size['Y'] = 33"
   ]
  },
  {
   "cell_type": "code",
   "execution_count": 15,
   "metadata": {},
   "outputs": [
    {
     "data": {
      "image/png": "[encoded data removed]",
      "text/plain": [
       "<Figure size 1000x600 with 2 Axes>"
      ]
     },
     "metadata": {},
     "output_type": "display_data"
    }
   ],
   "source": [
    "beam_center_coords = pd.DataFrame()\n",
    "for axis in ['X', 'Y']:\n",
    "    beam_center_coords[axis] = plate_size[axis] * get_beam_center_positions(summary_resonance[axis], difference_resonance[axis], period)\n",
    "beam_center_coords.hist(figsize = (10, 6));"
   ]
  },
  {
   "cell_type": "code",
   "execution_count": null,
   "metadata": {},
   "outputs": [],
   "source": []
  }
 ],
 "metadata": {
  "kernelspec": {
   "display_name": "Python 3",
   "language": "python",
   "name": "python3"
  },
  "language_info": {
   "codemirror_mode": {
    "name": "ipython",
    "version": 3
   },
   "file_extension": ".py",
   "mimetype": "text/x-python",
   "name": "python",
   "nbconvert_exporter": "python",
   "pygments_lexer": "ipython3",
   "version": "3.10.11"
  },
  "orig_nbformat": 4
 },
 "nbformat": 4,
 "nbformat_minor": 2
}
