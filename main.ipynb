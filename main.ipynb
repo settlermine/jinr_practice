{
 "cells": [
  {
   "cell_type": "code",
   "execution_count": 4,
   "metadata": {},
   "outputs": [],
   "source": [
    "import numpy as np\n",
    "import pandas as pd\n",
    "import scipy\n",
    "import matplotlib.pyplot as plt\n",
    "import seaborn as sns"
   ]
  },
  {
   "cell_type": "code",
   "execution_count": 16,
   "metadata": {},
   "outputs": [],
   "source": [
    "def read_data(filepath: str, offset: int = 0, data_length: int = None, data_type: str ='int16') -> pd.DataFrame:\n",
    "    \"\"\"Фукнция для считывания данных из бинарных файлов\n",
    "\n",
    "    Args:\n",
    "        filepath (str): Путь до файла.\n",
    "        offset (int, optional): Количество наблюдений, которое нужно пропустить сначала. Defaults to 0.\n",
    "        data_length (int, optional): Необходимое количество наблюдений. Если не передавать никакого значения, будут считаны все данные, начиная с offset. Defaults to None.\n",
    "        data_type (str, optional): Тип данных. Defaults to 'int16'.\n",
    "\n",
    "    Returns:\n",
    "        pd.DataFrame: Итоговая таблица. Столбцы A, B, C, D отвечают за данные с четырех пикапов.\n",
    "    \"\"\"\n",
    "\n",
    "    # Считывание данных в один вектор\n",
    "    line_data = np.fromfile(filepath, dtype=data_type)\n",
    "    # Разделение вектора на четыре столбца матрицы, каждый из которых соответствует пикапу\n",
    "    data = line_data.reshape(-1, 4)\n",
    "    # Формирование датафрейма на основе предыдущей матрицы\n",
    "    data = pd.DataFrame(data, columns=['A', 'B', 'C', 'D'])\n",
    "    # Если не передано никакого значения в data_length, то будут браться все значение, начиная с offset\n",
    "    if data_length is None: data_length = len(data) - offset\n",
    "    # Из полученного датафрейма делается срез, начиная с offset, длинной data_length. в котором сбрасываются индесы (чтобы они начинались с нуля)\n",
    "    data = data.iloc[offset: offset + data_length].reset_index().drop('index', axis=1)\n",
    "    return data"
   ]
  },
  {
   "cell_type": "code",
   "execution_count": 18,
   "metadata": {},
   "outputs": [],
   "source": [
    "def find_period_length_fft(data: np.ndarray, **kwargs) -> float:\n",
    "    \"\"\"Вычисление длины периода в заданном веторе данных\n",
    "\n",
    "    Args:\n",
    "        data (np.ndarray): Вектор данных\n",
    "        **kwargs: Дополнительные ключевые аргументы, параметры для метода Фурье.\n",
    "                Подробнее можно прочитать на https://docs.scipy.org/doc/scipy/reference/generated/scipy.fft.fft.html#scipy-fft-fft\n",
    "\n",
    "    Returns:\n",
    "        float: Значение периода. Может получиться дробным\n",
    "    \"\"\"\n",
    "\n",
    "    # Применение прямого преобразования метода Фурье к данным\n",
    "    yf = scipy.fft.fft(data, **kwargs)\n",
    "    # Поиск индекса максимального значения в абсолютных величинах преобразованного вектора\n",
    "    idx = np.argmax(np.abs(yf))\n",
    "    # Нахождение длины периода, путем деления длины исходных данных на индекс максимального значения\n",
    "    period = len(data)/idx\n",
    "    return period"
   ]
  },
  {
   "cell_type": "code",
   "execution_count": 10,
   "metadata": {},
   "outputs": [],
   "source": [
    "offset = 8 * 6300 // 2 // 4\n",
    "len_data = 4 * 1024**2 // 4"
   ]
  },
  {
   "cell_type": "code",
   "execution_count": 20,
   "metadata": {},
   "outputs": [
    {
     "data": {
      "text/html": [
       "<div>\n",
       "<style scoped>\n",
       "    .dataframe tbody tr th:only-of-type {\n",
       "        vertical-align: middle;\n",
       "    }\n",
       "\n",
       "    .dataframe tbody tr th {\n",
       "        vertical-align: top;\n",
       "    }\n",
       "\n",
       "    .dataframe thead th {\n",
       "        text-align: right;\n",
       "    }\n",
       "</style>\n",
       "<table border=\"1\" class=\"dataframe\">\n",
       "  <thead>\n",
       "    <tr style=\"text-align: right;\">\n",
       "      <th></th>\n",
       "      <th>A</th>\n",
       "      <th>B</th>\n",
       "      <th>C</th>\n",
       "      <th>D</th>\n",
       "    </tr>\n",
       "  </thead>\n",
       "  <tbody>\n",
       "    <tr>\n",
       "      <th>0</th>\n",
       "      <td>-147</td>\n",
       "      <td>-273</td>\n",
       "      <td>-406</td>\n",
       "      <td>79</td>\n",
       "    </tr>\n",
       "    <tr>\n",
       "      <th>1</th>\n",
       "      <td>-157</td>\n",
       "      <td>-196</td>\n",
       "      <td>-416</td>\n",
       "      <td>321</td>\n",
       "    </tr>\n",
       "    <tr>\n",
       "      <th>2</th>\n",
       "      <td>17</td>\n",
       "      <td>-124</td>\n",
       "      <td>-416</td>\n",
       "      <td>383</td>\n",
       "    </tr>\n",
       "    <tr>\n",
       "      <th>3</th>\n",
       "      <td>373</td>\n",
       "      <td>-29</td>\n",
       "      <td>-415</td>\n",
       "      <td>230</td>\n",
       "    </tr>\n",
       "    <tr>\n",
       "      <th>4</th>\n",
       "      <td>247</td>\n",
       "      <td>-82</td>\n",
       "      <td>-421</td>\n",
       "      <td>-149</td>\n",
       "    </tr>\n",
       "    <tr>\n",
       "      <th>...</th>\n",
       "      <td>...</td>\n",
       "      <td>...</td>\n",
       "      <td>...</td>\n",
       "      <td>...</td>\n",
       "    </tr>\n",
       "    <tr>\n",
       "      <th>1048571</th>\n",
       "      <td>496</td>\n",
       "      <td>365</td>\n",
       "      <td>32</td>\n",
       "      <td>438</td>\n",
       "    </tr>\n",
       "    <tr>\n",
       "      <th>1048572</th>\n",
       "      <td>526</td>\n",
       "      <td>141</td>\n",
       "      <td>228</td>\n",
       "      <td>682</td>\n",
       "    </tr>\n",
       "    <tr>\n",
       "      <th>1048573</th>\n",
       "      <td>614</td>\n",
       "      <td>271</td>\n",
       "      <td>132</td>\n",
       "      <td>356</td>\n",
       "    </tr>\n",
       "    <tr>\n",
       "      <th>1048574</th>\n",
       "      <td>486</td>\n",
       "      <td>376</td>\n",
       "      <td>130</td>\n",
       "      <td>-11</td>\n",
       "    </tr>\n",
       "    <tr>\n",
       "      <th>1048575</th>\n",
       "      <td>134</td>\n",
       "      <td>134</td>\n",
       "      <td>139</td>\n",
       "      <td>138</td>\n",
       "    </tr>\n",
       "  </tbody>\n",
       "</table>\n",
       "<p>1048576 rows × 4 columns</p>\n",
       "</div>"
      ],
      "text/plain": [
       "           A    B    C    D\n",
       "0       -147 -273 -406   79\n",
       "1       -157 -196 -416  321\n",
       "2         17 -124 -416  383\n",
       "3        373  -29 -415  230\n",
       "4        247  -82 -421 -149\n",
       "...      ...  ...  ...  ...\n",
       "1048571  496  365   32  438\n",
       "1048572  526  141  228  682\n",
       "1048573  614  271  132  356\n",
       "1048574  486  376  130  -11\n",
       "1048575  134  134  139  138\n",
       "\n",
       "[1048576 rows x 4 columns]"
      ]
     },
     "execution_count": 20,
     "metadata": {},
     "output_type": "execute_result"
    }
   ],
   "source": [
    "data = read_data(r'bpm_data/11_01_booster_libera08_hbpm3_1_full', offset=offset, data_length=len_data)\n",
    "data"
   ]
  },
  {
   "cell_type": "code",
   "execution_count": 21,
   "metadata": {},
   "outputs": [],
   "source": [
    "sx = data['A'] + data['C']\n",
    "deltax = data['A'] - data['C']\n",
    "sy = data['B'] + data['D']\n",
    "deltay = data['B'] - data['D']"
   ]
  },
  {
   "cell_type": "code",
   "execution_count": 22,
   "metadata": {},
   "outputs": [
    {
     "data": {
      "text/plain": [
       "2126.9290060851927"
      ]
     },
     "execution_count": 22,
     "metadata": {},
     "output_type": "execute_result"
    }
   ],
   "source": [
    "period = find_period_length_fft(sx)\n",
    "period"
   ]
  },
  {
   "cell_type": "code",
   "execution_count": null,
   "metadata": {},
   "outputs": [],
   "source": []
  }
 ],
 "metadata": {
  "kernelspec": {
   "display_name": "Python 3",
   "language": "python",
   "name": "python3"
  },
  "language_info": {
   "codemirror_mode": {
    "name": "ipython",
    "version": 3
   },
   "file_extension": ".py",
   "mimetype": "text/x-python",
   "name": "python",
   "nbconvert_exporter": "python",
   "pygments_lexer": "ipython3",
   "version": "3.10.11"
  },
  "orig_nbformat": 4
 },
 "nbformat": 4,
 "nbformat_minor": 2
}
