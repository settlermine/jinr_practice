{
 "cells": [
  {
   "cell_type": "code",
   "execution_count": 1,
   "metadata": {},
   "outputs": [],
   "source": [
    "import numpy as np\n",
    "import pandas as pd\n",
    "import scipy"
   ]
  },
  {
   "cell_type": "markdown",
   "metadata": {},
   "source": [
    "# Объявление функций"
   ]
  },
  {
   "cell_type": "code",
   "execution_count": 2,
   "metadata": {},
   "outputs": [],
   "source": [
    "def read_data(filepath: str, offset: int = 0, data_length: int = None, data_type: str ='int16') -> pd.DataFrame:\n",
    "    \"\"\"Фукнция для считывания данных из бинарных файлов\n",
    "\n",
    "    Args:\n",
    "        filepath (str): Путь до файла.\n",
    "        offset (int, optional): Количество наблюдений, которое нужно пропустить сначала. Defaults to 0.\n",
    "        data_length (int, optional): Необходимое количество наблюдений. Если не передавать никакого значения, будут считаны все данные, начиная с offset. Defaults to None.\n",
    "        data_type (str, optional): Тип данных. Defaults to 'int16'.\n",
    "\n",
    "    Returns:\n",
    "        pd.DataFrame: Итоговая таблица. Столбцы right, top, left, bottom отвечают за данные с четырех пикапов.\n",
    "    \"\"\"\n",
    "\n",
    "    # Считывание данных в один вектор\n",
    "    line_data = np.fromfile(filepath, dtype=data_type)\n",
    "    # Разделение вектора на четыре столбца матрицы, каждый из которых соответствует пикапу\n",
    "    data = line_data.reshape(-1, 4)\n",
    "    # Формирование датафрейма на основе предыдущей матрицы\n",
    "    data = pd.DataFrame(data, columns=['right', 'top', 'left', 'bottom'])\n",
    "    # Если не передано никакого значения в data_length, то будут браться все значение, начиная с offset\n",
    "    if data_length is None: data_length = len(data) - offset\n",
    "    # Из полученного датафрейма делается срез, начиная с offset, длинной data_length. в котором сбрасываются индесы (чтобы они начинались с нуля)\n",
    "    data = data.iloc[offset: offset + data_length].reset_index().drop('index', axis=1)\n",
    "    return data"
   ]
  },
  {
   "cell_type": "code",
   "execution_count": 3,
   "metadata": {},
   "outputs": [],
   "source": [
    "def fft_with_corrected_frequences(data: np.ndarray, corrected_frequences: np.ndarray, number_of_samples: int = 256, number_of_values: int = None) -> np.ndarray:\n",
    "    \"\"\"Прямое преборазование Фурье с учетом корректировочных частот\n",
    "\n",
    "    Args:\n",
    "        data (np.ndarray): Вектор данных\n",
    "        corrected_frequences (np.ndarray): Вектор корректировочных частот\n",
    "        number_of_samples (int, optional): Число отсчетов для преобразования Фурье. Для корректной работы должно быть степенью двойки. Defaults to 256.\n",
    "        number_of_values (int, optional): Число итоговых знячений. По умолчанию, выводятся все. Defaults to None.\n",
    "\n",
    "    Returns:\n",
    "        np.ndarray: Преобразованный вектор\n",
    "    \"\"\"\n",
    "\n",
    "    # Преобразование данных в формат np.ndarray для корректной работы\n",
    "    data = np.array(data)\n",
    "    # Если number_of_values не был задан, берутся все значение\n",
    "    if number_of_values is None: number_of_values = len(data)\n",
    "    # Реализация прямого преобразования Фурье с корректировочными частотами (2j означает 2 * мнимую единицу)\n",
    "    return np.fromiter((data[:number_of_samples] @\n",
    "            np.exp(2j * np.pi * corrected_frequences[i] * np.arange(number_of_samples))\n",
    "            for i in range(number_of_values)), 'complex')"
   ]
  },
  {
   "cell_type": "code",
   "execution_count": 4,
   "metadata": {},
   "outputs": [],
   "source": [
    "def find_period(data: np.ndarray, number_of_samples: int = 32*2048, sample_length: int = 10, period_correction: float = 0.005,\n",
    "                number_of_amplitudes_for_corrected_period: int = 20, half_window_length: int = 5) -> float:\n",
    "    \"\"\"Поиск периода в данных с помощью преобразования Фурье со сглаживанием и корректировочными частотами\n",
    "\n",
    "    Args:\n",
    "        data (np.ndarray): Вектор данных\n",
    "        number_of_samples (int, optional): Число отсчетов для преобразования Фурье. Defaults to 32*2048.\n",
    "        sample_length (int, optional): Длина окна, в котором выполняется сглаживание методом среднего. Defaults to 10.\n",
    "        period_correction (float, optional): Изменение периода, относительно которого происходит корректировка. Defaults to 0.005.\n",
    "        number_of_amplitudes_for_corrected_period (int, optional): Число амплитуд после второй корректировки. Defaults to 21.\n",
    "        half_window_length (int, optional): Дляга полуокна, в котором будет производится регрессия. Defaults to 5.\n",
    "\n",
    "    Returns:\n",
    "        float: Значение периода\n",
    "    \"\"\"\n",
    "\n",
    "    # Перевод данных в формат np.ndarray для корректной работы\n",
    "    data = np.array(data)\n",
    "    # Разделение данных на numer_of_samples участков по sample_length значений для последующего сглаживания\n",
    "    sampled_data = data[:(number_of_samples * sample_length)].reshape(-1, sample_length)\n",
    "    # Сглаживание данных на каждом из участков посредством усреднения\n",
    "    smoothed_data = pd.DataFrame(sampled_data.T).mean().to_numpy()\n",
    "    # Применение прямого преобразования Фурье для сглаженных данных. Нахождение амплитуд\n",
    "    fourier_decomposition_amplitudes = np.abs(scipy.fft.fft(smoothed_data, norm='forward'))\n",
    "    # Нахождение несущей частоты для полученных амплитуд\n",
    "    carrier_frequency = np.argmax(fourier_decomposition_amplitudes)\n",
    "    # Проверка на неравенство несущей частоты нулю\n",
    "    if carrier_frequency == 0: raise ValueError(\"Incorrect_data. Carrier frequency can't be zero\")\n",
    "    # Нахождения периода в данных после сглаживания\n",
    "    period_after_smoothing = number_of_samples * sample_length / carrier_frequency\n",
    "    # Нахождение корректировочных периодов\n",
    "    corrected_periods = period_after_smoothing * (1 + period_correction * (2*np.arange(number_of_amplitudes_for_corrected_period + 1)\n",
    "                                                                           / number_of_amplitudes_for_corrected_period - 1)) # Уточненные периоды для каждого окна\n",
    "    # Применение прямого преобразования Фурье к данным с учетом корректировочных периодов. Нахождение амплитуд\n",
    "    fourier_decomposition_amplitudes_with_corrected_periods = 1 / (number_of_samples * sample_length) *\\\n",
    "        np.abs(fft_with_corrected_frequences(data, 1 / corrected_periods,\n",
    "                                      number_of_samples*sample_length,\n",
    "                                      number_of_amplitudes_for_corrected_period))\n",
    "    # Нахождение несущей частоты  (или несущего периода) для полученных на предыдущем шаге амплитудах\n",
    "    carrier_frequency_in_corrected_spectrum = np.argmax(fourier_decomposition_amplitudes_with_corrected_periods)\n",
    "    # Нахождение значений отклонений от несущего периода. В данном случае, в обе стороны откладывается по half_window_length значений\n",
    "    deviations_form_carrier_period_slice = corrected_periods[carrier_frequency_in_corrected_spectrum-half_window_length:\n",
    "                                                             carrier_frequency_in_corrected_spectrum+half_window_length+1] -\\\n",
    "                                            carrier_frequency_in_corrected_spectrum\n",
    "    # Аналогично, берется такое же окно для амплитуд.\n",
    "    fourier_decomposition_amplitudes_with_corrected_periods_slice =\\\n",
    "        fourier_decomposition_amplitudes_with_corrected_periods[carrier_frequency_in_corrected_spectrum-half_window_length:\n",
    "                                                                carrier_frequency_in_corrected_spectrum+half_window_length+1]\n",
    "    # Построение квадратичной регрессии по отклонениям и амплитудам\n",
    "    square_regressions_coefficients = np.polyfit(deviations_form_carrier_period_slice,\n",
    "                                                fourier_decomposition_amplitudes_with_corrected_periods_slice, 2)\n",
    "    # Нахождение итогового периода в данных\n",
    "    data_period = carrier_frequency_in_corrected_spectrum - (square_regressions_coefficients[1]) / (2 * square_regressions_coefficients[0])\n",
    "\n",
    "    return data_period"
   ]
  },
  {
   "cell_type": "code",
   "execution_count": 5,
   "metadata": {},
   "outputs": [],
   "source": [
    "def get_beam_center_positions(summary_resonace: np.ndarray, difference_resonance: np.ndarray, period_length: float) -> np.ndarray:\n",
    "    \"\"\"Фукнция для вычисления координат центра масс по заданным суммарным и разностным резонансом для одной из осей.\n",
    "\n",
    "    Args:\n",
    "        summary_resonace (np.ndarray): Вектор суммарных резонансов по одной из осей.\n",
    "        difference_resonance (np.ndarray): Вектор разностных резонансов по той же самой оси.\n",
    "        period_length (float): Длина периода. Может быть дробной.\n",
    "\n",
    "    Returns:\n",
    "        np.ndarray: Вектор со значениями координаты центра масс для каждого из периодов по заданной оси.\n",
    "    \"\"\"\n",
    "\n",
    "    # Вычисление общего количества периодов\n",
    "    number_of_periods = int(len(summary_resonace) / period_length)\n",
    "    # Задания вектора, с количеством элементов, равным числу периодов, для хранения полученных координат. Изначально заполнен нулями\n",
    "    mass_center_positions = np.zeros(number_of_periods)\n",
    " \n",
    "    # Запускаем цикл от 0 до number_of_periods-1 включительно с шагом 1. Грубо говоря, этим циклом мы пробегаемся по всем периодам\n",
    "    for i in range(number_of_periods):\n",
    "\n",
    "        # Находим срез, соответсвующий текущему периоду, для векторов summary_resonance и difference_resonance.\n",
    "        # ВАЖНАЯ ДЕТАЛЬ. В данном случае, вручную задается тип int64, так как происходит переполнение изначального типа int16 при возведении значений в квадрат\n",
    "        summary_resonance_period_slice = np.array(summary_resonace, 'int64')[int(i*period_length): int((i+1)*period_length)] \n",
    "        difference_resonance_period_slice = np.array(difference_resonance, 'int64')[int(i*period_length): int((i+1)*period_length)] \n",
    " \n",
    "        # Вычисление промежуточных параметров. Автор не особо осведомлен об их природе, поэтому тут могут потребоваться дополнительные пояснения\n",
    "        m_11 = float(np.sum(summary_resonance_period_slice**2))\n",
    "        m_12 = float(np.sum(summary_resonance_period_slice)) \n",
    " \n",
    "        y_1 = float(summary_resonance_period_slice @ difference_resonance_period_slice) \n",
    "        y_2 = float(np.sum(difference_resonance_period_slice)) \n",
    "\n",
    "        # Вычисление значения координаты центра масс для текущего периода. Добавление ее в итоговый вектор\n",
    "        mass_center_positions[i] = ((m_12 * y_2) - (np.floor(period_length) * y_1)) / (m_12 ** 2 - m_11 * np.floor(period_length)) \n",
    " \n",
    "    return mass_center_positions"
   ]
  },
  {
   "cell_type": "code",
   "execution_count": 6,
   "metadata": {},
   "outputs": [],
   "source": [
    "# WARNING!!! Данная функция пока еще не была протестирована для правой части спектра\n",
    "def get_spectrum(signal: np.ndarray, time_delta: float = 1, number_of_samples: int = 2**8, offset: int = 0, is_left_part: bool = True) -> tuple:\n",
    "    \"\"\"Функция для нахождения спектра.\n",
    "\n",
    "    Args:\n",
    "        signal (np.ndarray): Вектор значений сигнала.\n",
    "        time_delta (float): Значение шага по времени. Defaults to 1.\n",
    "        number_of_samples (int, optional): _description_. Число отсчетов для дискретного преобразования Фурье. Для корректной работы должно быть степенью двойки. Defaults to 2**8.\n",
    "        offset (int, optional): _description_. Количество частот, которые мы пропускаем сначала (т.е. считаем их амплитуду нулевой). Defaults to 0.\n",
    "        is_left_part (bool, optional): _description_. Флаг, отвечающий за интересующую часть спектра. Если True - берется левая часть спектра (частота меньше 0.5).\n",
    "            Если False - правая (частота больше 0.5). Defaults to True.\n",
    "\n",
    "    Returns:\n",
    "        tuple: Возвращает кортеж с двумя векторами типов np.ndarray: frequences - значения частот, amplitudes - значения соответствующих им амплитуд.\n",
    "    \"\"\"\n",
    "\n",
    "    # Применяем прямое преобразование Фурье для первый number_of_samples сигналов. Для получения нужной нормировки, делим на number_of_samples\n",
    "    fourier_transformed_vector = scipy.fft.fft(np.array(signal)[:number_of_samples]) / number_of_samples\n",
    "    # Заполняем первые offset значений нулями и оставляем только первую половину значений от преобразованного вектора. В дальнейшем, если будет нужна правая часть, это преобразуется\n",
    "    sliced_fourier_transformed_vector = np.concatenate([np.zeros(offset), fourier_transformed_vector[offset: number_of_samples // 2]])\n",
    "    # Находим амплитуды сигналов, находя абсолютные значения для каждой из величин преобразованного вектора\n",
    "    amplitudes = np.abs(sliced_fourier_transformed_vector)\n",
    "    # Находим шаг, с которым будем вычислять частоты\n",
    "    frequences_step = 1 / (number_of_samples*time_delta)\n",
    "    # С помощью данного ветвления происходит выбор между правой и левой частями спектра\n",
    "    if is_left_part:\n",
    "        # Если левая часть спектра, то частоты берутся от 0 до 0.5\n",
    "        frequences = np.arange(0, 1/(2*time_delta), frequences_step)\n",
    "    else:\n",
    "        # WARNING!!! Данная часть не тестировалась. Возможные ошибки:\n",
    "        # 1. Неправильный порядок частот или амплитуд. Можно попытаться отразить порядок следования элементов в массиве. Например, amplitudes = amplitudes[::-1].\n",
    "        # 2. Небольшое смещение частот. Для этого, при расчете frequences нужно убрать слагаемое \"+ frequences_step\"\n",
    "\n",
    "        # Если правая часть спектра, то сначала нужно преобразовать амплитуды\n",
    "        amplitudes = 1 - amplitudes\n",
    "        # Частоты берутся от 0.5 до 1\n",
    "        frequences = np.arange(1/(2*time_delta), 1/time_delta, frequences_step) + frequences_step\n",
    "\n",
    "    return frequences, amplitudes"
   ]
  },
  {
   "cell_type": "code",
   "execution_count": 7,
   "metadata": {},
   "outputs": [],
   "source": [
    "def find_main_frequence(frequences: np.ndarray, amplitudes: np.ndarray, slice_percentage: float = 0.5) -> float:\n",
    "    \"\"\"Функция для нахождения основной частоты спектра.\n",
    "\n",
    "    Args:\n",
    "        frequences (np.ndarray): Вектор частот спектра.\n",
    "        amplitudes (np.ndarray): Вектор амплитуд спектра.\n",
    "        slice_percentage (float, optional): Параметр, отвечающий за долю значений, которые будут расматриваться (автор не до конца в этом уверен)/\n",
    "            По умолчанию, берутся все значения. Defaults to 0.5.\n",
    "\n",
    "    Raises:\n",
    "        ValueError: Возникает, если frequences и amplitudes имеют разную длину.\n",
    "\n",
    "    Returns:\n",
    "        float: Значение основной частоты\n",
    "    \"\"\"\n",
    "\n",
    "    # Проверка на соответствие длин frequences и amplitudes. При несоответсвии выдается исключение\n",
    "    if len(frequences) != len(amplitudes):\n",
    "        raise ValueError('frequences and amplitudes must have same length')\n",
    "    \n",
    "    # Находим позицию, на которой находится значение максимальной из амплитуд вместе с соотвествующим срезом (умножение на двойку было в маткадовском коде,\n",
    "    # если его убрать, то значение по умолчанию для slice_percentage нужно сделать равным единице).\n",
    "    main_frequence_index = np.argmax(amplitudes[:int(slice_percentage * 2 * len(frequences))])\n",
    "    # Выделяем частоту, которая находится на найденной выше позиции.\n",
    "    main_frequence = frequences[main_frequence_index]\n",
    "    return main_frequence"
   ]
  },
  {
   "cell_type": "code",
   "execution_count": 8,
   "metadata": {},
   "outputs": [],
   "source": [
    "def damped_oscillations_fit(x_data: np.ndarray, y_data: np.ndarray, bounds: dict = None) -> tuple:\n",
    "    \"\"\"Подгоняет данные под функцию затухающих колебаний вида: A * exp(-beta * x) * cos(omega*x + phi) + bias\n",
    "\n",
    "    Args:\n",
    "        x_data (np.ndarray): Вектор данных для оси абцисс\n",
    "        y_data (np.ndarray): Вектор данных для оси ординат\n",
    "        bounds (dict, optional): Граничные условия для параметров. По умолчанию следующие:\n",
    "                                    {'A': (0, np.inf), 'omega': (-np.inf, np.inf),\n",
    "                                    'phi': (0, 2*np.pi), 'beta': (0, np.inf), 'bias': (-np.inf, np.inf)}.\n",
    "                                 Для их задания нужно передать в функцию словарь такого же вида, где левое и правое значение\n",
    "                                 в каждом из кортежей означают максимально и минимально возможные значение. Если какой-то параметр\n",
    "                                 будет пропущен, он автоматически заменится значением по умолчанию. Для задания бесконечных границ\n",
    "                                 следует использовать np.inf и -np.inf для +∞ и -∞ соответственно.Defaults to None.\n",
    "\n",
    "    Returns:\n",
    "        function: Итоговая фукнция, которая вызываетсяследующим образом: function(t)\n",
    "        dict: Словарь со значениями параметров. Ключи: {'A', 'omega', 'phi', 'beta', 'bias'}\n",
    "    \"\"\"\n",
    "\n",
    "    # Значения границ по умолчанию\n",
    "    default_bounds = {'A': (0, np.inf), 'omega': (-np.inf, np.inf),\n",
    "                    'phi': (0, 2*np.pi), 'beta': (0, np.inf), 'bias': (-np.inf, np.inf)}\n",
    "    # Если параметр bounds в функцию не передавался, то он заменяется значением по умолчанию\n",
    "    if bounds is None: bounds = default_bounds\n",
    "    # Формирование пустого двухуровневого списка, размером 2 на 5, для формирования граничных условий в приемлемом для оптимизатора виде\n",
    "    bounds_list = [[0]*5, [0]*5]\n",
    "    # Цикл, в котором происходит заполнение списка\n",
    "    for i, parameter_name in enumerate(('A', 'omega', 'phi', 'beta', 'bias')):\n",
    "        # Если какой-то из параметров отсутсвует в словаре, он заменяется значением по умолчанию\n",
    "        if parameter_name not in bounds: bounds[parameter_name] = default_bounds[parameter_name]\n",
    "        # Заполнение списка граничными условиями\n",
    "        bounds_list[0][i] = bounds[parameter_name][0]\n",
    "        bounds_list[1][i] = bounds[parameter_name][1]\n",
    "    # Функция гармонических колебаний с параметрами, нужная для последующего фитирования\n",
    "    damped_oscillations_function = lambda t, A, omega, phi, beta, bias: A * np.exp(-beta*t) * np.cos(omega*t + phi) + bias\n",
    "    # Проведение фитирования, извлечение параметров\n",
    "    A, omega, phi, beta, bias = scipy.optimize.curve_fit(damped_oscillations_function, x_data, y_data, bounds=bounds_list)[0]\n",
    "    # Формирование результирующей функции\n",
    "    result_function = lambda t: A * np.exp(-beta*t) * np.cos(omega*t + phi) + bias\n",
    "    # Формирование словаря с итоговыми параметрами\n",
    "    parameters = {'A': A, 'omega': omega, 'phi': phi, 'beta': beta, 'bias': bias}\n",
    "    return result_function, parameters"
   ]
  },
  {
   "cell_type": "code",
   "execution_count": 9,
   "metadata": {},
   "outputs": [],
   "source": [
    "def pseudo_gaussian_exponent_approximation(chromacity: float, delta_impulse: float, approximation_range: float,\n",
    "                                           accuracy: float = 0.01, sigma_bounds: tuple=(0, np.inf)) -> tuple:\n",
    "    \"\"\"Находит функцию вида exp(-x**2 / (2*sigma ** 2)), аппроксимирующую функцию sin(2*pi*chromacity*delta_impulse*x)/(2*pi*chromacity*delta_impulse*x))\n",
    "\n",
    "    Args:\n",
    "        chromacity (float): Хроматичность\n",
    "        delta_impulse (float): Значение величины dp/p_0\n",
    "        approximation_range (float): Правая граница промежутка аппроксимации (левая всегда равна 0)\n",
    "        accuracy (float, optional): Точность задания сетки. Defaults to 0.01.\n",
    "        sigma_bounds (tuple, optional): Граничные условия для параметра sigma. Задаются кортежем вида (min_sigma, max_sigma). Defaults to (0, np.inf).\n",
    "\n",
    "    Returns:\n",
    "        function: Итоговая функция вида exp(-x**2 / (2*sigma ** 2))\n",
    "        function: Изначальная функция вида sin(2*pi*chromacity*delta_impulse*x)/(2*pi*chromacity*delta_impulse*x)\n",
    "        float: Значение параметра sigma \n",
    "    \"\"\"\n",
    "\n",
    "    # Множитель перед x в функции с синусом\n",
    "    multiplier = 2 * np.pi * chromacity * delta_impulse\n",
    "    # Изначальная функция с синусом\n",
    "    initial_function = lambda x: np.sin(multiplier * x) / (multiplier * x)\n",
    "    # Целевая функция с параметром\n",
    "    target_function = lambda x, sigma: np.exp(-x**2 / (2*sigma**2))\n",
    "    # Формирование данных для обучения. Немного отступаем от нуля, чтобы избежать деления на 0\n",
    "    x = np.arange(0.01, approximation_range, accuracy)\n",
    "    y = initial_function(x)\n",
    "    # Нахождение парметра через оптимизацию\n",
    "    sigma = scipy.optimize.curve_fit(target_function, x, y, bounds=sigma_bounds)[0][0]\n",
    "    # Результирующая функция в явном виде\n",
    "    result_function = lambda x: np.exp(-x**2 / (2*sigma**2))\n",
    "    return result_function, initial_function, sigma"
   ]
  },
  {
   "cell_type": "code",
   "execution_count": 10,
   "metadata": {},
   "outputs": [],
   "source": [
    "def bunch_fft(data: np.ndarray, period: float) -> np.ndarray:\n",
    "    \"\"\"Делит вектор данных на периоды и применяет преборазование Фурье для каждого из них\n",
    "\n",
    "    Args:\n",
    "        data (np.ndarray): Вектор данных\n",
    "        period (float): Значение периода (может быть дробным)\n",
    "\n",
    "    Returns:\n",
    "        np.ndarray: Матрица преобразованных данных. Каждая строка отвечает за один из периодов\n",
    "    \"\"\"\n",
    "\n",
    "    # Преобразование данных для избежания некорректной работы\n",
    "    data = np.array(data)\n",
    "    # Вычисление общего числа периода\n",
    "    number_of_periods = int(len(data) / period)\n",
    "    # Создание матрицы, в которой будет сохранен итоговый результат\n",
    "    fourier_transformed_bunches = np.zeros((number_of_periods, int(period)), dtype=complex)\n",
    "    # Цикл по всем периодам    \n",
    "    for i in range(number_of_periods):\n",
    "        # Делаем срез данных, соответсвующий текущему периоду\n",
    "        data_bunch = data[int(i*period): int((i+1)*period)]\n",
    "        # Применяем преобразование Фурье к этому срезу и заносим результат в матрицу. Число значений всегда берем, как период, округленный в меньшую сторону\n",
    "        fourier_transformed_bunches[i] = scipy.fft.fft(data_bunch, int(period), norm='forward')\n",
    "    return fourier_transformed_bunches"
   ]
  },
  {
   "cell_type": "code",
   "execution_count": 11,
   "metadata": {},
   "outputs": [],
   "source": [
    "def restore_original_signal_frequency_domain(signal: np.ndarray, period: float, rotation_frequency: float, transfer_function) -> np.ndarray:\n",
    "    \"\"\"Восстановлене исходного сигнала в частотной области\n",
    "\n",
    "    Args:\n",
    "        signal (np.ndarray): Вектор сигналов\n",
    "        period (float): Значение периода (может быть дробным)\n",
    "        rotation_frequency (float): Частота одного оборота\n",
    "        transfer_function (function): Передаточная функция. Должна вызываться, как transfer_function(frequences)\n",
    "\n",
    "    Returns:\n",
    "        np.ndarray: Матрица с восстановленным сигналом, разделенным по периодам\n",
    "    \"\"\"\n",
    "\n",
    "    # Применяем преобразование Фурье с разделением на периоды\n",
    "    fourier_transformed_bunches = bunch_fft(signal, period)\n",
    "    # Находим спектр частот в соответсвтии с заданной частотой оборота\n",
    "    frequences_spectrum = np.arange(1, int(period)//2 + 1) * rotation_frequency\n",
    "    # Для дальнейшиз расчетов, найдем половину длины периода (если он нечетная, округлится в меньшую стороны)\n",
    "    half_period_length = len(frequences_spectrum)\n",
    "    # Задаем итоговую матрицу, изначально просто копируя в нее преобразованную по Фурье матрицу\n",
    "    restored_signal = fourier_transformed_bunches[:]\n",
    "    # Запускаем цикл по всем периодам\n",
    "    for i in range(len(restored_signal)):\n",
    "        # Обрабатываем первую половину сигнала на данном периоде (самое первое значение в рассмотрение не берем)\n",
    "        restored_signal[i][1:half_period_length+1] /= transfer_function(frequences_spectrum)\n",
    "        # Обрабатываем вторую половину. В случае, если значение периода четное, то центральное значение учтется два раза\n",
    "        if half_period_length % 2 == 0:\n",
    "            restored_signal[i][:half_period_length-1:-1] /= transfer_function(frequences_spectrum).conjugate()\n",
    "        else:\n",
    "            restored_signal[i][:half_period_length:-1] /= transfer_function(frequences_spectrum).conjugate()\n",
    "\n",
    "    return restored_signal"
   ]
  },
  {
   "cell_type": "code",
   "execution_count": 12,
   "metadata": {},
   "outputs": [],
   "source": [
    "def restore_original_signal_time_domain(signal: np.ndarray, period: float, rotation_frequency: float, transfer_function) -> np.ndarray:\n",
    "    \"\"\"Восстановлене исходного сигнала во временной области\n",
    "\n",
    "    Args:\n",
    "        signal (np.ndarray): Вектор сигналов\n",
    "        period (float): Значение периода (может быть дробным)\n",
    "        rotation_frequency (float): Частота одного оборота\n",
    "        transfer_function (function): Передаточная функция. Должна вызываться, как transfer_function(frequences)\n",
    "\n",
    "    Returns:\n",
    "        np.ndarray: Матрица с восстановленным сигналом, разделенным по периодам\n",
    "    \"\"\"\n",
    "\n",
    "    # Восстановление сигнала изначально во временной области\n",
    "    frequency_domain_restored_signal = restore_original_signal_frequency_domain(signal, period, rotation_frequency, transfer_function)\n",
    "    # Создание матрицы для записи итогового результата\n",
    "    time_domain_restored_signal = np.zeros_like(frequency_domain_restored_signal, float)\n",
    "    # Запуск цикла по всем периодам\n",
    "    for i in range(len(time_domain_restored_signal)):\n",
    "        # Применение обратного преобразования Фурье к участку сигнала на периоде. Запись действительных частей в строку матрицы\n",
    "        time_domain_restored_signal[i] = scipy.fft.ifft(frequency_domain_restored_signal[i], norm='forward').real\n",
    "    \n",
    "    return time_domain_restored_signal"
   ]
  },
  {
   "cell_type": "code",
   "execution_count": 13,
   "metadata": {},
   "outputs": [],
   "source": [
    "def correct_offset_with_smoothing(bunched_signal: np.ndarray, smoothing_window_length: int) -> np.ndarray:\n",
    "    \"\"\"Коррекитровка оффсета сигнала с применением сглаживания, методом среднего\n",
    "\n",
    "    Args:\n",
    "        bunched_signal (np.ndarray): Матрица сигнала, разделенного на периоды. Каждая строка матрицы должна отвечать за период\n",
    "        smoothing_window_length (int): Длина окна сглаживания\n",
    "\n",
    "    Returns:\n",
    "        np.ndarray: Матрица преобразованного сигнала, разделенного по периодам\n",
    "    \"\"\"\n",
    "\n",
    "    # Создание матрицы для хранения итогового результата\n",
    "    corrected_signal = np.zeros_like(bunched_signal)\n",
    "    # Запускаем цикл по всем периода. В переменной i хранится номер периода, а в bunch - вектор значений периода\n",
    "    for i, bunch in enumerate(bunched_signal):\n",
    "        # Алгоритм для поиска минимального из средних по всем окнам\n",
    "        minimal_mean = np.inf\n",
    "        for j in range(len(bunch)-smoothing_window_length):\n",
    "            # В данном, случае, +1, вообще говоря, не нужен, но без него значения не соответствовали маткадовским\n",
    "            mean = np.mean(bunch[j:j+smoothing_window_length+1])\n",
    "            if mean < minimal_mean: minimal_mean = mean\n",
    "        # Отнимаем минимальное среднее на данном периоде от каждого из значений сигнала на периода\n",
    "        corrected_signal[i] = bunch - minimal_mean\n",
    "    return corrected_signal"
   ]
  },
  {
   "cell_type": "markdown",
   "metadata": {},
   "source": [
    "# Пример реализации кода"
   ]
  },
  {
   "cell_type": "markdown",
   "metadata": {},
   "source": [
    "## Подключение библиотек для рисования графиков"
   ]
  },
  {
   "cell_type": "code",
   "execution_count": 14,
   "metadata": {},
   "outputs": [],
   "source": [
    "import seaborn as sns\n",
    "import matplotlib.pyplot as plt\n",
    "import plotly.express as px\n",
    "\n",
    "sns.set_theme() # Установка более красивой темы для графиков"
   ]
  },
  {
   "cell_type": "markdown",
   "metadata": {},
   "source": [
    "## Задание стартовых переменных и загрузка данных"
   ]
  },
  {
   "cell_type": "markdown",
   "metadata": {},
   "source": [
    "Параметры считывания данны: offset - количество пропускаемых сначала значений, len_data - количество необходимых значений. Следует понимать, что в данном случае все данные изначально делятся на 4 столбца и после этого считается количество строк, которые нужно пропустить и отобрать. Таким образом, эти величины должны быть в 4 раза меньше по сравнению с тем, если бы все отбиралась из изначального одномерного вектора, как это реализовано в маткаде."
   ]
  },
  {
   "cell_type": "code",
   "execution_count": 15,
   "metadata": {},
   "outputs": [],
   "source": [
    "offset = 8 * 6300 // 2 // 4\n",
    "len_data = 4 * 1024**2 // 4"
   ]
  },
  {
   "cell_type": "markdown",
   "metadata": {},
   "source": [
    "Формирования словаря, в котором хранятся размеры пластинки по каждой из осей"
   ]
  },
  {
   "cell_type": "code",
   "execution_count": 16,
   "metadata": {},
   "outputs": [
    {
     "data": {
      "text/plain": [
       "{'X': 64, 'Y': 33}"
      ]
     },
     "execution_count": 16,
     "metadata": {},
     "output_type": "execute_result"
    }
   ],
   "source": [
    "plate_size = {}\n",
    "plate_size['X'] = 64\n",
    "plate_size['Y'] = 33\n",
    "plate_size"
   ]
  },
  {
   "cell_type": "markdown",
   "metadata": {},
   "source": [
    "Задание пути, по которому хранятся исходные данные"
   ]
  },
  {
   "cell_type": "code",
   "execution_count": 17,
   "metadata": {},
   "outputs": [],
   "source": [
    "filepath = r'bpm_data/11_01_booster_libera08_hbpm3_1_full'"
   ]
  },
  {
   "cell_type": "markdown",
   "metadata": {},
   "source": [
    "Загрузка данных"
   ]
  },
  {
   "cell_type": "code",
   "execution_count": 18,
   "metadata": {},
   "outputs": [
    {
     "data": {
      "text/html": [
       "<div>\n",
       "<style scoped>\n",
       "    .dataframe tbody tr th:only-of-type {\n",
       "        vertical-align: middle;\n",
       "    }\n",
       "\n",
       "    .dataframe tbody tr th {\n",
       "        vertical-align: top;\n",
       "    }\n",
       "\n",
       "    .dataframe thead th {\n",
       "        text-align: right;\n",
       "    }\n",
       "</style>\n",
       "<table border=\"1\" class=\"dataframe\">\n",
       "  <thead>\n",
       "    <tr style=\"text-align: right;\">\n",
       "      <th></th>\n",
       "      <th>right</th>\n",
       "      <th>top</th>\n",
       "      <th>left</th>\n",
       "      <th>bottom</th>\n",
       "    </tr>\n",
       "  </thead>\n",
       "  <tbody>\n",
       "    <tr>\n",
       "      <th>0</th>\n",
       "      <td>-147</td>\n",
       "      <td>-273</td>\n",
       "      <td>-406</td>\n",
       "      <td>79</td>\n",
       "    </tr>\n",
       "    <tr>\n",
       "      <th>1</th>\n",
       "      <td>-157</td>\n",
       "      <td>-196</td>\n",
       "      <td>-416</td>\n",
       "      <td>321</td>\n",
       "    </tr>\n",
       "    <tr>\n",
       "      <th>2</th>\n",
       "      <td>17</td>\n",
       "      <td>-124</td>\n",
       "      <td>-416</td>\n",
       "      <td>383</td>\n",
       "    </tr>\n",
       "    <tr>\n",
       "      <th>3</th>\n",
       "      <td>373</td>\n",
       "      <td>-29</td>\n",
       "      <td>-415</td>\n",
       "      <td>230</td>\n",
       "    </tr>\n",
       "    <tr>\n",
       "      <th>4</th>\n",
       "      <td>247</td>\n",
       "      <td>-82</td>\n",
       "      <td>-421</td>\n",
       "      <td>-149</td>\n",
       "    </tr>\n",
       "    <tr>\n",
       "      <th>...</th>\n",
       "      <td>...</td>\n",
       "      <td>...</td>\n",
       "      <td>...</td>\n",
       "      <td>...</td>\n",
       "    </tr>\n",
       "    <tr>\n",
       "      <th>1048571</th>\n",
       "      <td>496</td>\n",
       "      <td>365</td>\n",
       "      <td>32</td>\n",
       "      <td>438</td>\n",
       "    </tr>\n",
       "    <tr>\n",
       "      <th>1048572</th>\n",
       "      <td>526</td>\n",
       "      <td>141</td>\n",
       "      <td>228</td>\n",
       "      <td>682</td>\n",
       "    </tr>\n",
       "    <tr>\n",
       "      <th>1048573</th>\n",
       "      <td>614</td>\n",
       "      <td>271</td>\n",
       "      <td>132</td>\n",
       "      <td>356</td>\n",
       "    </tr>\n",
       "    <tr>\n",
       "      <th>1048574</th>\n",
       "      <td>486</td>\n",
       "      <td>376</td>\n",
       "      <td>130</td>\n",
       "      <td>-11</td>\n",
       "    </tr>\n",
       "    <tr>\n",
       "      <th>1048575</th>\n",
       "      <td>134</td>\n",
       "      <td>134</td>\n",
       "      <td>139</td>\n",
       "      <td>138</td>\n",
       "    </tr>\n",
       "  </tbody>\n",
       "</table>\n",
       "<p>1048576 rows × 4 columns</p>\n",
       "</div>"
      ],
      "text/plain": [
       "         right  top  left  bottom\n",
       "0         -147 -273  -406      79\n",
       "1         -157 -196  -416     321\n",
       "2           17 -124  -416     383\n",
       "3          373  -29  -415     230\n",
       "4          247  -82  -421    -149\n",
       "...        ...  ...   ...     ...\n",
       "1048571    496  365    32     438\n",
       "1048572    526  141   228     682\n",
       "1048573    614  271   132     356\n",
       "1048574    486  376   130     -11\n",
       "1048575    134  134   139     138\n",
       "\n",
       "[1048576 rows x 4 columns]"
      ]
     },
     "execution_count": 18,
     "metadata": {},
     "output_type": "execute_result"
    }
   ],
   "source": [
    "data = read_data(filepath, offset=offset, data_length=len_data)\n",
    "data"
   ]
  },
  {
   "cell_type": "markdown",
   "metadata": {},
   "source": [
    "## Нахождение координат центров масс"
   ]
  },
  {
   "cell_type": "markdown",
   "metadata": {},
   "source": [
    "Вычисление суммарных и разностных резонансов для каждой из осей"
   ]
  },
  {
   "cell_type": "code",
   "execution_count": 19,
   "metadata": {},
   "outputs": [],
   "source": [
    "summary_resonance = pd.DataFrame()\n",
    "summary_resonance['X'] = data['right'] + data['left']\n",
    "summary_resonance['Y'] = data['top'] + data['bottom']\n",
    "\n",
    "difference_resonance = pd.DataFrame()\n",
    "difference_resonance['X'] = data['right'] - data['left']\n",
    "difference_resonance['Y'] = data['top'] - data['bottom']"
   ]
  },
  {
   "cell_type": "markdown",
   "metadata": {},
   "source": [
    "Нахождение периода. В данном случае, для суммарных резонансов по оси Ox"
   ]
  },
  {
   "cell_type": "code",
   "execution_count": 20,
   "metadata": {},
   "outputs": [
    {
     "data": {
      "text/plain": [
       "2128.751497045826"
      ]
     },
     "execution_count": 20,
     "metadata": {},
     "output_type": "execute_result"
    }
   ],
   "source": [
    "period = find_period(summary_resonance['X'])\n",
    "period"
   ]
  },
  {
   "cell_type": "markdown",
   "metadata": {},
   "source": [
    "Нахождение координат центров масс пучка для каждого из периодов по каждой из осей"
   ]
  },
  {
   "cell_type": "code",
   "execution_count": 21,
   "metadata": {},
   "outputs": [
    {
     "data": {
      "text/html": [
       "<div>\n",
       "<style scoped>\n",
       "    .dataframe tbody tr th:only-of-type {\n",
       "        vertical-align: middle;\n",
       "    }\n",
       "\n",
       "    .dataframe tbody tr th {\n",
       "        vertical-align: top;\n",
       "    }\n",
       "\n",
       "    .dataframe thead th {\n",
       "        text-align: right;\n",
       "    }\n",
       "</style>\n",
       "<table border=\"1\" class=\"dataframe\">\n",
       "  <thead>\n",
       "    <tr style=\"text-align: right;\">\n",
       "      <th></th>\n",
       "      <th>X</th>\n",
       "      <th>Y</th>\n",
       "    </tr>\n",
       "  </thead>\n",
       "  <tbody>\n",
       "    <tr>\n",
       "      <th>0</th>\n",
       "      <td>1.303567</td>\n",
       "      <td>1.448332</td>\n",
       "    </tr>\n",
       "    <tr>\n",
       "      <th>1</th>\n",
       "      <td>-0.643356</td>\n",
       "      <td>1.535053</td>\n",
       "    </tr>\n",
       "    <tr>\n",
       "      <th>2</th>\n",
       "      <td>-2.574663</td>\n",
       "      <td>-0.158554</td>\n",
       "    </tr>\n",
       "    <tr>\n",
       "      <th>3</th>\n",
       "      <td>-4.874315</td>\n",
       "      <td>-1.920665</td>\n",
       "    </tr>\n",
       "    <tr>\n",
       "      <th>4</th>\n",
       "      <td>-4.766045</td>\n",
       "      <td>-2.940025</td>\n",
       "    </tr>\n",
       "    <tr>\n",
       "      <th>...</th>\n",
       "      <td>...</td>\n",
       "      <td>...</td>\n",
       "    </tr>\n",
       "    <tr>\n",
       "      <th>487</th>\n",
       "      <td>2.466626</td>\n",
       "      <td>1.702055</td>\n",
       "    </tr>\n",
       "    <tr>\n",
       "      <th>488</th>\n",
       "      <td>-3.553345</td>\n",
       "      <td>-0.141895</td>\n",
       "    </tr>\n",
       "    <tr>\n",
       "      <th>489</th>\n",
       "      <td>-1.755157</td>\n",
       "      <td>0.474462</td>\n",
       "    </tr>\n",
       "    <tr>\n",
       "      <th>490</th>\n",
       "      <td>1.770417</td>\n",
       "      <td>-0.924300</td>\n",
       "    </tr>\n",
       "    <tr>\n",
       "      <th>491</th>\n",
       "      <td>0.078930</td>\n",
       "      <td>-0.245829</td>\n",
       "    </tr>\n",
       "  </tbody>\n",
       "</table>\n",
       "<p>492 rows × 2 columns</p>\n",
       "</div>"
      ],
      "text/plain": [
       "            X         Y\n",
       "0    1.303567  1.448332\n",
       "1   -0.643356  1.535053\n",
       "2   -2.574663 -0.158554\n",
       "3   -4.874315 -1.920665\n",
       "4   -4.766045 -2.940025\n",
       "..        ...       ...\n",
       "487  2.466626  1.702055\n",
       "488 -3.553345 -0.141895\n",
       "489 -1.755157  0.474462\n",
       "490  1.770417 -0.924300\n",
       "491  0.078930 -0.245829\n",
       "\n",
       "[492 rows x 2 columns]"
      ]
     },
     "execution_count": 21,
     "metadata": {},
     "output_type": "execute_result"
    }
   ],
   "source": [
    "beam_center_coords = pd.DataFrame()\n",
    "for axis in ['X', 'Y']:\n",
    "    beam_center_coords[axis] = plate_size[axis] * get_beam_center_positions(summary_resonance[axis], difference_resonance[axis], period)\n",
    "beam_center_coords"
   ]
  },
  {
   "cell_type": "markdown",
   "metadata": {},
   "source": [
    "Построение гистограммы распределений координат центров масс"
   ]
  },
  {
   "cell_type": "code",
   "execution_count": 22,
   "metadata": {},
   "outputs": [
    {
     "data": {
      "image/png": "[encoded data removed]",
      "text/plain": [
       "<Figure size 1000x600 with 2 Axes>"
      ]
     },
     "metadata": {},
     "output_type": "display_data"
    }
   ],
   "source": [
    "beam_center_coords.hist(figsize = (10, 6));"
   ]
  },
  {
   "cell_type": "markdown",
   "metadata": {},
   "source": [
    "## Хроматичность"
   ]
  },
  {
   "cell_type": "markdown",
   "metadata": {},
   "source": [
    "Нахождение спектра и основных часот для каждой из осей"
   ]
  },
  {
   "cell_type": "code",
   "execution_count": 23,
   "metadata": {},
   "outputs": [
    {
     "data": {
      "text/html": [
       "<div>\n",
       "<style scoped>\n",
       "    .dataframe tbody tr th:only-of-type {\n",
       "        vertical-align: middle;\n",
       "    }\n",
       "\n",
       "    .dataframe tbody tr th {\n",
       "        vertical-align: top;\n",
       "    }\n",
       "\n",
       "    .dataframe thead th {\n",
       "        text-align: right;\n",
       "    }\n",
       "</style>\n",
       "<table border=\"1\" class=\"dataframe\">\n",
       "  <thead>\n",
       "    <tr style=\"text-align: right;\">\n",
       "      <th></th>\n",
       "      <th>X amplitudes</th>\n",
       "      <th>Y amplitudes</th>\n",
       "    </tr>\n",
       "    <tr>\n",
       "      <th>frequences</th>\n",
       "      <th></th>\n",
       "      <th></th>\n",
       "    </tr>\n",
       "  </thead>\n",
       "  <tbody>\n",
       "    <tr>\n",
       "      <th>0.000000</th>\n",
       "      <td>0.000000</td>\n",
       "      <td>0.000000</td>\n",
       "    </tr>\n",
       "    <tr>\n",
       "      <th>0.003906</th>\n",
       "      <td>0.000000</td>\n",
       "      <td>0.000000</td>\n",
       "    </tr>\n",
       "    <tr>\n",
       "      <th>0.007812</th>\n",
       "      <td>0.000000</td>\n",
       "      <td>0.000000</td>\n",
       "    </tr>\n",
       "    <tr>\n",
       "      <th>0.011719</th>\n",
       "      <td>0.015387</td>\n",
       "      <td>0.025286</td>\n",
       "    </tr>\n",
       "    <tr>\n",
       "      <th>0.015625</th>\n",
       "      <td>0.036173</td>\n",
       "      <td>0.017706</td>\n",
       "    </tr>\n",
       "    <tr>\n",
       "      <th>...</th>\n",
       "      <td>...</td>\n",
       "      <td>...</td>\n",
       "    </tr>\n",
       "    <tr>\n",
       "      <th>0.480469</th>\n",
       "      <td>0.051900</td>\n",
       "      <td>0.025764</td>\n",
       "    </tr>\n",
       "    <tr>\n",
       "      <th>0.484375</th>\n",
       "      <td>0.010558</td>\n",
       "      <td>0.024299</td>\n",
       "    </tr>\n",
       "    <tr>\n",
       "      <th>0.488281</th>\n",
       "      <td>0.059366</td>\n",
       "      <td>0.007955</td>\n",
       "    </tr>\n",
       "    <tr>\n",
       "      <th>0.492188</th>\n",
       "      <td>0.012784</td>\n",
       "      <td>0.019214</td>\n",
       "    </tr>\n",
       "    <tr>\n",
       "      <th>0.496094</th>\n",
       "      <td>0.020657</td>\n",
       "      <td>0.018929</td>\n",
       "    </tr>\n",
       "  </tbody>\n",
       "</table>\n",
       "<p>128 rows × 2 columns</p>\n",
       "</div>"
      ],
      "text/plain": [
       "            X amplitudes  Y amplitudes\n",
       "frequences                            \n",
       "0.000000        0.000000      0.000000\n",
       "0.003906        0.000000      0.000000\n",
       "0.007812        0.000000      0.000000\n",
       "0.011719        0.015387      0.025286\n",
       "0.015625        0.036173      0.017706\n",
       "...                  ...           ...\n",
       "0.480469        0.051900      0.025764\n",
       "0.484375        0.010558      0.024299\n",
       "0.488281        0.059366      0.007955\n",
       "0.492188        0.012784      0.019214\n",
       "0.496094        0.020657      0.018929\n",
       "\n",
       "[128 rows x 2 columns]"
      ]
     },
     "execution_count": 23,
     "metadata": {},
     "output_type": "execute_result"
    }
   ],
   "source": [
    "spectrum = pd.DataFrame()\n",
    "main_frequences = {}\n",
    "\n",
    "for axis in 'X', 'Y':\n",
    "    freq, amp = get_spectrum(beam_center_coords[axis], offset=3)\n",
    "    spectrum[axis + ' amplitudes'] = amp\n",
    "    main_frequences[axis] = find_main_frequence(freq, amp)\n",
    "\n",
    "spectrum['frequences'] = freq\n",
    "spectrum = spectrum.set_index('frequences')\n",
    "spectrum"
   ]
  },
  {
   "cell_type": "markdown",
   "metadata": {},
   "source": [
    "Построение графиков спектров с указанием на них основных частот"
   ]
  },
  {
   "cell_type": "code",
   "execution_count": 24,
   "metadata": {},
   "outputs": [
    {
     "data": {
      "image/png": "[encoded data removed]",
      "text/plain": [
       "<Figure size 1200x600 with 1 Axes>"
      ]
     },
     "metadata": {},
     "output_type": "display_data"
    }
   ],
   "source": [
    "spectrum.plot(figsize=(12, 6))\n",
    "plt.axvline(main_frequences['X'], ls='--', c='blue', lw=3, label=f'X main frequence = {round(main_frequences[\"X\"], 3)}')\n",
    "plt.axvline(main_frequences['Y'], ls='--', c='r', lw=3, label=f'Y main frequence = {round(main_frequences[\"Y\"], 3)}')\n",
    "plt.legend();"
   ]
  },
  {
   "cell_type": "markdown",
   "metadata": {},
   "source": [
    "Будем аппроксимировать координаты центров масс функцией затухающих колебаний вида\n",
    "$$y = Ae^{-\\beta t}cos(\\omega x + \\varphi) + b$$\n",
    "Смещение нужно по той причине, что детекторы могут быть не до конца откалиброваны"
   ]
  },
  {
   "cell_type": "markdown",
   "metadata": {},
   "source": [
    "Изобразим на графике положения цетров масс для каждой из осей"
   ]
  },
  {
   "cell_type": "code",
   "execution_count": 25,
   "metadata": {},
   "outputs": [
    {
     "data": {
      "image/png": "[encoded data removed]",
      "text/plain": [
       "<Figure size 1200x1000 with 2 Axes>"
      ]
     },
     "metadata": {},
     "output_type": "display_data"
    }
   ],
   "source": [
    "t = np.arange(492)\n",
    "fig, axs = plt.subplots(2, figsize=(12, 10))\n",
    "axs[0].scatter(t, beam_center_coords['X'])\n",
    "axs[0].set_title('Ось X')\n",
    "axs[1].scatter(t, beam_center_coords['Y'])\n",
    "axs[1].set_title('Ось Y');"
   ]
  },
  {
   "cell_type": "markdown",
   "metadata": {},
   "source": [
    "В данном случае видно,что затухающие колебания оканчиваются примерно на 100-ом значении для каждой из осей. Зададим словарь, в который введем значения срезов"
   ]
  },
  {
   "cell_type": "code",
   "execution_count": 26,
   "metadata": {},
   "outputs": [],
   "source": [
    "slice_length = {'X': 100, 'Y': 100}"
   ]
  },
  {
   "cell_type": "markdown",
   "metadata": {},
   "source": [
    "Зададим граничные условия для нашей функции. В данном случае, для частоты сделаем допустимым отклонение в 0.01 от основной. Также, искуственно ограничим амплитуды и коэффициент затухания для оси Y. Эти значения были подогнаны экспериментально после нескольких попыток"
   ]
  },
  {
   "cell_type": "code",
   "execution_count": 27,
   "metadata": {},
   "outputs": [],
   "source": [
    "bounds = {\n",
    "    'X': {'omega': (2*np.pi*main_frequences['X'] - 0.01, 2*np.pi*main_frequences['X'] + 0.01), 'A': (2, np.inf)},\n",
    "    'Y': {'omega': (2*np.pi*main_frequences['Y'] - 0.01, 2*np.pi*main_frequences['Y'] + 0.01), 'A': (3, 4), 'beta': (0, .02)}}"
   ]
  },
  {
   "cell_type": "markdown",
   "metadata": {},
   "source": [
    "Найдем сами аппроксимирующие функции"
   ]
  },
  {
   "cell_type": "code",
   "execution_count": 28,
   "metadata": {},
   "outputs": [
    {
     "name": "stdout",
     "output_type": "stream",
     "text": [
      "Параметры для X:\n",
      "          A = 5.44574787522552\n",
      "          v = 0.11417531842838853 (theoretical = 0.11328125)\n",
      "          phi = 0.743825385556685\n",
      "          beta = 0.03806358949456314\n",
      "          bias = -0.7163105423627149\n",
      "Параметры для Y:\n",
      "          A = 3.0000000000000004\n",
      "          v = 0.20351031617311124 (theoretical = 0.203125)\n",
      "          phi = 5.1312651730934995\n",
      "          beta = 0.019999999999999997\n",
      "          bias = -0.9056115802362817\n"
     ]
    }
   ],
   "source": [
    "function = {}\n",
    "chromacity = {}\n",
    "\n",
    "for axis in 'XY':\n",
    "    t = np.arange(slice_length[axis]) #Массив t задаем в соответсвии с заданным выше срезом\n",
    "    function[axis], parameters  = damped_oscillations_fit(t, beam_center_coords[axis][t], bounds=bounds[axis])\n",
    "    chromacity[axis] = parameters['A']\n",
    "\n",
    "    print(f'''Параметры для {axis}:\n",
    "          A = {parameters['A']}\n",
    "          v = {parameters['omega'] / (2 * np.pi)} (theoretical = {main_frequences[axis]})\n",
    "          phi = {parameters['phi']}\n",
    "          beta = {parameters['beta']}\n",
    "          bias = {parameters['bias']}''')"
   ]
  },
  {
   "cell_type": "markdown",
   "metadata": {},
   "source": [
    "Итоговые графики для каждой из функций"
   ]
  },
  {
   "cell_type": "code",
   "execution_count": 29,
   "metadata": {},
   "outputs": [
    {
     "data": {
      "image/png": "[encoded data removed]",
      "text/plain": [
       "<Figure size 1200x1000 with 2 Axes>"
      ]
     },
     "metadata": {},
     "output_type": "display_data"
    }
   ],
   "source": [
    "t = np.arange(492)\n",
    "theoretical_values = pd.DataFrame()\n",
    "for axis in 'XY':\n",
    "    theoretical_values[axis] = function[axis](t)\n",
    "\n",
    "fig, axs = plt.subplots(2, figsize=(12, 10))\n",
    "axs[0].scatter(t, beam_center_coords['X'])\n",
    "axs[0].plot(t, theoretical_values['X'], color='r')\n",
    "\n",
    "axs[1].scatter(t, beam_center_coords['Y'])\n",
    "axs[1].plot(t, theoretical_values['Y'], color='r');"
   ]
  },
  {
   "cell_type": "markdown",
   "metadata": {},
   "source": [
    "Зададим некоторые параметры. Параметры хроматичности задаются автоматически на предыдущем шаге как значения амплитуд и хранятся в словаре chromacity. Данный словарь можно задать и вручную, просто переопределив переменную chromacity (пример в закомментированном коде). Параметр delta_impulse имеет формулу $dp/p_0$ и отвечает за отклонения импульсов от равновесного. На данном этапе, берется с установки"
   ]
  },
  {
   "cell_type": "code",
   "execution_count": 30,
   "metadata": {},
   "outputs": [],
   "source": [
    "chromacity = {'X': 5.5, 'Y': 2.2}\n",
    "delta_impulse = 2.5e-3"
   ]
  },
  {
   "cell_type": "markdown",
   "metadata": {},
   "source": [
    "Проведем аппроксимацию для обеих осей и отобразим результаты графически"
   ]
  },
  {
   "cell_type": "code",
   "execution_count": 31,
   "metadata": {},
   "outputs": [
    {
     "data": {
      "image/png": "[encoded data removed]",
      "text/plain": [
       "<Figure size 1500x600 with 2 Axes>"
      ]
     },
     "metadata": {},
     "output_type": "display_data"
    }
   ],
   "source": [
    "approximation_range = 70\n",
    "\n",
    "result_function = {}\n",
    "initial_function = {}\n",
    "sigma = {}\n",
    "\n",
    "for axis in 'XY':\n",
    "    result_function[axis], initial_function[axis], sigma[axis] = pseudo_gaussian_exponent_approximation(chromacity[axis], delta_impulse, approximation_range)\n",
    "\n",
    "fig, axs = plt.subplots(1, 2, figsize=(15, 6))\n",
    "\n",
    "t = np.arange(0.01, approximation_range, 0.1)\n",
    "axs[0].plot(t, initial_function['X'](t), label='Изначальная функция')\n",
    "axs[0].plot(t, result_function['X'](t), label=f'Подогнаннная функция.\\nsigma = {round(sigma[\"X\"], 2)}')\n",
    "axs[0].set_title('Ось X')\n",
    "axs[0].legend()\n",
    "\n",
    "axs[1].plot(t, initial_function['Y'](t), label='Изначальная функция')\n",
    "axs[1].plot(t, result_function['Y'](t), label=f'Подогнаннная функция.\\nsigma = {round(sigma[\"Y\"], 2)}')\n",
    "axs[1].set_title('Ось Y')\n",
    "axs[1].legend();"
   ]
  },
  {
   "cell_type": "markdown",
   "metadata": {},
   "source": [
    "## Спектр суммарного сигнала"
   ]
  },
  {
   "cell_type": "markdown",
   "metadata": {},
   "source": [
    "Зададим некоторые параметры:\n",
    "- offset - число значений, которые нужно пропустить от начала сигнала\n",
    "- number_of_samples - число отступов для преобразования Фурье\n",
    "- data_length - количество исходных данных\n",
    "- time_delta - временной шаг"
   ]
  },
  {
   "cell_type": "code",
   "execution_count": 32,
   "metadata": {},
   "outputs": [],
   "source": [
    "offset = 0\n",
    "number_of_samples = 128 * 1024\n",
    "data_length = len(data)\n",
    "time_delta = (250 * 10**6)**(-1)"
   ]
  },
  {
   "cell_type": "markdown",
   "metadata": {},
   "source": [
    "Вычислим значения спектра в первом окне, длиной number_of_samples и последнего окна, такой же длиной (первое окно берется из начала данны, последнее - из конца)"
   ]
  },
  {
   "cell_type": "code",
   "execution_count": 33,
   "metadata": {},
   "outputs": [],
   "source": [
    "frequences, first_window_amplitudes = get_spectrum(\n",
    "    summary_resonance['X'][offset: number_of_samples+offset] +\\\n",
    "    summary_resonance['Y'][offset: number_of_samples+offset],\n",
    "    number_of_samples=number_of_samples, time_delta=time_delta)\n",
    "\n",
    "frequences, last_window_amplitudes = get_spectrum(\n",
    "    summary_resonance['X'][data_length-number_of_samples:] +\\\n",
    "    summary_resonance['Y'][data_length-number_of_samples:],\n",
    "    number_of_samples=number_of_samples, time_delta=time_delta)"
   ]
  },
  {
   "cell_type": "markdown",
   "metadata": {},
   "source": [
    "Построим графики спектров"
   ]
  },
  {
   "cell_type": "code",
   "execution_count": 34,
   "metadata": {},
   "outputs": [
    {
     "data": {
      "image/png": "[encoded data removed]",
      "text/plain": [
       "<Figure size 1500x600 with 2 Axes>"
      ]
     },
     "metadata": {},
     "output_type": "display_data"
    }
   ],
   "source": [
    "fig, axs = plt.subplots(1, 2, figsize=(15, 6))\n",
    "\n",
    "axs[0].plot(frequences, first_window_amplitudes)\n",
    "axs[0].set_yscale('log')\n",
    "axs[0].set_xlabel('Частоты')\n",
    "axs[0].set_ylabel('Амплитуды')\n",
    "axs[0].set_title('Спектр первого окна')\n",
    "\n",
    "axs[1].plot(frequences, last_window_amplitudes)\n",
    "axs[1].set_yscale('log')\n",
    "axs[1].set_xlabel('Частоты')\n",
    "axs[1].set_ylabel('Амплитуды')\n",
    "axs[1].set_title('Спектр последнего окна');"
   ]
  },
  {
   "cell_type": "markdown",
   "metadata": {},
   "source": [
    "Отфильтруем значения частот и амплитуд. Будем брать только те амплитуды, которые больше единицы. Это уберет часть шумов в спектре. Частоты возьмем за первые 10 оборотов"
   ]
  },
  {
   "cell_type": "code",
   "execution_count": 35,
   "metadata": {},
   "outputs": [],
   "source": [
    "turnover_frequency = 1 / (time_delta * period) #Частота одного оборота"
   ]
  },
  {
   "cell_type": "markdown",
   "metadata": {},
   "source": [
    "В данном случае, в каждом из условий мы получаем массив значений булевых значений вида [True, False, ..., False]. Eсли на позиции 10, например, находится False, это означает, что для элемента с номером 10 условие не выполняется. Для всех трех условий получаем такие массивы, после чего перемножаем их поэлементно, то есть применяем операцию логического \"И\" для каждого набора элементов, соответсвующих одному индексу. Таким образом, получаем булевый массив, значения которого показывают, удовлетворяет ли элемент на данной позиции всем трем условиям одновременно. Используя данный массив в качестве индекса, мы будем в дальнейшем производить фильтрацию."
   ]
  },
  {
   "cell_type": "code",
   "execution_count": 36,
   "metadata": {},
   "outputs": [],
   "source": [
    "filtered_indicies = (first_window_amplitudes > 1) * (last_window_amplitudes > 1) * (frequences < 10*turnover_frequency)"
   ]
  },
  {
   "cell_type": "markdown",
   "metadata": {},
   "source": [
    "Построим график, на котором отразим уже фильтрованные сигналы"
   ]
  },
  {
   "cell_type": "code",
   "execution_count": 37,
   "metadata": {},
   "outputs": [
    {
     "data": {
      "application/vnd.plotly.v1+json": {
       "config": {
        "plotlyServerURL": "https://plot.ly"
       },
       "data": [
        {
         "hovertemplate": "variable=Амплитуды первого окна<br>Frequences=%{x}<br>value=%{y}<extra></extra>",
         "legendgroup": "Амплитуды первого окна",
         "line": {
          "color": "#636efa",
          "dash": "solid"
         },
         "marker": {
          "symbol": "circle"
         },
         "mode": "lines",
         "name": "Амплитуды первого окна",
         "showlegend": true,
         "type": "scattergl",
         "x": [
          0,
          1907.3486328124998,
          3814.6972656249995,
          5722.045898437499,
          7629.394531249999,
          9536.743164062498,
          11444.091796874998,
          13351.440429687498,
          15258.789062499998,
          17166.137695312496,
          19073.486328124996,
          20980.834960937496,
          22888.183593749996,
          24795.532226562496,
          26702.880859374996,
          28610.229492187496,
          30517.578124999996,
          32424.926757812496,
          34332.27539062499,
          36239.62402343749,
          38146.97265624999,
          40054.32128906249,
          41961.66992187499,
          43869.01855468749,
          45776.36718749999,
          47683.71582031249,
          49591.06445312499,
          51498.41308593749,
          53405.76171874999,
          55313.11035156249,
          57220.45898437499,
          59127.80761718749,
          61035.15624999999,
          62942.50488281249,
          64849.85351562499,
          66757.20214843749,
          68664.55078124999,
          70571.89941406249,
          72479.24804687499,
          74386.59667968749,
          76293.94531249999,
          78201.29394531249,
          80108.64257812499,
          83923.33984374999,
          87738.03710937499,
          89645.38574218749,
          91552.73437499999,
          93460.08300781249,
          95367.43164062499,
          97274.78027343749,
          99182.12890624999,
          101089.47753906249,
          102996.82617187499,
          104904.17480468749,
          106811.52343749999,
          108718.87207031249,
          110626.22070312499,
          112533.56933593749,
          114440.91796874999,
          116348.26660156249,
          118255.61523437499,
          120162.96386718749,
          122070.31249999999,
          123977.66113281249,
          125885.00976562499,
          127792.35839843749,
          129699.70703124999,
          131607.05566406247,
          133514.40429687497,
          135421.75292968747,
          137329.10156249997,
          139236.45019531247,
          141143.79882812497,
          143051.14746093747,
          144958.49609374997,
          146865.84472656247,
          148773.19335937497,
          150680.54199218747,
          152587.89062499997,
          154495.23925781247,
          156402.58789062497,
          158309.93652343747,
          160217.28515624997,
          162124.63378906247,
          164031.98242187497,
          165939.33105468747,
          167846.67968749997,
          169754.02832031247,
          171661.37695312497,
          173568.72558593747,
          175476.07421874997,
          177383.42285156247,
          179290.77148437497,
          181198.12011718747,
          183105.46874999997,
          185012.81738281247,
          186920.16601562497,
          188827.51464843747,
          190734.86328124997,
          192642.21191406247,
          194549.56054687497,
          196456.90917968747,
          198364.25781249997,
          200271.60644531247,
          202178.95507812497,
          204086.30371093747,
          205993.65234374997,
          209808.34960937497,
          213623.04687499997,
          215530.39550781247,
          217437.74414062497,
          219345.09277343747,
          221252.44140624997,
          223159.79003906247,
          225067.13867187497,
          226974.48730468747,
          228881.83593749997,
          230789.18457031247,
          232696.53320312497,
          234603.88183593747,
          236511.23046874997,
          238418.57910156247,
          240325.92773437497,
          242233.27636718747,
          244140.62499999997,
          246047.97363281247,
          247955.32226562497,
          249862.67089843747,
          251770.01953124997,
          253677.36816406247,
          255584.71679687497,
          259399.41406249997,
          263214.11132812494,
          265121.45996093744,
          267028.80859374994,
          268936.15722656244,
          270843.50585937494,
          272750.85449218744,
          274658.20312499994,
          276565.55175781244,
          278472.90039062494,
          280380.24902343744,
          284194.94628906244,
          286102.29492187494,
          288009.64355468744,
          289916.99218749994,
          291824.34082031244,
          293731.68945312494,
          295639.03808593744,
          297546.38671874994,
          299453.73535156244,
          301361.08398437494,
          303268.43261718744,
          305175.78124999994,
          307083.12988281244,
          308990.47851562494,
          310897.82714843744,
          312805.17578124994,
          314712.52441406244,
          316619.87304687494,
          318527.22167968744,
          320434.57031249994,
          322341.91894531244,
          324249.26757812494,
          326156.61621093744,
          328063.96484374994,
          331878.66210937494,
          333786.01074218744,
          335693.35937499994,
          337600.70800781244,
          339508.05664062494,
          341415.40527343744,
          343322.75390624994,
          345230.10253906244,
          347137.45117187494,
          349044.79980468744,
          350952.14843749994,
          352859.49707031244,
          354766.84570312494,
          356674.19433593744,
          360488.89160156244,
          362396.24023437494,
          364303.58886718744,
          366210.93749999994,
          368118.28613281244,
          370025.63476562494,
          371932.98339843744,
          373840.33203124994,
          375747.68066406244,
          377655.02929687494,
          379562.37792968744,
          381469.72656249994,
          383377.07519531244,
          385284.42382812494,
          387191.77246093744,
          389099.12109374994,
          391006.46972656244,
          392913.81835937494,
          394821.16699218744,
          396728.51562499994,
          398635.86425781244,
          400543.21289062494,
          402450.56152343744,
          404357.91015624994,
          406265.25878906244,
          408172.60742187494,
          410079.95605468744,
          411987.30468749994,
          413894.65332031244,
          415802.00195312494,
          417709.35058593744,
          419616.69921874994,
          421524.04785156244,
          423431.39648437494,
          425338.74511718744,
          427246.09374999994,
          429153.44238281244,
          431060.79101562494,
          432968.13964843744,
          434875.48828124994,
          438690.18554687494,
          440597.53417968744,
          442504.88281249994,
          444412.23144531244,
          446319.58007812494,
          448226.92871093744,
          450134.27734374994,
          452041.62597656244,
          453948.97460937494,
          455856.32324218744,
          457763.67187499994,
          459671.02050781244,
          463485.71777343744,
          465393.06640624994,
          467300.41503906244,
          469207.76367187494,
          471115.11230468744,
          473022.46093749994,
          474929.80957031244,
          476837.15820312494,
          478744.50683593744,
          480651.85546874994,
          482559.20410156244,
          484466.55273437494,
          486373.90136718744,
          488281.24999999994,
          494003.29589843744,
          495910.64453124994,
          497817.99316406244,
          499725.34179687494,
          501632.69042968744,
          503540.03906249994,
          505447.38769531244,
          507354.73632812494,
          509262.08496093744,
          511169.43359374994,
          513076.78222656244,
          514984.13085937494,
          516891.47949218744,
          518798.82812499994,
          520706.17675781244,
          522613.52539062494,
          524520.8740234374,
          526428.2226562499,
          528335.5712890624,
          530242.9199218749,
          532150.2685546874,
          534057.6171874999,
          535964.9658203124,
          537872.3144531249,
          539779.6630859374,
          541687.0117187499,
          543594.3603515624,
          545501.7089843749,
          547409.0576171874,
          549316.4062499999,
          551223.7548828124,
          553131.1035156249,
          555038.4521484374,
          556945.8007812499,
          558853.1494140624,
          562667.8466796874,
          564575.1953124999,
          566482.5439453124,
          568389.8925781249,
          570297.2412109374,
          572204.5898437499,
          574111.9384765624,
          576019.2871093749,
          577926.6357421874,
          579833.9843749999,
          581741.3330078124,
          583648.6816406249,
          585556.0302734374,
          587463.3789062499,
          589370.7275390624,
          591278.0761718749,
          593185.4248046874,
          595092.7734374999,
          597000.1220703124,
          598907.4707031249,
          600814.8193359374,
          602722.1679687499,
          608444.2138671874,
          610351.5624999999,
          612258.9111328124,
          614166.2597656249,
          616073.6083984374,
          617980.9570312499,
          619888.3056640624,
          621795.6542968749,
          623703.0029296874,
          625610.3515624999,
          627517.7001953124,
          631332.3974609374,
          633239.7460937499,
          635147.0947265624,
          637054.4433593749,
          638961.7919921874,
          640869.1406249999,
          642776.4892578124,
          644683.8378906249,
          646591.1865234374,
          650405.8837890624,
          656127.9296874999,
          658035.2783203124,
          659942.6269531249,
          661849.9755859374,
          663757.3242187499,
          665664.6728515624,
          667572.0214843749,
          669479.3701171874,
          671386.7187499999,
          673294.0673828124,
          675201.4160156249,
          677108.7646484374,
          679016.1132812499,
          680923.4619140624,
          682830.8105468749,
          684738.1591796874,
          686645.5078124999,
          688552.8564453124,
          692367.5537109374,
          694274.9023437499,
          696182.2509765624,
          698089.5996093749,
          699996.9482421874,
          701904.2968749999,
          703811.6455078124,
          705718.9941406249,
          707626.3427734374,
          709533.6914062499,
          711441.0400390624,
          713348.3886718749,
          715255.7373046874,
          719070.4345703124,
          720977.7832031249,
          722885.1318359374,
          726699.8291015624,
          728607.1777343749,
          730514.5263671874,
          732421.8749999999,
          734329.2236328124,
          736236.5722656249,
          738143.9208984374,
          740051.2695312499,
          743865.9667968749,
          745773.3154296874,
          747680.6640624999,
          753402.7099609374,
          755310.0585937499,
          757217.4072265624,
          759124.7558593749,
          761032.1044921874,
          764846.8017578124,
          766754.1503906249,
          768661.4990234374,
          770568.8476562499,
          774383.5449218749,
          776290.8935546874,
          778198.2421874999,
          780105.5908203124,
          782012.9394531249,
          783920.2880859374,
          787734.9853515624,
          789642.3339843749,
          791549.6826171874,
          793457.0312499999,
          795364.3798828124,
          797271.7285156249,
          801086.4257812499,
          802993.7744140624,
          804901.1230468749,
          806808.4716796874,
          808715.8203124999,
          810623.1689453124,
          812530.5175781249,
          814437.8662109374,
          820159.9121093749,
          822067.2607421874,
          823974.6093749999,
          825881.9580078124,
          827789.3066406249,
          829696.6552734374,
          831604.0039062499,
          833511.3525390624,
          835418.7011718749,
          837326.0498046874,
          839233.3984374999,
          843048.0957031249,
          844955.4443359374,
          846862.7929687499,
          848770.1416015624,
          850677.4902343749,
          852584.8388671874,
          854492.1874999999,
          858306.8847656249,
          860214.2333984374,
          862121.5820312499,
          864028.9306640624,
          865936.2792968749,
          867843.6279296874,
          869750.9765624999,
          871658.3251953124,
          873565.6738281249,
          875473.0224609374,
          877380.3710937499,
          879287.7197265624,
          883102.4169921874,
          885009.7656249999,
          886917.1142578124,
          888824.4628906249,
          890731.8115234374,
          892639.1601562499,
          896453.8574218749,
          898361.2060546874,
          900268.5546874999,
          902175.9033203124,
          905990.6005859374,
          909805.2978515624,
          911712.6464843749,
          913619.9951171874,
          915527.3437499999,
          917434.6923828124,
          921249.3896484374,
          923156.7382812499,
          925064.0869140624,
          926971.4355468749,
          928878.7841796874,
          932693.4814453124,
          934600.8300781249,
          938415.5273437499,
          942230.2246093749,
          944137.5732421874,
          947952.2705078124,
          949859.6191406249,
          951766.9677734374,
          953674.3164062499,
          955581.6650390624,
          957489.0136718749,
          963211.0595703124,
          965118.4082031249,
          968933.1054687499,
          970840.4541015624,
          972747.8027343749,
          974655.1513671874,
          976562.4999999999,
          978469.8486328124,
          980377.1972656249,
          982284.5458984374,
          984191.8945312499,
          986099.2431640624,
          988006.5917968749,
          989913.9404296874,
          993728.6376953124,
          995635.9863281249,
          997543.3349609374,
          999450.6835937499,
          1001358.0322265624,
          1003265.3808593749,
          1005172.7294921874,
          1008987.4267578124,
          1010894.7753906249,
          1012802.1240234374,
          1014709.4726562499,
          1016616.8212890624,
          1018524.1699218749,
          1020431.5185546874,
          1022338.8671874999,
          1024246.2158203124,
          1026153.5644531249,
          1028060.9130859374,
          1029968.2617187499,
          1031875.6103515624,
          1035690.3076171874,
          1037597.6562499999,
          1039505.0048828124,
          1041412.3535156249,
          1043319.7021484374,
          1045227.0507812499,
          1047134.3994140624,
          1049041.7480468748,
          1050949.0966796873,
          1052856.4453124998,
          1054763.7939453123,
          1056671.1425781248,
          1058578.4912109373,
          1060485.8398437498,
          1062393.1884765623,
          1064300.5371093748,
          1066207.8857421873,
          1068115.2343749998,
          1070022.5830078123,
          1071929.9316406248,
          1073837.2802734373,
          1075744.6289062498,
          1077651.9775390623,
          1079559.3261718748,
          1081466.6748046873,
          1085281.3720703123,
          1087188.7207031248,
          1089096.0693359373,
          1091003.4179687498,
          1092910.7666015623,
          1094818.1152343748,
          1096725.4638671873,
          1098632.8124999998,
          1102447.5097656248,
          1104354.8583984373,
          1106262.2070312498,
          1108169.5556640623,
          1111984.2529296873,
          1113891.6015624998,
          1115798.9501953123,
          1117706.2988281248,
          1119613.6474609373,
          1121520.9960937498,
          1123428.3447265623,
          1125335.6933593748,
          1127243.0419921873,
          1129150.3906249998,
          1131057.7392578123,
          1132965.0878906248,
          1136779.7851562498,
          1138687.1337890623,
          1140594.4824218748,
          1144409.1796874998,
          1146316.5283203123,
          1148223.8769531248,
          1152038.5742187498,
          1153945.9228515623,
          1155853.2714843748,
          1157760.6201171873,
          1159667.9687499998,
          1161575.3173828123,
          1163482.6660156248,
          1165390.0146484373,
          1167297.3632812498,
          1169204.7119140623,
          1171112.0605468748,
          1173019.4091796873
         ],
         "xaxis": "x",
         "y": [
          15.209068298339844,
          3.7063862117519917,
          3.5775944626109384,
          10.830475077904556,
          22.329807111963444,
          30.16161490908824,
          40.043847829919656,
          47.99751908102135,
          55.61981631602814,
          69.45999037990302,
          67.99388049798527,
          79.89649177629065,
          81.37087104779344,
          77.1365064633572,
          74.30614378848936,
          81.52462712230896,
          85.11579318009379,
          90.83920963434882,
          87.73639681202862,
          93.616940163746,
          79.15895470756703,
          83.47229234151922,
          82.36306527890561,
          92.03872995363857,
          88.15708412290307,
          76.94120323327499,
          92.54621746573065,
          85.1333953401452,
          84.97025281899523,
          86.9875613529144,
          60.5147426026568,
          89.39768273634616,
          84.11596187212488,
          88.511004808185,
          95.80185270529502,
          100.23165178335475,
          90.66065403429695,
          94.3679921334115,
          94.384744485534,
          95.39701425096253,
          99.17348210522029,
          108.45073774511275,
          100.1094512827868,
          107.24794327496829,
          121.49272326790873,
          117.96098396759999,
          123.15556637617287,
          140.61002090838932,
          128.11349644795828,
          145.1207199931862,
          161.8348466891767,
          173.66800261925778,
          185.79276202024806,
          203.08064677265062,
          237.8720523434897,
          301.98202492342483,
          328.3545196607349,
          452.2387272768831,
          723.4558646281964,
          1904.60453669864,
          2632.8940951803393,
          766.2423612678809,
          423.4356192735991,
          289.40259714631696,
          218.7146681007006,
          170.76954429885922,
          142.94437258137197,
          116.53507303535724,
          101.84081047310409,
          85.51103802503273,
          71.07550552059523,
          63.311944944460826,
          57.41504944370661,
          49.61613411010962,
          45.394412477884124,
          47.32788158708381,
          41.52458691319072,
          40.955049946655336,
          33.49408967112747,
          33.720131700354614,
          33.26567782709189,
          28.62211069571286,
          30.125675517984508,
          28.298721475937445,
          30.220107948156517,
          26.23934217805832,
          24.357019350163217,
          20.05419148902342,
          27.02948362813934,
          26.066668970884944,
          21.024920598146743,
          22.207474517274438,
          19.506613876407773,
          21.142801357816808,
          22.31447609936165,
          19.766731366494845,
          22.20598995515747,
          24.523951554515747,
          24.373228629107395,
          23.430552111204204,
          26.731978249437525,
          22.1806113362614,
          26.989588847426326,
          25.531956812169252,
          28.73814840400239,
          25.274227195587624,
          25.920795377808293,
          29.107305417605364,
          16.29524651364404,
          34.02880499308272,
          39.079611967902956,
          44.14804239986766,
          41.827197763196565,
          50.50469240107238,
          63.07186907449486,
          75.24260963325118,
          99.51426244974589,
          145.4124915354967,
          261.1109851531313,
          1862.9561004977757,
          442.56418030394417,
          187.8212717096155,
          123.4914657006402,
          92.79513334285514,
          72.0297939867206,
          62.56660534479655,
          49.244274215039255,
          46.87792559362086,
          44.989957935948176,
          40.919171042402155,
          38.4117048029789,
          34.21786098506915,
          33.27836600721943,
          27.57717183742056,
          33.50147920962594,
          25.100706322555226,
          24.04008916639217,
          29.07715391397639,
          24.41999694168584,
          21.868483341121568,
          24.70825489634927,
          22.967827499812685,
          19.40181111532098,
          20.884844174637156,
          22.501546468451597,
          23.13190240123424,
          18.341555226908024,
          22.980820548493668,
          20.848796135911833,
          18.362590769054588,
          22.124012106901134,
          19.69761169906162,
          25.245904223647734,
          23.99744827454975,
          22.60496899106865,
          18.996397196858222,
          17.514690616252906,
          17.14583679978382,
          27.412957887225314,
          17.892565500704887,
          21.637541544225304,
          14.025491192006447,
          8.828447505585826,
          8.402683304242043,
          6.449276044290452,
          7.0616459929166915,
          27.717523972802955,
          11.415632100820664,
          13.129512120949569,
          10.836343224085429,
          12.66032634112614,
          13.09915722774245,
          15.98586335033698,
          21.779007522615323,
          32.31095046847432,
          48.45669348112393,
          152.9698688838445,
          314.6321351019226,
          82.11627666746061,
          51.806899249289195,
          38.40329276341067,
          27.464878764982707,
          27.1853018373083,
          25.210780168541994,
          26.43355137652916,
          24.252514381273226,
          20.142985406250954,
          19.391330993203002,
          23.859941147261914,
          21.938526684298097,
          21.736006046665896,
          18.823009877741654,
          17.111264576004523,
          18.14156516424093,
          18.065412525418488,
          13.320825467104891,
          12.398402641931973,
          14.252663422823622,
          16.99007680064259,
          20.57870445949495,
          19.139825227221827,
          18.440180914593164,
          19.293492486054777,
          84.39978371590222,
          21.61569329253787,
          8.984600068154604,
          5.79729596268945,
          7.034811685133797,
          11.709357736939658,
          7.48308526097077,
          1.9524102497707967,
          37.25930336072951,
          32.60074563695112,
          32.50910657546827,
          168.77967553828753,
          128.4246588866593,
          59.29909699326551,
          32.60922973159709,
          30.28454961323193,
          23.404608611971337,
          19.471991730163072,
          16.55150861326541,
          9.945418780355384,
          14.01173062785229,
          14.288507671591148,
          13.573558702033948,
          9.069435807958547,
          19.15201441039584,
          15.809131584664069,
          19.219039115142717,
          18.136623957745694,
          22.821681925672486,
          38.599633544074365,
          56.53674945983737,
          99.77541784161501,
          494.0265140488129,
          260.80601895915976,
          101.10166755712669,
          67.93430452526138,
          45.619164236727876,
          39.94211585183029,
          31.208013367441747,
          29.580802573195978,
          30.067224687957715,
          24.036230204898864,
          20.7840871719602,
          20.246436920695018,
          18.01044942026871,
          14.944698936903237,
          14.438767369792531,
          15.76083692976035,
          15.834912829049555,
          21.320857191323867,
          10.350234438218399,
          12.2414207900462,
          10.924647162374695,
          9.594577787128502,
          9.045287034969476,
          7.356951050678507,
          10.08929606047013,
          13.355398668835235,
          7.501390688496879,
          11.474885975269208,
          2.701221911926169,
          7.4880253268279935,
          4.707354424535722,
          44.84349585689918,
          12.633766770224709,
          11.939035278322793,
          11.417086698399107,
          7.606500084717411,
          8.36589713624912,
          5.82148890073147,
          5.489938786141312,
          4.667014971978818,
          7.596948711203985,
          5.580434233433095,
          5.143991392326992,
          7.067449683171525,
          7.273666056567741,
          3.0899896388559784,
          6.9433626132566175,
          7.85526557582233,
          9.61510818161493,
          8.570317123812654,
          6.2320170878816885,
          8.835684317803134,
          10.726763636874095,
          10.500752616871583,
          13.1466390021746,
          19.22565918348623,
          26.043338280894975,
          39.78376418805218,
          97.880526258038,
          273.907767508526,
          79.08109246836213,
          39.25625678467225,
          29.326574808394145,
          19.306407228430306,
          16.933276527241183,
          15.829911716438847,
          10.724324200103768,
          7.587040943438557,
          5.423187801825058,
          3.3325196341567636,
          2.4421494755646176,
          4.81865065348183,
          3.2513295473852146,
          1.4260706206269465,
          2.193718464074684,
          3.5603100544094284,
          1.039061000653121,
          1.9916045740527335,
          4.182361128494665,
          2.119278702929508,
          6.312037653575555,
          6.633375586729854,
          7.523609375685937,
          12.215377537876943,
          2.0829904194119666,
          5.16906566964836,
          1.0490191779403983,
          2.805963410929295,
          1.139654964679241,
          2.947510033108399,
          3.429499364603925,
          3.758029652703433,
          6.657049675447051,
          5.409830169860775,
          3.768775567567168,
          4.565386776191835,
          4.205387972398168,
          2.867282092398577,
          4.590487714063058,
          3.2570574006021453,
          4.172335569615231,
          4.3045490149195205,
          5.181761017741379,
          4.6106202006703825,
          4.178964209270182,
          5.819539440706486,
          5.684847906230539,
          10.027610599532922,
          7.342792007256399,
          9.994824341160697,
          9.257004789735223,
          10.956892626086537,
          19.63663919556126,
          53.22348252228591,
          92.62374917794796,
          21.523815694679133,
          8.130620294093253,
          4.964784050278508,
          5.801640528808819,
          1.6754886982257315,
          3.3779414339812552,
          1.5197824902314796,
          4.735389831730031,
          5.30944771392352,
          3.4750902034295046,
          2.3608221323683645,
          8.664371753855542,
          4.184596828571192,
          6.51752000219317,
          4.580477314603791,
          4.180307029539746,
          7.7357094827193364,
          2.715969822553738,
          5.701683566449126,
          8.844638470228508,
          4.3425448273007285,
          3.996007154876652,
          5.377815946708713,
          9.207104501625999,
          6.79313000988411,
          8.976208272633684,
          7.668361243240033,
          7.02628876111419,
          10.360905306113457,
          5.198393462550182,
          7.018241941265457,
          10.768030415712945,
          9.377386549478315,
          10.87252160865543,
          8.423239454472606,
          10.220639161627,
          10.570059124505416,
          14.596016888411825,
          10.48628450522549,
          11.142705290194016,
          13.135881665468611,
          9.74530133598878,
          10.312717468072428,
          12.757684356281766,
          11.765831704342261,
          18.110207317395826,
          17.189956654310198,
          20.9061046123856,
          77.95129698495762,
          201.17403109396997,
          100.40566517956499,
          43.10323445591269,
          24.77294923532127,
          20.287049946696165,
          14.61652638309566,
          10.729273055310651,
          11.45893125365458,
          10.486685536457477,
          8.796770454996834,
          6.873971478890927,
          2.4986440021768077,
          3.7170040199144556,
          6.167058193166867,
          4.408352073428584,
          3.7550707665296903,
          8.480691754355425,
          2.3988683020109645,
          6.833068375243129,
          3.6510247451053837,
          8.605990058150562,
          7.596789703493122,
          5.22995325780289,
          7.039867065206908,
          4.30438591661767,
          6.180805058195854,
          8.071033342421257,
          5.172872514164018,
          6.869700433971733,
          4.76073929430994,
          5.345505747365393,
          4.113126275761162,
          4.817467205061031,
          5.01086548419894,
          3.987646536749599,
          5.059807417308141,
          7.993025479370598,
          4.193592355367192,
          9.232065285377175,
          3.1033518184581648,
          1.5679514412218591,
          2.43476752474792,
          6.292882965061815,
          5.889417255067565,
          4.436741866306752,
          7.696362624243208,
          4.615840258543955,
          5.9922249151711995,
          4.186531256047144,
          2.6995207455947243,
          6.726583090616591,
          8.280655409693287,
          58.55201479786347,
          43.98919024553948,
          21.262166366444568,
          13.73620408471103,
          10.596407881543517,
          13.830827693862354,
          8.248817755797798,
          8.815896131429835,
          12.17467344403614,
          11.141045187620458,
          6.512861592756714,
          5.880590369780002,
          4.904480262740842,
          10.969864600949656,
          9.24113847656635,
          4.328623162751473,
          6.455376224873727,
          5.406097300093945,
          7.715486950444009,
          7.174188156216298,
          9.680968012665952,
          5.737375261235261,
          6.719695670766068,
          4.694788530545785,
          4.336826755513441,
          5.671566122512074,
          6.151664360496952,
          3.6520759493328185,
          6.592082560288039,
          6.9924494822946555,
          7.407093468658923,
          1.655974876902454,
          5.61706333938988,
          2.192365165746578,
          6.328736038639892,
          6.1763927412079855,
          2.93247988664268,
          2.184726533731663,
          6.8279703950611434,
          4.817432227108284,
          3.4623294336679997,
          6.253643837076224,
          5.103193241701933,
          4.020741712460581,
          4.300924316916259,
          2.528002747946504,
          5.818121027614393,
          4.07518938462448,
          5.0411949659954045,
          4.817442048638765,
          2.4617685496677995,
          2.4497415157284865,
          2.3451086921429734,
          1.2436754953597418,
          17.356494553180106,
          28.069850270395147,
          11.288981795207736,
          10.337446164080044,
          8.553994057757174,
          9.695347909648214,
          5.847005717700605,
          7.416655903839247,
          6.856382009154674,
          4.322592451749081,
          4.590132862270246,
          6.78939740964797,
          8.952447646806549,
          4.607371601688946,
          4.5059455164876,
          4.524633142329069,
          5.364855802118017,
          5.53594429587601,
          3.1256361108252766,
          3.7674398788113157,
          6.690634903249705,
          2.924539373659616,
          3.539728242396135,
          1.847167450387006,
          3.883722378484358,
          2.148426799685449,
          1.1347740506455368,
          2.7015018316776223,
          1.252962963448872,
          6.581840665013562,
          1.4791959913595096,
          2.9461272944108883,
          2.901332341710151,
          3.097050876465242,
          5.218566565855961,
          4.020827773749305,
          3.424682380882647,
          3.764678199767485,
          2.4038470315575275,
          3.5936891332433967,
          1.4363209756812294,
          3.371846187977807,
          2.3170399067575818,
          1.9295405232786413,
          1.1403017764641723,
          4.059803516308422,
          2.8305974384557193,
          1.629640546974162,
          1.7674291832951212,
          2.53855082938765,
          2.3873961017312126,
          2.3896108093149784,
          5.15564528338584,
          8.394772648313108,
          11.511851115528312,
          39.40105987534235
         ],
         "yaxis": "y"
        },
        {
         "hovertemplate": "variable=Амплитуды последнего окна<br>Frequences=%{x}<br>value=%{y}<extra></extra>",
         "legendgroup": "Амплитуды последнего окна",
         "line": {
          "color": "#EF553B",
          "dash": "solid"
         },
         "marker": {
          "symbol": "circle"
         },
         "mode": "lines",
         "name": "Амплитуды последнего окна",
         "showlegend": true,
         "type": "scattergl",
         "x": [
          0,
          1907.3486328124998,
          3814.6972656249995,
          5722.045898437499,
          7629.394531249999,
          9536.743164062498,
          11444.091796874998,
          13351.440429687498,
          15258.789062499998,
          17166.137695312496,
          19073.486328124996,
          20980.834960937496,
          22888.183593749996,
          24795.532226562496,
          26702.880859374996,
          28610.229492187496,
          30517.578124999996,
          32424.926757812496,
          34332.27539062499,
          36239.62402343749,
          38146.97265624999,
          40054.32128906249,
          41961.66992187499,
          43869.01855468749,
          45776.36718749999,
          47683.71582031249,
          49591.06445312499,
          51498.41308593749,
          53405.76171874999,
          55313.11035156249,
          57220.45898437499,
          59127.80761718749,
          61035.15624999999,
          62942.50488281249,
          64849.85351562499,
          66757.20214843749,
          68664.55078124999,
          70571.89941406249,
          72479.24804687499,
          74386.59667968749,
          76293.94531249999,
          78201.29394531249,
          80108.64257812499,
          83923.33984374999,
          87738.03710937499,
          89645.38574218749,
          91552.73437499999,
          93460.08300781249,
          95367.43164062499,
          97274.78027343749,
          99182.12890624999,
          101089.47753906249,
          102996.82617187499,
          104904.17480468749,
          106811.52343749999,
          108718.87207031249,
          110626.22070312499,
          112533.56933593749,
          114440.91796874999,
          116348.26660156249,
          118255.61523437499,
          120162.96386718749,
          122070.31249999999,
          123977.66113281249,
          125885.00976562499,
          127792.35839843749,
          129699.70703124999,
          131607.05566406247,
          133514.40429687497,
          135421.75292968747,
          137329.10156249997,
          139236.45019531247,
          141143.79882812497,
          143051.14746093747,
          144958.49609374997,
          146865.84472656247,
          148773.19335937497,
          150680.54199218747,
          152587.89062499997,
          154495.23925781247,
          156402.58789062497,
          158309.93652343747,
          160217.28515624997,
          162124.63378906247,
          164031.98242187497,
          165939.33105468747,
          167846.67968749997,
          169754.02832031247,
          171661.37695312497,
          173568.72558593747,
          175476.07421874997,
          177383.42285156247,
          179290.77148437497,
          181198.12011718747,
          183105.46874999997,
          185012.81738281247,
          186920.16601562497,
          188827.51464843747,
          190734.86328124997,
          192642.21191406247,
          194549.56054687497,
          196456.90917968747,
          198364.25781249997,
          200271.60644531247,
          202178.95507812497,
          204086.30371093747,
          205993.65234374997,
          209808.34960937497,
          213623.04687499997,
          215530.39550781247,
          217437.74414062497,
          219345.09277343747,
          221252.44140624997,
          223159.79003906247,
          225067.13867187497,
          226974.48730468747,
          228881.83593749997,
          230789.18457031247,
          232696.53320312497,
          234603.88183593747,
          236511.23046874997,
          238418.57910156247,
          240325.92773437497,
          242233.27636718747,
          244140.62499999997,
          246047.97363281247,
          247955.32226562497,
          249862.67089843747,
          251770.01953124997,
          253677.36816406247,
          255584.71679687497,
          259399.41406249997,
          263214.11132812494,
          265121.45996093744,
          267028.80859374994,
          268936.15722656244,
          270843.50585937494,
          272750.85449218744,
          274658.20312499994,
          276565.55175781244,
          278472.90039062494,
          280380.24902343744,
          284194.94628906244,
          286102.29492187494,
          288009.64355468744,
          289916.99218749994,
          291824.34082031244,
          293731.68945312494,
          295639.03808593744,
          297546.38671874994,
          299453.73535156244,
          301361.08398437494,
          303268.43261718744,
          305175.78124999994,
          307083.12988281244,
          308990.47851562494,
          310897.82714843744,
          312805.17578124994,
          314712.52441406244,
          316619.87304687494,
          318527.22167968744,
          320434.57031249994,
          322341.91894531244,
          324249.26757812494,
          326156.61621093744,
          328063.96484374994,
          331878.66210937494,
          333786.01074218744,
          335693.35937499994,
          337600.70800781244,
          339508.05664062494,
          341415.40527343744,
          343322.75390624994,
          345230.10253906244,
          347137.45117187494,
          349044.79980468744,
          350952.14843749994,
          352859.49707031244,
          354766.84570312494,
          356674.19433593744,
          360488.89160156244,
          362396.24023437494,
          364303.58886718744,
          366210.93749999994,
          368118.28613281244,
          370025.63476562494,
          371932.98339843744,
          373840.33203124994,
          375747.68066406244,
          377655.02929687494,
          379562.37792968744,
          381469.72656249994,
          383377.07519531244,
          385284.42382812494,
          387191.77246093744,
          389099.12109374994,
          391006.46972656244,
          392913.81835937494,
          394821.16699218744,
          396728.51562499994,
          398635.86425781244,
          400543.21289062494,
          402450.56152343744,
          404357.91015624994,
          406265.25878906244,
          408172.60742187494,
          410079.95605468744,
          411987.30468749994,
          413894.65332031244,
          415802.00195312494,
          417709.35058593744,
          419616.69921874994,
          421524.04785156244,
          423431.39648437494,
          425338.74511718744,
          427246.09374999994,
          429153.44238281244,
          431060.79101562494,
          432968.13964843744,
          434875.48828124994,
          438690.18554687494,
          440597.53417968744,
          442504.88281249994,
          444412.23144531244,
          446319.58007812494,
          448226.92871093744,
          450134.27734374994,
          452041.62597656244,
          453948.97460937494,
          455856.32324218744,
          457763.67187499994,
          459671.02050781244,
          463485.71777343744,
          465393.06640624994,
          467300.41503906244,
          469207.76367187494,
          471115.11230468744,
          473022.46093749994,
          474929.80957031244,
          476837.15820312494,
          478744.50683593744,
          480651.85546874994,
          482559.20410156244,
          484466.55273437494,
          486373.90136718744,
          488281.24999999994,
          494003.29589843744,
          495910.64453124994,
          497817.99316406244,
          499725.34179687494,
          501632.69042968744,
          503540.03906249994,
          505447.38769531244,
          507354.73632812494,
          509262.08496093744,
          511169.43359374994,
          513076.78222656244,
          514984.13085937494,
          516891.47949218744,
          518798.82812499994,
          520706.17675781244,
          522613.52539062494,
          524520.8740234374,
          526428.2226562499,
          528335.5712890624,
          530242.9199218749,
          532150.2685546874,
          534057.6171874999,
          535964.9658203124,
          537872.3144531249,
          539779.6630859374,
          541687.0117187499,
          543594.3603515624,
          545501.7089843749,
          547409.0576171874,
          549316.4062499999,
          551223.7548828124,
          553131.1035156249,
          555038.4521484374,
          556945.8007812499,
          558853.1494140624,
          562667.8466796874,
          564575.1953124999,
          566482.5439453124,
          568389.8925781249,
          570297.2412109374,
          572204.5898437499,
          574111.9384765624,
          576019.2871093749,
          577926.6357421874,
          579833.9843749999,
          581741.3330078124,
          583648.6816406249,
          585556.0302734374,
          587463.3789062499,
          589370.7275390624,
          591278.0761718749,
          593185.4248046874,
          595092.7734374999,
          597000.1220703124,
          598907.4707031249,
          600814.8193359374,
          602722.1679687499,
          608444.2138671874,
          610351.5624999999,
          612258.9111328124,
          614166.2597656249,
          616073.6083984374,
          617980.9570312499,
          619888.3056640624,
          621795.6542968749,
          623703.0029296874,
          625610.3515624999,
          627517.7001953124,
          631332.3974609374,
          633239.7460937499,
          635147.0947265624,
          637054.4433593749,
          638961.7919921874,
          640869.1406249999,
          642776.4892578124,
          644683.8378906249,
          646591.1865234374,
          650405.8837890624,
          656127.9296874999,
          658035.2783203124,
          659942.6269531249,
          661849.9755859374,
          663757.3242187499,
          665664.6728515624,
          667572.0214843749,
          669479.3701171874,
          671386.7187499999,
          673294.0673828124,
          675201.4160156249,
          677108.7646484374,
          679016.1132812499,
          680923.4619140624,
          682830.8105468749,
          684738.1591796874,
          686645.5078124999,
          688552.8564453124,
          692367.5537109374,
          694274.9023437499,
          696182.2509765624,
          698089.5996093749,
          699996.9482421874,
          701904.2968749999,
          703811.6455078124,
          705718.9941406249,
          707626.3427734374,
          709533.6914062499,
          711441.0400390624,
          713348.3886718749,
          715255.7373046874,
          719070.4345703124,
          720977.7832031249,
          722885.1318359374,
          726699.8291015624,
          728607.1777343749,
          730514.5263671874,
          732421.8749999999,
          734329.2236328124,
          736236.5722656249,
          738143.9208984374,
          740051.2695312499,
          743865.9667968749,
          745773.3154296874,
          747680.6640624999,
          753402.7099609374,
          755310.0585937499,
          757217.4072265624,
          759124.7558593749,
          761032.1044921874,
          764846.8017578124,
          766754.1503906249,
          768661.4990234374,
          770568.8476562499,
          774383.5449218749,
          776290.8935546874,
          778198.2421874999,
          780105.5908203124,
          782012.9394531249,
          783920.2880859374,
          787734.9853515624,
          789642.3339843749,
          791549.6826171874,
          793457.0312499999,
          795364.3798828124,
          797271.7285156249,
          801086.4257812499,
          802993.7744140624,
          804901.1230468749,
          806808.4716796874,
          808715.8203124999,
          810623.1689453124,
          812530.5175781249,
          814437.8662109374,
          820159.9121093749,
          822067.2607421874,
          823974.6093749999,
          825881.9580078124,
          827789.3066406249,
          829696.6552734374,
          831604.0039062499,
          833511.3525390624,
          835418.7011718749,
          837326.0498046874,
          839233.3984374999,
          843048.0957031249,
          844955.4443359374,
          846862.7929687499,
          848770.1416015624,
          850677.4902343749,
          852584.8388671874,
          854492.1874999999,
          858306.8847656249,
          860214.2333984374,
          862121.5820312499,
          864028.9306640624,
          865936.2792968749,
          867843.6279296874,
          869750.9765624999,
          871658.3251953124,
          873565.6738281249,
          875473.0224609374,
          877380.3710937499,
          879287.7197265624,
          883102.4169921874,
          885009.7656249999,
          886917.1142578124,
          888824.4628906249,
          890731.8115234374,
          892639.1601562499,
          896453.8574218749,
          898361.2060546874,
          900268.5546874999,
          902175.9033203124,
          905990.6005859374,
          909805.2978515624,
          911712.6464843749,
          913619.9951171874,
          915527.3437499999,
          917434.6923828124,
          921249.3896484374,
          923156.7382812499,
          925064.0869140624,
          926971.4355468749,
          928878.7841796874,
          932693.4814453124,
          934600.8300781249,
          938415.5273437499,
          942230.2246093749,
          944137.5732421874,
          947952.2705078124,
          949859.6191406249,
          951766.9677734374,
          953674.3164062499,
          955581.6650390624,
          957489.0136718749,
          963211.0595703124,
          965118.4082031249,
          968933.1054687499,
          970840.4541015624,
          972747.8027343749,
          974655.1513671874,
          976562.4999999999,
          978469.8486328124,
          980377.1972656249,
          982284.5458984374,
          984191.8945312499,
          986099.2431640624,
          988006.5917968749,
          989913.9404296874,
          993728.6376953124,
          995635.9863281249,
          997543.3349609374,
          999450.6835937499,
          1001358.0322265624,
          1003265.3808593749,
          1005172.7294921874,
          1008987.4267578124,
          1010894.7753906249,
          1012802.1240234374,
          1014709.4726562499,
          1016616.8212890624,
          1018524.1699218749,
          1020431.5185546874,
          1022338.8671874999,
          1024246.2158203124,
          1026153.5644531249,
          1028060.9130859374,
          1029968.2617187499,
          1031875.6103515624,
          1035690.3076171874,
          1037597.6562499999,
          1039505.0048828124,
          1041412.3535156249,
          1043319.7021484374,
          1045227.0507812499,
          1047134.3994140624,
          1049041.7480468748,
          1050949.0966796873,
          1052856.4453124998,
          1054763.7939453123,
          1056671.1425781248,
          1058578.4912109373,
          1060485.8398437498,
          1062393.1884765623,
          1064300.5371093748,
          1066207.8857421873,
          1068115.2343749998,
          1070022.5830078123,
          1071929.9316406248,
          1073837.2802734373,
          1075744.6289062498,
          1077651.9775390623,
          1079559.3261718748,
          1081466.6748046873,
          1085281.3720703123,
          1087188.7207031248,
          1089096.0693359373,
          1091003.4179687498,
          1092910.7666015623,
          1094818.1152343748,
          1096725.4638671873,
          1098632.8124999998,
          1102447.5097656248,
          1104354.8583984373,
          1106262.2070312498,
          1108169.5556640623,
          1111984.2529296873,
          1113891.6015624998,
          1115798.9501953123,
          1117706.2988281248,
          1119613.6474609373,
          1121520.9960937498,
          1123428.3447265623,
          1125335.6933593748,
          1127243.0419921873,
          1129150.3906249998,
          1131057.7392578123,
          1132965.0878906248,
          1136779.7851562498,
          1138687.1337890623,
          1140594.4824218748,
          1144409.1796874998,
          1146316.5283203123,
          1148223.8769531248,
          1152038.5742187498,
          1153945.9228515623,
          1155853.2714843748,
          1157760.6201171873,
          1159667.9687499998,
          1161575.3173828123,
          1163482.6660156248,
          1165390.0146484373,
          1167297.3632812498,
          1169204.7119140623,
          1171112.0605468748,
          1173019.4091796873
         ],
         "xaxis": "x",
         "y": [
          21.391258239746094,
          1.8429884310700622,
          3.3952287342332825,
          2.249278752180127,
          4.223273596400537,
          2.7994030208904683,
          3.8620904195623313,
          4.216999400829343,
          3.267278962404504,
          7.743513675705299,
          15.102615550327966,
          12.514494763250612,
          10.334633161187153,
          3.9190391333841395,
          14.625588182223085,
          4.624739109250892,
          13.992307459202694,
          5.718680829847543,
          2.2351632766060194,
          7.73813271116456,
          2.835403038810845,
          6.182646956763507,
          9.054453073102684,
          3.4020081640943802,
          17.724091573640514,
          7.798028018983507,
          13.777179657823579,
          9.95889194701163,
          3.547557513071202,
          10.510119415511575,
          44.962939765709656,
          5.771822429449603,
          9.00063346625332,
          5.244430848088968,
          5.465996470069662,
          3.6684906743816557,
          5.288213811678667,
          6.863566690436594,
          2.7062434698461133,
          3.2167873087769583,
          4.5914627721753725,
          2.5783873842123466,
          1.9318230143180024,
          7.469872105393473,
          11.334049055619522,
          14.760240134259012,
          14.249596148992016,
          27.162085536738843,
          9.065511065038462,
          2.660875553768792,
          11.899483747988304,
          16.001967061192705,
          13.905320949142174,
          16.867145994200094,
          31.200033788728543,
          43.82922139279499,
          22.072183548733722,
          27.863619918290887,
          47.36079452499192,
          127.10221066253145,
          261.40517503609857,
          44.25788385007528,
          35.73075029020311,
          25.175496621201663,
          20.649469458605022,
          16.79327920861728,
          20.68221925800168,
          7.059520761113422,
          10.20825662222792,
          8.859374975528086,
          9.341726981039274,
          8.86246959090119,
          2.299744943569562,
          8.586970702254826,
          8.340062691745546,
          7.088255694700149,
          3.7875268905275696,
          4.601418026741085,
          6.730131610644318,
          3.4969345588774323,
          5.20882612148978,
          6.090308931126145,
          4.257852548121381,
          4.923155501309978,
          6.94856278185708,
          5.071158412153097,
          3.8558234290792486,
          5.225838504018647,
          7.111044008359643,
          7.033214063060638,
          2.743917300261209,
          6.94422325294754,
          4.173523795895225,
          4.4759488639830565,
          8.262591855501778,
          1.4657182760147793,
          1.9749883443410534,
          4.072476862087362,
          1.6877227390931733,
          2.7008817199918678,
          2.9429475114330326,
          7.603771866069262,
          2.904567173406126,
          3.5392011567990966,
          5.178218561100696,
          7.431159507454327,
          5.8394534154432,
          8.720447983558882,
          27.55172205556574,
          7.938624850039228,
          4.457374533887808,
          2.2151178807817784,
          9.765290167465254,
          3.5882107235501373,
          3.729531392392737,
          2.656077909004634,
          2.2513845967248316,
          1.564629634987588,
          2.6823033152140665,
          105.86104249438635,
          14.998257992455027,
          5.002336678315921,
          5.125766339134807,
          5.5033593629110245,
          1.099766987280191,
          5.630707467563784,
          2.7266022679909416,
          5.032518366631404,
          3.287388131884635,
          2.2156025308129226,
          4.777341184250003,
          1.6373698391885068,
          2.864247929825581,
          1.3852239067991072,
          1.4890129079180938,
          3.3502999080443328,
          2.6156815603882317,
          1.4412470133511486,
          3.032162371844068,
          1.4275012396575146,
          2.325281934660581,
          1.4887295559906246,
          1.928617502961582,
          1.6659743776967755,
          2.762672933169713,
          1.3409046154464603,
          1.0615076129188414,
          5.348195524964886,
          2.5482536182590345,
          4.938257065013967,
          1.4894555153893014,
          6.99354539277233,
          18.81404629721276,
          18.1956845697929,
          6.324102388448185,
          4.388370896609686,
          16.378363665218764,
          2.719600433457735,
          7.533500828753624,
          6.859147035894115,
          3.756285027998912,
          41.825571384633676,
          7.411947437350922,
          4.99276973237942,
          2.006123331573099,
          4.521181174235309,
          20.073884601843098,
          2.617016857279779,
          1.9801115788764854,
          5.42788825501088,
          6.693563171176681,
          3.2409099145226974,
          1.34366443199515,
          4.022727496959053,
          5.344596833513886,
          5.883068990148725,
          17.531464023171477,
          26.470367804807978,
          2.9889598599787752,
          2.3180748265894966,
          3.6485299565863447,
          4.415597878897767,
          3.80511193021551,
          2.427123333935028,
          3.8754510861021108,
          2.3973452412851377,
          2.11426320014425,
          3.017394776628408,
          5.458030179050108,
          2.1951103290670524,
          1.0334840148004796,
          5.163298365424174,
          1.6392225973936727,
          3.051280855249984,
          2.6368065623593147,
          7.748450766906732,
          4.52345400932592,
          1.4941725464028477,
          7.479994648036214,
          4.445140787201568,
          7.732240041520879,
          10.5350963827733,
          12.554119071622063,
          40.344124553135636,
          65.83632243607495,
          14.37464430809225,
          10.671755338538121,
          9.073218651120667,
          6.873604231007371,
          1.9503430502124295,
          14.251464195500578,
          8.014025180025667,
          46.207339527653524,
          24.384942632403348,
          39.40814512521008,
          177.82397052271438,
          13.484249277239131,
          3.3936512945977113,
          5.478258964201879,
          7.652146974257514,
          5.605879705928348,
          5.213630534924959,
          2.6455140052742356,
          4.39088441573674,
          6.210249598068682,
          2.118892462704927,
          6.659173982462604,
          2.8556771993105854,
          4.734366762521597,
          4.13306974974687,
          5.298801946517763,
          6.897920909109489,
          2.9187998290102497,
          7.029822933805764,
          5.776254705024012,
          11.382893988825307,
          12.84602564176613,
          1.8295709172994268,
          2.9248234395325112,
          1.4283108686759731,
          1.888670926614576,
          1.230640159966666,
          2.172380834533154,
          4.473077069828401,
          3.4679992158603716,
          3.627083448901817,
          8.294174196195344,
          4.019310683539866,
          4.104465611863962,
          5.159075539748905,
          1.2291143819028056,
          1.865225682551619,
          3.936418069144471,
          13.011517134993083,
          4.5584524204616645,
          2.3549750963434373,
          2.029974494585245,
          4.158313343725807,
          1.899099580269489,
          2.1521271759107097,
          4.118314939684555,
          1.7706224369382788,
          1.6930230318746267,
          7.205066325817409,
          4.022582213062588,
          4.487605407152014,
          3.6958062943221277,
          38.04208874733038,
          3.3458709544129905,
          3.56371175372067,
          1.936893341875256,
          5.209603649843082,
          3.2084087284743856,
          1.513886941337038,
          4.287189048822221,
          3.841589770416243,
          3.4204654261241463,
          3.2352620102796563,
          3.9676402835864537,
          3.6647061840381125,
          4.06454115199037,
          1.0116210338913654,
          1.8393885665998155,
          2.727196339607678,
          6.167479634688581,
          1.2553617206434142,
          4.03423955744714,
          1.2492264273459779,
          2.3195496612197712,
          1.3376202323940962,
          2.511897367106442,
          1.9255291462204585,
          3.802173043838566,
          3.1586224494909,
          17.289872916176204,
          8.639209551824187,
          1.801253124136308,
          1.214632998958775,
          1.5842809379539033,
          4.023186629834635,
          2.3294978062623892,
          4.6250675441450735,
          2.3380112109339133,
          2.420410810537371,
          4.431177398224837,
          2.9908672179754534,
          1.2655183337998894,
          2.7110525486911725,
          3.0700686185797337,
          1.1733872330321786,
          3.9638115164201935,
          4.145423747019853,
          2.691276597068486,
          1.433970608843201,
          6.037550296361985,
          2.861044238092756,
          3.599101789886585,
          1.6795380875063397,
          2.629640872174998,
          16.86381904164727,
          3.815457843271496,
          4.65638975050599,
          4.452732266988541,
          2.5339265325455886,
          1.3114809643105423,
          2.1463754251335647,
          8.045277715184355,
          3.640895158429058,
          1.859121525294435,
          2.801532550203079,
          4.922158579964955,
          3.932673637942974,
          3.642289204739768,
          3.489222392445734,
          2.1068303929944965,
          1.486644364939924,
          1.0479429203357835,
          5.393703500665865,
          1.6357055335727235,
          2.8304921905145206,
          1.3629911371656014,
          1.9064693492621498,
          3.7223475824270045,
          2.3592126268329587,
          2.760075750893844,
          3.010082137802366,
          1.808650031247,
          1.989737236762977,
          1.9579148832975506,
          3.060955255062726,
          2.1346787304618897,
          2.3046953941317367,
          2.741091258493,
          2.667292293195127,
          1.5676098037092372,
          4.0452579362435355,
          4.493984610542227,
          4.043749975712369,
          2.015623879154559,
          3.440597493893579,
          3.202728343922406,
          1.0344910602351909,
          1.193087662409433,
          5.523888671215251,
          1.444212717036313,
          2.63370972812171,
          1.889583114500532,
          1.5474559713075209,
          4.576351079582453,
          4.004298986447771,
          3.7725073832001432,
          1.386191537499167,
          2.186065602679281,
          1.9873507667372428,
          2.227100554545135,
          3.2117600075152373,
          1.69385142975453,
          1.1045303448642951,
          4.27707905949399,
          4.175112687645649,
          2.6325361790176234,
          4.442350525424577,
          1.8727244929423374,
          2.079186450249249,
          4.031535315732521,
          3.6914708333531085,
          3.4539544143076157,
          3.658536531623409,
          1.699470760510483,
          5.205631522879134,
          2.4863761922121697,
          2.2220719850844763,
          2.4406845520975557,
          1.8029832040448481,
          1.8412166710373945,
          1.8124924019140547,
          2.1247589447015547,
          1.3270216450960728,
          2.0506646346126645,
          4.119450339047755,
          2.102476920842148,
          1.8380607140726084,
          2.5118379325072384,
          3.0875528330089583,
          2.399373120466484,
          2.6197426401572574,
          1.2955904529967868,
          4.995203675487692,
          1.3838756771976213,
          1.4979978212400302,
          6.071865902418644,
          2.050348049482909,
          2.6209238264318118,
          1.2212426923558781,
          4.570390424430225,
          3.3340351197319165,
          2.0379393874501472,
          2.394658316878361,
          1.2258168474361095,
          3.9508984281221418,
          3.2499645321321537,
          2.3058925291513623,
          2.4852240983231235,
          3.9691450058508218,
          1.245568404359816,
          2.656032881891137,
          1.1423909155257077,
          5.576153432001044,
          4.8647379242067625,
          1.689403160634844,
          2.611047813431777,
          3.2787741159685866,
          2.255026761413135,
          1.5814574664036722,
          1.7267890301102993,
          3.1863657762978153,
          1.9415268178568441,
          1.3043073928328137,
          3.88523185773598,
          4.420069979978416,
          1.2834859398728937,
          4.0420814618539005,
          4.617889291742782,
          2.2047424004249034,
          1.953474461900106,
          1.3440229235942311,
          2.4047609619125825,
          2.159181574288284,
          3.89883329786829,
          3.0627038509606037,
          1.1589957491877505,
          2.3336914222834046,
          4.45947004473392,
          3.0302406663332166,
          1.8557267381154712,
          4.53451465108167,
          1.6747532696379326,
          2.236405028460007,
          1.3558113282307391,
          3.175741380152304,
          1.057347757513459,
          4.112382878917117,
          2.8498582563887895,
          1.9742872625266776,
          1.3289133753293672,
          3.644713066300088,
          1.6821651465715308,
          3.1178774318388993,
          4.731080697847026,
          1.7127206728626962,
          3.2440140221146927,
          4.080581754395006,
          4.143517090683772,
          2.7035321140463613,
          1.229147336936595,
          1.2441278397599849,
          1.9050606388007085,
          3.040702808830017,
          1.5094802877386093,
          2.1107527158534753,
          2.3777473098827735,
          2.7246165446707695,
          2.8547283139298054,
          2.0150403958829757,
          1.1139763397173097,
          2.208624069751699,
          2.8058058100060683,
          1.822416701905706,
          3.656688118775069,
          2.4726042490034073,
          1.2495979304029414,
          2.9220170498480935,
          2.468284436164706,
          2.751552255050884,
          3.0949278084847958,
          3.9485097529388016,
          1.9238687813935318,
          2.2288002073574003,
          2.508544816743501,
          5.715194152411383,
          3.738575590061693,
          4.939426071370784,
          5.048500116741707,
          1.7199105488439292,
          2.2933094340213747,
          1.9739676910764221,
          2.3610058404684016,
          2.011976042629238,
          2.6214490637520695,
          1.8893453880613416,
          2.438277485549771,
          2.9099215219792343,
          3.2016573499963963,
          1.958525837561893,
          1.6424504350983409,
          2.4349327344206917,
          1.5298071211871307,
          4.911977059121661,
          1.076685079709893,
          2.4663475210170622,
          2.320653864892071,
          3.633912553406162,
          4.29198382617466,
          2.8971624765356694,
          1.5907762128648426,
          1.2849606409882757,
          2.770479080754226,
          3.672247468465101,
          2.63975746182333,
          3.878183001614518,
          1.0054328810450512,
          2.6757530592079593,
          1.7965450105106444,
          1.1403081680658544,
          1.2057587781010348,
          1.0051814474729435,
          5.33721908268333,
          3.003028087117183,
          1.1355063872726452,
          1.642908751924079,
          2.036226967892564,
          2.6376053168638474,
          2.316133291081286,
          3.907973477854859,
          2.438507037609012,
          3.107106869282594,
          3.211946948211614,
          2.943395272980845,
          2.9881952935583067,
          2.7379555491354983,
          1.228902763720972,
          2.5741397684335316,
          1.0788532445306847,
          1.115738726077325,
          5.344185439610431,
          1.8996459226810223,
          3.202174342540949,
          1.2563823888560848,
          2.285560830845076,
          3.1531622722311354,
          5.67091043285547
         ],
         "yaxis": "y"
        }
       ],
       "layout": {
        "legend": {
         "title": {
          "text": "Легенда"
         },
         "tracegroupgap": 0
        },
        "margin": {
         "t": 60
        },
        "template": {
         "data": {
          "bar": [
           {
            "error_x": {
             "color": "#2a3f5f"
            },
            "error_y": {
             "color": "#2a3f5f"
            },
            "marker": {
             "line": {
              "color": "#E5ECF6",
              "width": 0.5
             },
             "pattern": {
              "fillmode": "overlay",
              "size": 10,
              "solidity": 0.2
             }
            },
            "type": "bar"
           }
          ],
          "barpolar": [
           {
            "marker": {
             "line": {
              "color": "#E5ECF6",
              "width": 0.5
             },
             "pattern": {
              "fillmode": "overlay",
              "size": 10,
              "solidity": 0.2
             }
            },
            "type": "barpolar"
           }
          ],
          "carpet": [
           {
            "aaxis": {
             "endlinecolor": "#2a3f5f",
             "gridcolor": "white",
             "linecolor": "white",
             "minorgridcolor": "white",
             "startlinecolor": "#2a3f5f"
            },
            "baxis": {
             "endlinecolor": "#2a3f5f",
             "gridcolor": "white",
             "linecolor": "white",
             "minorgridcolor": "white",
             "startlinecolor": "#2a3f5f"
            },
            "type": "carpet"
           }
          ],
          "choropleth": [
           {
            "colorbar": {
             "outlinewidth": 0,
             "ticks": ""
            },
            "type": "choropleth"
           }
          ],
          "contour": [
           {
            "colorbar": {
             "outlinewidth": 0,
             "ticks": ""
            },
            "colorscale": [
             [
              0,
              "#0d0887"
             ],
             [
              0.1111111111111111,
              "#46039f"
             ],
             [
              0.2222222222222222,
              "#7201a8"
             ],
             [
              0.3333333333333333,
              "#9c179e"
             ],
             [
              0.4444444444444444,
              "#bd3786"
             ],
             [
              0.5555555555555556,
              "#d8576b"
             ],
             [
              0.6666666666666666,
              "#ed7953"
             ],
             [
              0.7777777777777778,
              "#fb9f3a"
             ],
             [
              0.8888888888888888,
              "#fdca26"
             ],
             [
              1,
              "#f0f921"
             ]
            ],
            "type": "contour"
           }
          ],
          "contourcarpet": [
           {
            "colorbar": {
             "outlinewidth": 0,
             "ticks": ""
            },
            "type": "contourcarpet"
           }
          ],
          "heatmap": [
           {
            "colorbar": {
             "outlinewidth": 0,
             "ticks": ""
            },
            "colorscale": [
             [
              0,
              "#0d0887"
             ],
             [
              0.1111111111111111,
              "#46039f"
             ],
             [
              0.2222222222222222,
              "#7201a8"
             ],
             [
              0.3333333333333333,
              "#9c179e"
             ],
             [
              0.4444444444444444,
              "#bd3786"
             ],
             [
              0.5555555555555556,
              "#d8576b"
             ],
             [
              0.6666666666666666,
              "#ed7953"
             ],
             [
              0.7777777777777778,
              "#fb9f3a"
             ],
             [
              0.8888888888888888,
              "#fdca26"
             ],
             [
              1,
              "#f0f921"
             ]
            ],
            "type": "heatmap"
           }
          ],
          "heatmapgl": [
           {
            "colorbar": {
             "outlinewidth": 0,
             "ticks": ""
            },
            "colorscale": [
             [
              0,
              "#0d0887"
             ],
             [
              0.1111111111111111,
              "#46039f"
             ],
             [
              0.2222222222222222,
              "#7201a8"
             ],
             [
              0.3333333333333333,
              "#9c179e"
             ],
             [
              0.4444444444444444,
              "#bd3786"
             ],
             [
              0.5555555555555556,
              "#d8576b"
             ],
             [
              0.6666666666666666,
              "#ed7953"
             ],
             [
              0.7777777777777778,
              "#fb9f3a"
             ],
             [
              0.8888888888888888,
              "#fdca26"
             ],
             [
              1,
              "#f0f921"
             ]
            ],
            "type": "heatmapgl"
           }
          ],
          "histogram": [
           {
            "marker": {
             "pattern": {
              "fillmode": "overlay",
              "size": 10,
              "solidity": 0.2
             }
            },
            "type": "histogram"
           }
          ],
          "histogram2d": [
           {
            "colorbar": {
             "outlinewidth": 0,
             "ticks": ""
            },
            "colorscale": [
             [
              0,
              "#0d0887"
             ],
             [
              0.1111111111111111,
              "#46039f"
             ],
             [
              0.2222222222222222,
              "#7201a8"
             ],
             [
              0.3333333333333333,
              "#9c179e"
             ],
             [
              0.4444444444444444,
              "#bd3786"
             ],
             [
              0.5555555555555556,
              "#d8576b"
             ],
             [
              0.6666666666666666,
              "#ed7953"
             ],
             [
              0.7777777777777778,
              "#fb9f3a"
             ],
             [
              0.8888888888888888,
              "#fdca26"
             ],
             [
              1,
              "#f0f921"
             ]
            ],
            "type": "histogram2d"
           }
          ],
          "histogram2dcontour": [
           {
            "colorbar": {
             "outlinewidth": 0,
             "ticks": ""
            },
            "colorscale": [
             [
              0,
              "#0d0887"
             ],
             [
              0.1111111111111111,
              "#46039f"
             ],
             [
              0.2222222222222222,
              "#7201a8"
             ],
             [
              0.3333333333333333,
              "#9c179e"
             ],
             [
              0.4444444444444444,
              "#bd3786"
             ],
             [
              0.5555555555555556,
              "#d8576b"
             ],
             [
              0.6666666666666666,
              "#ed7953"
             ],
             [
              0.7777777777777778,
              "#fb9f3a"
             ],
             [
              0.8888888888888888,
              "#fdca26"
             ],
             [
              1,
              "#f0f921"
             ]
            ],
            "type": "histogram2dcontour"
           }
          ],
          "mesh3d": [
           {
            "colorbar": {
             "outlinewidth": 0,
             "ticks": ""
            },
            "type": "mesh3d"
           }
          ],
          "parcoords": [
           {
            "line": {
             "colorbar": {
              "outlinewidth": 0,
              "ticks": ""
             }
            },
            "type": "parcoords"
           }
          ],
          "pie": [
           {
            "automargin": true,
            "type": "pie"
           }
          ],
          "scatter": [
           {
            "fillpattern": {
             "fillmode": "overlay",
             "size": 10,
             "solidity": 0.2
            },
            "type": "scatter"
           }
          ],
          "scatter3d": [
           {
            "line": {
             "colorbar": {
              "outlinewidth": 0,
              "ticks": ""
             }
            },
            "marker": {
             "colorbar": {
              "outlinewidth": 0,
              "ticks": ""
             }
            },
            "type": "scatter3d"
           }
          ],
          "scattercarpet": [
           {
            "marker": {
             "colorbar": {
              "outlinewidth": 0,
              "ticks": ""
             }
            },
            "type": "scattercarpet"
           }
          ],
          "scattergeo": [
           {
            "marker": {
             "colorbar": {
              "outlinewidth": 0,
              "ticks": ""
             }
            },
            "type": "scattergeo"
           }
          ],
          "scattergl": [
           {
            "marker": {
             "colorbar": {
              "outlinewidth": 0,
              "ticks": ""
             }
            },
            "type": "scattergl"
           }
          ],
          "scattermapbox": [
           {
            "marker": {
             "colorbar": {
              "outlinewidth": 0,
              "ticks": ""
             }
            },
            "type": "scattermapbox"
           }
          ],
          "scatterpolar": [
           {
            "marker": {
             "colorbar": {
              "outlinewidth": 0,
              "ticks": ""
             }
            },
            "type": "scatterpolar"
           }
          ],
          "scatterpolargl": [
           {
            "marker": {
             "colorbar": {
              "outlinewidth": 0,
              "ticks": ""
             }
            },
            "type": "scatterpolargl"
           }
          ],
          "scatterternary": [
           {
            "marker": {
             "colorbar": {
              "outlinewidth": 0,
              "ticks": ""
             }
            },
            "type": "scatterternary"
           }
          ],
          "surface": [
           {
            "colorbar": {
             "outlinewidth": 0,
             "ticks": ""
            },
            "colorscale": [
             [
              0,
              "#0d0887"
             ],
             [
              0.1111111111111111,
              "#46039f"
             ],
             [
              0.2222222222222222,
              "#7201a8"
             ],
             [
              0.3333333333333333,
              "#9c179e"
             ],
             [
              0.4444444444444444,
              "#bd3786"
             ],
             [
              0.5555555555555556,
              "#d8576b"
             ],
             [
              0.6666666666666666,
              "#ed7953"
             ],
             [
              0.7777777777777778,
              "#fb9f3a"
             ],
             [
              0.8888888888888888,
              "#fdca26"
             ],
             [
              1,
              "#f0f921"
             ]
            ],
            "type": "surface"
           }
          ],
          "table": [
           {
            "cells": {
             "fill": {
              "color": "#EBF0F8"
             },
             "line": {
              "color": "white"
             }
            },
            "header": {
             "fill": {
              "color": "#C8D4E3"
             },
             "line": {
              "color": "white"
             }
            },
            "type": "table"
           }
          ]
         },
         "layout": {
          "annotationdefaults": {
           "arrowcolor": "#2a3f5f",
           "arrowhead": 0,
           "arrowwidth": 1
          },
          "autotypenumbers": "strict",
          "coloraxis": {
           "colorbar": {
            "outlinewidth": 0,
            "ticks": ""
           }
          },
          "colorscale": {
           "diverging": [
            [
             0,
             "#8e0152"
            ],
            [
             0.1,
             "#c51b7d"
            ],
            [
             0.2,
             "#de77ae"
            ],
            [
             0.3,
             "#f1b6da"
            ],
            [
             0.4,
             "#fde0ef"
            ],
            [
             0.5,
             "#f7f7f7"
            ],
            [
             0.6,
             "#e6f5d0"
            ],
            [
             0.7,
             "#b8e186"
            ],
            [
             0.8,
             "#7fbc41"
            ],
            [
             0.9,
             "#4d9221"
            ],
            [
             1,
             "#276419"
            ]
           ],
           "sequential": [
            [
             0,
             "#0d0887"
            ],
            [
             0.1111111111111111,
             "#46039f"
            ],
            [
             0.2222222222222222,
             "#7201a8"
            ],
            [
             0.3333333333333333,
             "#9c179e"
            ],
            [
             0.4444444444444444,
             "#bd3786"
            ],
            [
             0.5555555555555556,
             "#d8576b"
            ],
            [
             0.6666666666666666,
             "#ed7953"
            ],
            [
             0.7777777777777778,
             "#fb9f3a"
            ],
            [
             0.8888888888888888,
             "#fdca26"
            ],
            [
             1,
             "#f0f921"
            ]
           ],
           "sequentialminus": [
            [
             0,
             "#0d0887"
            ],
            [
             0.1111111111111111,
             "#46039f"
            ],
            [
             0.2222222222222222,
             "#7201a8"
            ],
            [
             0.3333333333333333,
             "#9c179e"
            ],
            [
             0.4444444444444444,
             "#bd3786"
            ],
            [
             0.5555555555555556,
             "#d8576b"
            ],
            [
             0.6666666666666666,
             "#ed7953"
            ],
            [
             0.7777777777777778,
             "#fb9f3a"
            ],
            [
             0.8888888888888888,
             "#fdca26"
            ],
            [
             1,
             "#f0f921"
            ]
           ]
          },
          "colorway": [
           "#636efa",
           "#EF553B",
           "#00cc96",
           "#ab63fa",
           "#FFA15A",
           "#19d3f3",
           "#FF6692",
           "#B6E880",
           "#FF97FF",
           "#FECB52"
          ],
          "font": {
           "color": "#2a3f5f"
          },
          "geo": {
           "bgcolor": "white",
           "lakecolor": "white",
           "landcolor": "#E5ECF6",
           "showlakes": true,
           "showland": true,
           "subunitcolor": "white"
          },
          "hoverlabel": {
           "align": "left"
          },
          "hovermode": "closest",
          "mapbox": {
           "style": "light"
          },
          "paper_bgcolor": "white",
          "plot_bgcolor": "#E5ECF6",
          "polar": {
           "angularaxis": {
            "gridcolor": "white",
            "linecolor": "white",
            "ticks": ""
           },
           "bgcolor": "#E5ECF6",
           "radialaxis": {
            "gridcolor": "white",
            "linecolor": "white",
            "ticks": ""
           }
          },
          "scene": {
           "xaxis": {
            "backgroundcolor": "#E5ECF6",
            "gridcolor": "white",
            "gridwidth": 2,
            "linecolor": "white",
            "showbackground": true,
            "ticks": "",
            "zerolinecolor": "white"
           },
           "yaxis": {
            "backgroundcolor": "#E5ECF6",
            "gridcolor": "white",
            "gridwidth": 2,
            "linecolor": "white",
            "showbackground": true,
            "ticks": "",
            "zerolinecolor": "white"
           },
           "zaxis": {
            "backgroundcolor": "#E5ECF6",
            "gridcolor": "white",
            "gridwidth": 2,
            "linecolor": "white",
            "showbackground": true,
            "ticks": "",
            "zerolinecolor": "white"
           }
          },
          "shapedefaults": {
           "line": {
            "color": "#2a3f5f"
           }
          },
          "ternary": {
           "aaxis": {
            "gridcolor": "white",
            "linecolor": "white",
            "ticks": ""
           },
           "baxis": {
            "gridcolor": "white",
            "linecolor": "white",
            "ticks": ""
           },
           "bgcolor": "#E5ECF6",
           "caxis": {
            "gridcolor": "white",
            "linecolor": "white",
            "ticks": ""
           }
          },
          "title": {
           "x": 0.05
          },
          "xaxis": {
           "automargin": true,
           "gridcolor": "white",
           "linecolor": "white",
           "ticks": "",
           "title": {
            "standoff": 15
           },
           "zerolinecolor": "white",
           "zerolinewidth": 2
          },
          "yaxis": {
           "automargin": true,
           "gridcolor": "white",
           "linecolor": "white",
           "ticks": "",
           "title": {
            "standoff": 15
           },
           "zerolinecolor": "white",
           "zerolinewidth": 2
          }
         }
        },
        "xaxis": {
         "anchor": "y",
         "domain": [
          0,
          1
         ],
         "title": {
          "text": "Частота"
         }
        },
        "yaxis": {
         "anchor": "x",
         "domain": [
          0,
          1
         ],
         "title": {
          "text": "Амплитуда"
         },
         "type": "log"
        }
       }
      }
     },
     "metadata": {},
     "output_type": "display_data"
    }
   ],
   "source": [
    "df = pd.DataFrame({\n",
    "    'Frequences': frequences[filtered_indicies],\n",
    "    'Амплитуды первого окна': first_window_amplitudes[filtered_indicies],\n",
    "    'Амплитуды последнего окна': last_window_amplitudes[filtered_indicies],})\n",
    "\n",
    "fig = px.line(df, x=\"Frequences\", y=[\"Амплитуды первого окна\", \"Амплитуды последнего окна\"], log_y=True)\\\n",
    "    .update_layout(xaxis_title='Частота', yaxis_title='Амплитуда', legend_title='Легенда')\n",
    "\n",
    "fig.show()"
   ]
  },
  {
   "cell_type": "markdown",
   "metadata": {},
   "source": [
    "Этот график является интерактивным. Визуально определяем, где на графики разность между пиками минимальна и наводимся туда курсором. Нам покажутся координаты этой точки. Нужна будет конкретно частота. Сохраним ее значение в переменную, которая пригодится нам в дальнейшем"
   ]
  },
  {
   "cell_type": "code",
   "execution_count": 38,
   "metadata": {},
   "outputs": [],
   "source": [
    "frequence_with_minimal_difference = 427.246e3"
   ]
  },
  {
   "cell_type": "markdown",
   "metadata": {},
   "source": [
    "## Коррекция АЧХ"
   ]
  },
  {
   "cell_type": "markdown",
   "metadata": {},
   "source": [
    "Найдем округленный период и частоту, соответствующую ему"
   ]
  },
  {
   "cell_type": "code",
   "execution_count": 39,
   "metadata": {},
   "outputs": [],
   "source": [
    "rounded_period = int(period)\n",
    "rotation_frequency = 1 / (time_delta * rounded_period)"
   ]
  },
  {
   "cell_type": "markdown",
   "metadata": {},
   "source": [
    "Реализуем передаточную функцию"
   ]
  },
  {
   "cell_type": "code",
   "execution_count": 40,
   "metadata": {},
   "outputs": [],
   "source": [
    "time_constant_TF = 1 / frequence_with_minimal_difference\n",
    "order = 1\n",
    "transfer_function = lambda frequency: ((2j * np.pi * frequency * time_constant_TF) / (1 + 2j * np.pi * frequency * time_constant_TF)) ** order"
   ]
  },
  {
   "cell_type": "markdown",
   "metadata": {},
   "source": [
    "Построим на графиках амплитуду и фазу передаточной функции для некоторого спектра частот"
   ]
  },
  {
   "cell_type": "code",
   "execution_count": 41,
   "metadata": {},
   "outputs": [
    {
     "data": {
      "image/png": "[encoded data removed]",
      "text/plain": [
       "<Figure size 1500x600 with 2 Axes>"
      ]
     },
     "metadata": {},
     "output_type": "display_data"
    }
   ],
   "source": [
    "fig, axs = plt.subplots(1, 2, figsize=(15, 6))\n",
    "frequences_range = np.arange(1, rounded_period//2 + 1) * rotation_frequency\n",
    "\n",
    "axs[0].plot(frequences_range, np.abs(transfer_function(frequences_range)), marker='o', mfc='None')\n",
    "axs[0].set_xscale('log')\n",
    "axs[0].set_xlabel('Частота')\n",
    "axs[0].set_ylabel('Амплитуда')\n",
    "\n",
    "axs[1].plot(frequences_range, np.angle(transfer_function(frequences_range)), marker='o', mfc='None')\n",
    "axs[1].set_xscale('log')\n",
    "axs[1].set_xlabel('Частота')\n",
    "axs[1].set_ylabel('Фаза');"
   ]
  },
  {
   "cell_type": "markdown",
   "metadata": {},
   "source": [
    "Произведем восстановление сигнала с последующей коррекцией"
   ]
  },
  {
   "cell_type": "code",
   "execution_count": 42,
   "metadata": {},
   "outputs": [],
   "source": [
    "restored_signal = restore_original_signal_time_domain(summary_resonance['X'], period, rotation_frequency, transfer_function)\n",
    "corrected_signal = correct_offset_with_smoothing(restored_signal, 60)"
   ]
  },
  {
   "cell_type": "markdown",
   "metadata": {},
   "source": [
    "График суммарного сигнала по периодам"
   ]
  },
  {
   "cell_type": "code",
   "execution_count": 54,
   "metadata": {},
   "outputs": [
    {
     "data": {
      "image/png": "[encoded data removed]",
      "text/plain": [
       "<Figure size 800x800 with 1 Axes>"
      ]
     },
     "metadata": {},
     "output_type": "display_data"
    }
   ],
   "source": [
    "plt.figure(figsize=(8, 8))\n",
    "plt.scatter(np.arange(492), [np.sum(bunch) for bunch in corrected_signal], s=1, label='Восстановленный сигнал')\n",
    "plt.legend()\n",
    "plt.title('Графики суммарных сигналов на каждом из периодов')\n",
    "plt.xlabel('Номер периода');"
   ]
  },
  {
   "cell_type": "markdown",
   "metadata": {},
   "source": [
    "Построим графики восстановленого сигнала для 1-ого, 2-ого и 21-ого периодов. Для наглядности, сделаем небольшие поправки к значениям"
   ]
  },
  {
   "cell_type": "code",
   "execution_count": 52,
   "metadata": {},
   "outputs": [
    {
     "data": {
      "text/plain": [
       "Text(0.5, 0, 't [ms]')"
      ]
     },
     "execution_count": 52,
     "metadata": {},
     "output_type": "execute_result"
    },
    {
     "data": {
      "image/png": "[encoded data removed]",
      "text/plain": [
       "<Figure size 800x800 with 1 Axes>"
      ]
     },
     "metadata": {},
     "output_type": "display_data"
    }
   ],
   "source": [
    "index_range = np.arange(1, int(period))\n",
    "\n",
    "corrected_signal_0 = (corrected_signal[0][1:] / 10 ** 3) + index_range * 0.002 - 5\n",
    "corrected_signal_1 = (corrected_signal[1][1:] / 10 ** 3) - index_range * 0.0009\n",
    "corrected_signal_20 = (corrected_signal[20][1:] / 10 ** 3) - (index_range * 0.000 + 1)\n",
    "\n",
    "time_range = 10**6 * time_delta * index_range\n",
    "\n",
    "plt.figure(figsize=(8, 8))\n",
    "\n",
    "plt.plot(time_range, corrected_signal_0, label='Первый оборот')\n",
    "plt.plot(time_range, corrected_signal_1, label='Второй оборот')\n",
    "plt.plot(time_range, corrected_signal_20, label='Третий оборот')\n",
    "\n",
    "plt.legend()\n",
    "plt.ylabel('Bunch current [abitrary units]')\n",
    "plt.xlabel('t [ms]')"
   ]
  },
  {
   "cell_type": "code",
   "execution_count": null,
   "metadata": {},
   "outputs": [],
   "source": []
  }
 ],
 "metadata": {
  "kernelspec": {
   "display_name": "Python 3",
   "language": "python",
   "name": "python3"
  },
  "language_info": {
   "codemirror_mode": {
    "name": "ipython",
    "version": 3
   },
   "file_extension": ".py",
   "mimetype": "text/x-python",
   "name": "python",
   "nbconvert_exporter": "python",
   "pygments_lexer": "ipython3",
   "version": "3.11.4"
  },
  "orig_nbformat": 4
 },
 "nbformat": 4,
 "nbformat_minor": 2
}
